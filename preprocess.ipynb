{
 "cells": [
  {
   "cell_type": "code",
   "execution_count": 27,
   "id": "bb0b08c0",
   "metadata": {},
   "outputs": [],
   "source": [
    "import pandas as pd\n",
    "from pathlib import Path\n",
    "from tqdm.notebook import tqdm\n",
    "from collections import defaultdict"
   ]
  },
  {
   "cell_type": "code",
   "execution_count": 40,
   "id": "0fe71f85",
   "metadata": {},
   "outputs": [
    {
     "name": "stdout",
     "output_type": "stream",
     "text": [
      "Split: train\n"
     ]
    },
    {
     "data": {
      "application/vnd.jupyter.widget-view+json": {
       "model_id": "29956768246346b88788936824df7b9a",
       "version_major": 2,
       "version_minor": 0
      },
      "text/plain": [
       "0it [00:00, ?it/s]"
      ]
     },
     "metadata": {},
     "output_type": "display_data"
    },
    {
     "name": "stdout",
     "output_type": "stream",
     "text": [
      "Split: dev\n"
     ]
    },
    {
     "data": {
      "application/vnd.jupyter.widget-view+json": {
       "model_id": "6e5cbf019b5143ce84563057f259de9b",
       "version_major": 2,
       "version_minor": 0
      },
      "text/plain": [
       "0it [00:00, ?it/s]"
      ]
     },
     "metadata": {},
     "output_type": "display_data"
    },
    {
     "name": "stdout",
     "output_type": "stream",
     "text": [
      "Split: test\n"
     ]
    },
    {
     "data": {
      "application/vnd.jupyter.widget-view+json": {
       "model_id": "083bca7482cf43d6b66ab2f02ae3b668",
       "version_major": 2,
       "version_minor": 0
      },
      "text/plain": [
       "0it [00:00, ?it/s]"
      ]
     },
     "metadata": {},
     "output_type": "display_data"
    }
   ],
   "source": [
    "splits = [\"train\", \"dev\", \"test\"]\n",
    "splits_dfs = defaultdict(list)\n",
    "\n",
    "for split in splits:\n",
    "    print(f\"Split: {split}\")\n",
    "    for path in tqdm(Path(f\"data/{split}\").iterdir()):\n",
    "        if not path.is_file():\n",
    "            continue\n",
    "\n",
    "        splits_dfs[split].append(pd.read_csv(path))\n",
    "    splits_dfs[split] = pd.concat(splits_dfs[split])"
   ]
  },
  {
   "cell_type": "code",
   "execution_count": 41,
   "id": "fd74f460",
   "metadata": {},
   "outputs": [
    {
     "name": "stdout",
     "output_type": "stream",
     "text": [
      "64\n",
      "64\n"
     ]
    }
   ],
   "source": [
    "# Use top 64 classes from train, similar top classes in dev/test\n",
    "n_classes = 64\n",
    "top_n_train = splits_dfs[\"train\"][\"family_accession\"].value_counts().head(n_classes)\n",
    "top_n_dev = splits_dfs[\"dev\"][\"family_accession\"].value_counts().head(2 + n_classes)\n",
    "top_n_test = splits_dfs[\"test\"][\"family_accession\"].value_counts().head(2 + n_classes)\n",
    "print(len(top_n_train.index.intersection(top_n_dev.index)))\n",
    "print(len(top_n_train.index.intersection(top_n_test.index)))"
   ]
  },
  {
   "cell_type": "code",
   "execution_count": 44,
   "id": "fec9aead",
   "metadata": {},
   "outputs": [
    {
     "name": "stdout",
     "output_type": "stream",
     "text": [
      "<class 'pandas.core.frame.DataFrame'>\n",
      "Index: 66226 entries, 8 to 13353\n",
      "Data columns (total 5 columns):\n",
      " #   Column            Non-Null Count  Dtype \n",
      "---  ------            --------------  ----- \n",
      " 0   family_id         66226 non-null  object\n",
      " 1   sequence_name     66226 non-null  object\n",
      " 2   family_accession  66226 non-null  object\n",
      " 3   aligned_sequence  66226 non-null  object\n",
      " 4   sequence          66226 non-null  object\n",
      "dtypes: object(5)\n",
      "memory usage: 3.0+ MB\n"
     ]
    },
    {
     "data": {
      "text/plain": [
       "None"
      ]
     },
     "metadata": {},
     "output_type": "display_data"
    },
    {
     "name": "stdout",
     "output_type": "stream",
     "text": [
      "<class 'pandas.core.frame.DataFrame'>\n",
      "Index: 8249 entries, 29 to 12755\n",
      "Data columns (total 5 columns):\n",
      " #   Column            Non-Null Count  Dtype \n",
      "---  ------            --------------  ----- \n",
      " 0   family_id         8249 non-null   object\n",
      " 1   sequence_name     8249 non-null   object\n",
      " 2   family_accession  8249 non-null   object\n",
      " 3   aligned_sequence  8249 non-null   object\n",
      " 4   sequence          8249 non-null   object\n",
      "dtypes: object(5)\n",
      "memory usage: 386.7+ KB\n"
     ]
    },
    {
     "data": {
      "text/plain": [
       "None"
      ]
     },
     "metadata": {},
     "output_type": "display_data"
    },
    {
     "name": "stdout",
     "output_type": "stream",
     "text": [
      "<class 'pandas.core.frame.DataFrame'>\n",
      "Index: 8242 entries, 1 to 12754\n",
      "Data columns (total 5 columns):\n",
      " #   Column            Non-Null Count  Dtype \n",
      "---  ------            --------------  ----- \n",
      " 0   family_id         8242 non-null   object\n",
      " 1   sequence_name     8242 non-null   object\n",
      " 2   family_accession  8242 non-null   object\n",
      " 3   aligned_sequence  8242 non-null   object\n",
      " 4   sequence          8242 non-null   object\n",
      "dtypes: object(5)\n",
      "memory usage: 386.3+ KB\n"
     ]
    },
    {
     "data": {
      "text/plain": [
       "None"
      ]
     },
     "metadata": {},
     "output_type": "display_data"
    }
   ],
   "source": [
    "rare_acids = [\"X\", \"U\", \"B\", \"O\", \"Z\"]\n",
    "\n",
    "\n",
    "def preprocess_df(df, max_seq_len=256, pad_token=\"-\"):\n",
    "    # filter for top n classes in train/dev, truncate and pad\n",
    "    df = df[df[\"family_accession\"].isin(top_n_train.index)]\n",
    "    df = df[~df[\"sequence\"].str.contains(\"|\".join(rare_acids), regex=True)]\n",
    "    df[\"sequence\"] = df[\"sequence\"].str.slice(0, max_seq_len)\n",
    "    df[\"sequence\"] = df[\"sequence\"].str.pad(\n",
    "        width=max_seq_len, side=\"right\", fillchar=pad_token\n",
    "    )\n",
    "    return df\n",
    "\n",
    "\n",
    "for split in splits:\n",
    "    splits_dfs[split] = preprocess_df(splits_dfs[split])\n",
    "    display(splits_dfs[split].info())"
   ]
  },
  {
   "cell_type": "code",
   "execution_count": 45,
   "id": "b2ee0b5c",
   "metadata": {},
   "outputs": [
    {
     "name": "stdout",
     "output_type": "stream",
     "text": [
      "Split proportion 80.06\n",
      "Split proportion 9.97\n",
      "Split proportion 9.96\n"
     ]
    }
   ],
   "source": [
    "total = sum([len(df) for df in splits_dfs.values()])\n",
    "for split in splits:\n",
    "    print(f\"Split proportion {len(splits_dfs[split]) / total * 100:.2f}\")"
   ]
  },
  {
   "cell_type": "code",
   "execution_count": 46,
   "id": "82b4707a",
   "metadata": {},
   "outputs": [],
   "source": [
    "save_path = \"data/processed_data\"\n",
    "for split, df in splits_dfs.items():\n",
    "    df.to_parquet(f\"{save_path}/{split}.parquet\")"
   ]
  },
  {
   "cell_type": "code",
   "execution_count": null,
   "id": "fad1e41f",
   "metadata": {},
   "outputs": [],
   "source": []
  }
 ],
 "metadata": {
  "kernelspec": {
   "display_name": "instadeep-bioai",
   "language": "python",
   "name": "python3"
  },
  "language_info": {
   "codemirror_mode": {
    "name": "ipython",
    "version": 3
   },
   "file_extension": ".py",
   "mimetype": "text/x-python",
   "name": "python",
   "nbconvert_exporter": "python",
   "pygments_lexer": "ipython3",
   "version": "3.12.7"
  }
 },
 "nbformat": 4,
 "nbformat_minor": 5
}
