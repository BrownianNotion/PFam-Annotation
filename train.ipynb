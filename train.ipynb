{
 "cells": [
  {
   "cell_type": "code",
   "execution_count": 116,
   "id": "8cfd9245",
   "metadata": {},
   "outputs": [],
   "source": [
    "import pandas as pd\n",
    "import torch\n",
    "from sklearn.preprocessing import LabelEncoder, OrdinalEncoder\n",
    "\n",
    "import torch.nn as nn\n",
    "import torch.nn.functional as F\n",
    "from torch.utils.data import DataLoader, TensorDataset\n",
    "from tqdm.notebook import tqdm\n",
    "from collections import defaultdict"
   ]
  },
  {
   "cell_type": "code",
   "execution_count": 117,
   "id": "bd8b7c22",
   "metadata": {},
   "outputs": [
    {
     "data": {
      "text/html": [
       "<div>\n",
       "<style scoped>\n",
       "    .dataframe tbody tr th:only-of-type {\n",
       "        vertical-align: middle;\n",
       "    }\n",
       "\n",
       "    .dataframe tbody tr th {\n",
       "        vertical-align: top;\n",
       "    }\n",
       "\n",
       "    .dataframe thead th {\n",
       "        text-align: right;\n",
       "    }\n",
       "</style>\n",
       "<table border=\"1\" class=\"dataframe\">\n",
       "  <thead>\n",
       "    <tr style=\"text-align: right;\">\n",
       "      <th></th>\n",
       "      <th>family_id</th>\n",
       "      <th>sequence_name</th>\n",
       "      <th>family_accession</th>\n",
       "      <th>aligned_sequence</th>\n",
       "      <th>sequence</th>\n",
       "    </tr>\n",
       "    <tr>\n",
       "      <th>index</th>\n",
       "      <th></th>\n",
       "      <th></th>\n",
       "      <th></th>\n",
       "      <th></th>\n",
       "      <th></th>\n",
       "    </tr>\n",
       "  </thead>\n",
       "  <tbody>\n",
       "    <tr>\n",
       "      <th>8</th>\n",
       "      <td>Trigger_N</td>\n",
       "      <td>F2I568_AERUA/1-145</td>\n",
       "      <td>PF05697.13</td>\n",
       "      <td>MSVKFEETAT...N.EGVLHFTVSKEDAQKA....LKQAYNRVKG....</td>\n",
       "      <td>MSVKFEETATNEGVLHFTVSKEDAQKALKQAYNRVKGKVNIPGFRK...</td>\n",
       "    </tr>\n",
       "    <tr>\n",
       "      <th>43</th>\n",
       "      <td>PCRF</td>\n",
       "      <td>D5ANC6_RHOCB/10-198</td>\n",
       "      <td>PF03462.18</td>\n",
       "      <td>ITARFEFLEAKL....NTAL......P.PAEIATL...SREY..SD...</td>\n",
       "      <td>ITARFEFLEAKLNTALPPAEIATLSREYSDLRPVVTEIAAYRQSLD...</td>\n",
       "    </tr>\n",
       "    <tr>\n",
       "      <th>68</th>\n",
       "      <td>IPPT</td>\n",
       "      <td>MIAA_ONYPE/37-265</td>\n",
       "      <td>PF01715.17</td>\n",
       "      <td>QMYQKYDIGTAKITL......EEA.....QGI.........K.......</td>\n",
       "      <td>QMYQKYDIGTAKITLEEAQGIKHHLLDFLAPGTNYSIYHFQKDARK...</td>\n",
       "    </tr>\n",
       "    <tr>\n",
       "      <th>71</th>\n",
       "      <td>HTH_1</td>\n",
       "      <td>Q9F2K8_STRCO/4-63</td>\n",
       "      <td>PF00126.27</td>\n",
       "      <td>VRHLECFVAVAEES.HFGRAAT.RLGM...AQPPLSQRIQRLEK.E...</td>\n",
       "      <td>VRHLECFVAVAEESHFGRAATRLGMAQPPLSQRIQRLEKELGVRLF...</td>\n",
       "    </tr>\n",
       "    <tr>\n",
       "      <th>99</th>\n",
       "      <td>Methyltransf_25</td>\n",
       "      <td>Q2S1D8_SALRD/44-141</td>\n",
       "      <td>PF13649.6</td>\n",
       "      <td>ILDIGCGR.G...R..HA...RA..LV.RR.......G...........</td>\n",
       "      <td>ILDIGCGRGRHARALVRRGWQVTGLDLSEDAVAAARSRVADDDLDV...</td>\n",
       "    </tr>\n",
       "    <tr>\n",
       "      <th>...</th>\n",
       "      <td>...</td>\n",
       "      <td>...</td>\n",
       "      <td>...</td>\n",
       "      <td>...</td>\n",
       "      <td>...</td>\n",
       "    </tr>\n",
       "    <tr>\n",
       "      <th>13278</th>\n",
       "      <td>His_kinase</td>\n",
       "      <td>D2PX86_KRIFD/171-249</td>\n",
       "      <td>PF06580.13</td>\n",
       "      <td>AE.L..RALRAQISPHFIYNALAAI......A....SF...V.......</td>\n",
       "      <td>AELRALRAQISPHFIYNALAAIASFVRTDPERARELLLEFADFSRY...</td>\n",
       "    </tr>\n",
       "    <tr>\n",
       "      <th>13287</th>\n",
       "      <td>Glycos_trans_3N</td>\n",
       "      <td>D7BI04_MEISD/4-63</td>\n",
       "      <td>PF02885.17</td>\n",
       "      <td>...LKKALHA.....E.PLTQDEAHRLMSRI..MS.GD...........</td>\n",
       "      <td>LKKALHAEPLTQDEAHRLMSRIMSGDLTPAQTAGVLIALRTRGETL...</td>\n",
       "    </tr>\n",
       "    <tr>\n",
       "      <th>13304</th>\n",
       "      <td>MutS_III</td>\n",
       "      <td>MSH3_MOUSE/498-793</td>\n",
       "      <td>PF05192.18</td>\n",
       "      <td>TTLRNLEM.VQ................NQTDM.................</td>\n",
       "      <td>TTLRNLEMVQNQTDMKTKGSLLWVLDHTKTSFGRRKLKNWVTQPLL...</td>\n",
       "    </tr>\n",
       "    <tr>\n",
       "      <th>13349</th>\n",
       "      <td>Glycos_trans_3N</td>\n",
       "      <td>G0A160_METMM/11-75</td>\n",
       "      <td>PF02885.17</td>\n",
       "      <td>AEFIKILGKGKK.GSR.PLTQDEAYRAMKMI..LA.GE...........</td>\n",
       "      <td>AEFIKILGKGKKGSRPLTQDEAYRAMKMILAGEVQPIQLGAFLMLM...</td>\n",
       "    </tr>\n",
       "    <tr>\n",
       "      <th>13353</th>\n",
       "      <td>Methyltransf_25</td>\n",
       "      <td>F5XFZ5_MICPN/59-155</td>\n",
       "      <td>PF13649.6</td>\n",
       "      <td>VVDLGCGS.G...A..ST...DA..LV.NS.......MG.HRG......</td>\n",
       "      <td>VVDLGCGSGASTDALVNSMGHRGETYAAIGIDASAGMLTEAHSKPW...</td>\n",
       "    </tr>\n",
       "  </tbody>\n",
       "</table>\n",
       "<p>66226 rows × 5 columns</p>\n",
       "</div>"
      ],
      "text/plain": [
       "             family_id         sequence_name family_accession  \\\n",
       "index                                                           \n",
       "8            Trigger_N    F2I568_AERUA/1-145       PF05697.13   \n",
       "43                PCRF   D5ANC6_RHOCB/10-198       PF03462.18   \n",
       "68                IPPT     MIAA_ONYPE/37-265       PF01715.17   \n",
       "71               HTH_1     Q9F2K8_STRCO/4-63       PF00126.27   \n",
       "99     Methyltransf_25   Q2S1D8_SALRD/44-141        PF13649.6   \n",
       "...                ...                   ...              ...   \n",
       "13278       His_kinase  D2PX86_KRIFD/171-249       PF06580.13   \n",
       "13287  Glycos_trans_3N     D7BI04_MEISD/4-63       PF02885.17   \n",
       "13304         MutS_III    MSH3_MOUSE/498-793       PF05192.18   \n",
       "13349  Glycos_trans_3N    G0A160_METMM/11-75       PF02885.17   \n",
       "13353  Methyltransf_25   F5XFZ5_MICPN/59-155        PF13649.6   \n",
       "\n",
       "                                        aligned_sequence  \\\n",
       "index                                                      \n",
       "8      MSVKFEETAT...N.EGVLHFTVSKEDAQKA....LKQAYNRVKG....   \n",
       "43     ITARFEFLEAKL....NTAL......P.PAEIATL...SREY..SD...   \n",
       "68     QMYQKYDIGTAKITL......EEA.....QGI.........K.......   \n",
       "71     VRHLECFVAVAEES.HFGRAAT.RLGM...AQPPLSQRIQRLEK.E...   \n",
       "99     ILDIGCGR.G...R..HA...RA..LV.RR.......G...........   \n",
       "...                                                  ...   \n",
       "13278  AE.L..RALRAQISPHFIYNALAAI......A....SF...V.......   \n",
       "13287  ...LKKALHA.....E.PLTQDEAHRLMSRI..MS.GD...........   \n",
       "13304  TTLRNLEM.VQ................NQTDM.................   \n",
       "13349  AEFIKILGKGKK.GSR.PLTQDEAYRAMKMI..LA.GE...........   \n",
       "13353  VVDLGCGS.G...A..ST...DA..LV.NS.......MG.HRG......   \n",
       "\n",
       "                                                sequence  \n",
       "index                                                     \n",
       "8      MSVKFEETATNEGVLHFTVSKEDAQKALKQAYNRVKGKVNIPGFRK...  \n",
       "43     ITARFEFLEAKLNTALPPAEIATLSREYSDLRPVVTEIAAYRQSLD...  \n",
       "68     QMYQKYDIGTAKITLEEAQGIKHHLLDFLAPGTNYSIYHFQKDARK...  \n",
       "71     VRHLECFVAVAEESHFGRAATRLGMAQPPLSQRIQRLEKELGVRLF...  \n",
       "99     ILDIGCGRGRHARALVRRGWQVTGLDLSEDAVAAARSRVADDDLDV...  \n",
       "...                                                  ...  \n",
       "13278  AELRALRAQISPHFIYNALAAIASFVRTDPERARELLLEFADFSRY...  \n",
       "13287  LKKALHAEPLTQDEAHRLMSRIMSGDLTPAQTAGVLIALRTRGETL...  \n",
       "13304  TTLRNLEMVQNQTDMKTKGSLLWVLDHTKTSFGRRKLKNWVTQPLL...  \n",
       "13349  AEFIKILGKGKKGSRPLTQDEAYRAMKMILAGEVQPIQLGAFLMLM...  \n",
       "13353  VVDLGCGSGASTDALVNSMGHRGETYAAIGIDASAGMLTEAHSKPW...  \n",
       "\n",
       "[66226 rows x 5 columns]"
      ]
     },
     "metadata": {},
     "output_type": "display_data"
    },
    {
     "data": {
      "text/html": [
       "<div>\n",
       "<style scoped>\n",
       "    .dataframe tbody tr th:only-of-type {\n",
       "        vertical-align: middle;\n",
       "    }\n",
       "\n",
       "    .dataframe tbody tr th {\n",
       "        vertical-align: top;\n",
       "    }\n",
       "\n",
       "    .dataframe thead th {\n",
       "        text-align: right;\n",
       "    }\n",
       "</style>\n",
       "<table border=\"1\" class=\"dataframe\">\n",
       "  <thead>\n",
       "    <tr style=\"text-align: right;\">\n",
       "      <th></th>\n",
       "      <th>family_id</th>\n",
       "      <th>sequence_name</th>\n",
       "      <th>family_accession</th>\n",
       "      <th>aligned_sequence</th>\n",
       "      <th>sequence</th>\n",
       "    </tr>\n",
       "    <tr>\n",
       "      <th>index</th>\n",
       "      <th></th>\n",
       "      <th></th>\n",
       "      <th></th>\n",
       "      <th></th>\n",
       "      <th></th>\n",
       "    </tr>\n",
       "  </thead>\n",
       "  <tbody>\n",
       "    <tr>\n",
       "      <th>29</th>\n",
       "      <td>BacA</td>\n",
       "      <td>UPPP_OCHA4/9-259</td>\n",
       "      <td>PF02673.18</td>\n",
       "      <td>AAFLGLIEGLTEFIPVSSTGHL..LLIGHF.L....GFES.........</td>\n",
       "      <td>AAFLGLIEGLTEFIPVSSTGHLLLIGHFLGFESTGKTFEVLIQLGA...</td>\n",
       "    </tr>\n",
       "    <tr>\n",
       "      <th>37</th>\n",
       "      <td>DNA_binding_1</td>\n",
       "      <td>R7XUX1_9ACTN/76-156</td>\n",
       "      <td>PF01035.20</td>\n",
       "      <td>AFQQRV.WEQ.LRL..IPYGETASYGEIA................G...</td>\n",
       "      <td>AFQQRVWEQLRLIPYGETASYGEIAGRLGMTNAASRAVGLANGRNP...</td>\n",
       "    </tr>\n",
       "    <tr>\n",
       "      <th>43</th>\n",
       "      <td>PCRF</td>\n",
       "      <td>RF1_BACAN/8-202</td>\n",
       "      <td>PF03462.18</td>\n",
       "      <td>VENRYEKLNELL....SDPAII.S..D.SNKLREY...SKEQ..SD...</td>\n",
       "      <td>VENRYEKLNELLSDPAIISDSNKLREYSKEQSDIQETVEVYREYKD...</td>\n",
       "    </tr>\n",
       "    <tr>\n",
       "      <th>61</th>\n",
       "      <td>Lipase_GDSL_2</td>\n",
       "      <td>G0RZP4_CHATD/19-209</td>\n",
       "      <td>PF13472.6</td>\n",
       "      <td>CFGDS.LTA.......GYCSM............................</td>\n",
       "      <td>CFGDSLTAGYCSMGAMFHPYHERLEQMLAMAFPDIAFETVEDGVPG...</td>\n",
       "    </tr>\n",
       "    <tr>\n",
       "      <th>72</th>\n",
       "      <td>gag_pre-integrs</td>\n",
       "      <td>Q8TFK0_DEBHN/195-267</td>\n",
       "      <td>PF13976.6</td>\n",
       "      <td>NNKYI..KI..........S....N.M...N.H...........E....</td>\n",
       "      <td>NNKYIKISNMNHEIANPFKRKRDLMYYHLMGNHMSLESMKYLIKSG...</td>\n",
       "    </tr>\n",
       "    <tr>\n",
       "      <th>...</th>\n",
       "      <td>...</td>\n",
       "      <td>...</td>\n",
       "      <td>...</td>\n",
       "      <td>...</td>\n",
       "      <td>...</td>\n",
       "    </tr>\n",
       "    <tr>\n",
       "      <th>12724</th>\n",
       "      <td>Ala_racemase_C</td>\n",
       "      <td>R6NDI3_9CLOT/243-369</td>\n",
       "      <td>PF00842.21</td>\n",
       "      <td>ALSWHARISHIKTL.EAGR.E..ISYGGTF.TTVK.P.TVVATVPV...</td>\n",
       "      <td>ALSWHARISHIKTLEAGREISYGGTFTTVKPTVVATVPVGYADGYP...</td>\n",
       "    </tr>\n",
       "    <tr>\n",
       "      <th>12727</th>\n",
       "      <td>THF_DHG_CYH</td>\n",
       "      <td>B2ATS2_PODAN/22-135</td>\n",
       "      <td>PF00763.23</td>\n",
       "      <td>VILADTIAK...K........MLA.EVQ...STL...............</td>\n",
       "      <td>VILADTIAKKMLAEVQSTLSAIQLPRRPTLSAFLANDDPHAYQYAE...</td>\n",
       "    </tr>\n",
       "    <tr>\n",
       "      <th>12728</th>\n",
       "      <td>Ig_3</td>\n",
       "      <td>A8X5T7_CAEBR/262-333</td>\n",
       "      <td>PF13927.6</td>\n",
       "      <td>KPIVF......VTPTENLTH...LSVEEGE.LVN....L.TC..NA...</td>\n",
       "      <td>KPIVFVTPTENLTHLSVEEGELVNLTCNAAANPPAHSYEWKHISSG...</td>\n",
       "    </tr>\n",
       "    <tr>\n",
       "      <th>12735</th>\n",
       "      <td>Trigger_N</td>\n",
       "      <td>E6JYT1_PARDN/1-149</td>\n",
       "      <td>PF05697.13</td>\n",
       "      <td>MKITMRNV.E.P.T.KKVLTVTVDQEELEPY....MDKARKEIAN....</td>\n",
       "      <td>MKITMRNVEPTKKVLTVTVDQEELEPYMDKARKEIANQVNIPGFRK...</td>\n",
       "    </tr>\n",
       "    <tr>\n",
       "      <th>12755</th>\n",
       "      <td>THF_DHG_CYH</td>\n",
       "      <td>R6BHS1_9CLOT/3-113</td>\n",
       "      <td>PF00763.23</td>\n",
       "      <td>LLDGKNLSA...K........IKD.ELK...GNI...............</td>\n",
       "      <td>LLDGKNLSAKIKDELKGNINSYKETPVLAVITIGKYNEKFVNNKKK...</td>\n",
       "    </tr>\n",
       "  </tbody>\n",
       "</table>\n",
       "<p>8249 rows × 5 columns</p>\n",
       "</div>"
      ],
      "text/plain": [
       "             family_id         sequence_name family_accession  \\\n",
       "index                                                           \n",
       "29                BacA      UPPP_OCHA4/9-259       PF02673.18   \n",
       "37       DNA_binding_1   R7XUX1_9ACTN/76-156       PF01035.20   \n",
       "43                PCRF       RF1_BACAN/8-202       PF03462.18   \n",
       "61       Lipase_GDSL_2   G0RZP4_CHATD/19-209        PF13472.6   \n",
       "72     gag_pre-integrs  Q8TFK0_DEBHN/195-267        PF13976.6   \n",
       "...                ...                   ...              ...   \n",
       "12724   Ala_racemase_C  R6NDI3_9CLOT/243-369       PF00842.21   \n",
       "12727      THF_DHG_CYH   B2ATS2_PODAN/22-135       PF00763.23   \n",
       "12728             Ig_3  A8X5T7_CAEBR/262-333        PF13927.6   \n",
       "12735        Trigger_N    E6JYT1_PARDN/1-149       PF05697.13   \n",
       "12755      THF_DHG_CYH    R6BHS1_9CLOT/3-113       PF00763.23   \n",
       "\n",
       "                                        aligned_sequence  \\\n",
       "index                                                      \n",
       "29     AAFLGLIEGLTEFIPVSSTGHL..LLIGHF.L....GFES.........   \n",
       "37     AFQQRV.WEQ.LRL..IPYGETASYGEIA................G...   \n",
       "43     VENRYEKLNELL....SDPAII.S..D.SNKLREY...SKEQ..SD...   \n",
       "61     CFGDS.LTA.......GYCSM............................   \n",
       "72     NNKYI..KI..........S....N.M...N.H...........E....   \n",
       "...                                                  ...   \n",
       "12724  ALSWHARISHIKTL.EAGR.E..ISYGGTF.TTVK.P.TVVATVPV...   \n",
       "12727  VILADTIAK...K........MLA.EVQ...STL...............   \n",
       "12728  KPIVF......VTPTENLTH...LSVEEGE.LVN....L.TC..NA...   \n",
       "12735  MKITMRNV.E.P.T.KKVLTVTVDQEELEPY....MDKARKEIAN....   \n",
       "12755  LLDGKNLSA...K........IKD.ELK...GNI...............   \n",
       "\n",
       "                                                sequence  \n",
       "index                                                     \n",
       "29     AAFLGLIEGLTEFIPVSSTGHLLLIGHFLGFESTGKTFEVLIQLGA...  \n",
       "37     AFQQRVWEQLRLIPYGETASYGEIAGRLGMTNAASRAVGLANGRNP...  \n",
       "43     VENRYEKLNELLSDPAIISDSNKLREYSKEQSDIQETVEVYREYKD...  \n",
       "61     CFGDSLTAGYCSMGAMFHPYHERLEQMLAMAFPDIAFETVEDGVPG...  \n",
       "72     NNKYIKISNMNHEIANPFKRKRDLMYYHLMGNHMSLESMKYLIKSG...  \n",
       "...                                                  ...  \n",
       "12724  ALSWHARISHIKTLEAGREISYGGTFTTVKPTVVATVPVGYADGYP...  \n",
       "12727  VILADTIAKKMLAEVQSTLSAIQLPRRPTLSAFLANDDPHAYQYAE...  \n",
       "12728  KPIVFVTPTENLTHLSVEEGELVNLTCNAAANPPAHSYEWKHISSG...  \n",
       "12735  MKITMRNVEPTKKVLTVTVDQEELEPYMDKARKEIANQVNIPGFRK...  \n",
       "12755  LLDGKNLSAKIKDELKGNINSYKETPVLAVITIGKYNEKFVNNKKK...  \n",
       "\n",
       "[8249 rows x 5 columns]"
      ]
     },
     "metadata": {},
     "output_type": "display_data"
    },
    {
     "data": {
      "text/html": [
       "<div>\n",
       "<style scoped>\n",
       "    .dataframe tbody tr th:only-of-type {\n",
       "        vertical-align: middle;\n",
       "    }\n",
       "\n",
       "    .dataframe tbody tr th {\n",
       "        vertical-align: top;\n",
       "    }\n",
       "\n",
       "    .dataframe thead th {\n",
       "        text-align: right;\n",
       "    }\n",
       "</style>\n",
       "<table border=\"1\" class=\"dataframe\">\n",
       "  <thead>\n",
       "    <tr style=\"text-align: right;\">\n",
       "      <th></th>\n",
       "      <th>family_id</th>\n",
       "      <th>sequence_name</th>\n",
       "      <th>family_accession</th>\n",
       "      <th>aligned_sequence</th>\n",
       "      <th>sequence</th>\n",
       "    </tr>\n",
       "    <tr>\n",
       "      <th>index</th>\n",
       "      <th></th>\n",
       "      <th></th>\n",
       "      <th></th>\n",
       "      <th></th>\n",
       "      <th></th>\n",
       "    </tr>\n",
       "  </thead>\n",
       "  <tbody>\n",
       "    <tr>\n",
       "      <th>1</th>\n",
       "      <td>DnaJ_C</td>\n",
       "      <td>M4V8X0_9PROT/126-339</td>\n",
       "      <td>PF01556.18</td>\n",
       "      <td>LRFITEIELEEVISG.K.E.....AQI......EF..............</td>\n",
       "      <td>LRFITEIELEEVISGKEAQIEFDTEANCDDCNGSGAAKGSSATTCP...</td>\n",
       "    </tr>\n",
       "    <tr>\n",
       "      <th>9</th>\n",
       "      <td>TrmE_N</td>\n",
       "      <td>B0X5R4_CULQU/21-138</td>\n",
       "      <td>PF10396.9</td>\n",
       "      <td>TIFGLSS..G..S..G.K..C.G..VAVIRVSG................</td>\n",
       "      <td>TIFGLSSGSGKCGVAVIRVSGDASSDVVHRKTSSNKLPAARQAVLR...</td>\n",
       "    </tr>\n",
       "    <tr>\n",
       "      <th>16</th>\n",
       "      <td>Lipase_GDSL_2</td>\n",
       "      <td>H6MZH3_GORPV/43-278</td>\n",
       "      <td>PF13472.6</td>\n",
       "      <td>ALGDS.RAS.......GNMPGLQ......................P...</td>\n",
       "      <td>ALGDSRASGNMPGLQPSDGCWRSSTSYPSVLARIAHVRSFVDRSCA...</td>\n",
       "    </tr>\n",
       "    <tr>\n",
       "      <th>26</th>\n",
       "      <td>UPF0051</td>\n",
       "      <td>Q7UKR5_RHOBA/213-439</td>\n",
       "      <td>PF01458.17</td>\n",
       "      <td>GQFERT.....L.I.....IVDEG.....ASI..HYV............</td>\n",
       "      <td>GQFERTLIIVDEGASIHYVEGCTAPMYTTESLHSAVVEVIVKKDAR...</td>\n",
       "    </tr>\n",
       "    <tr>\n",
       "      <th>56</th>\n",
       "      <td>THF_DHG_CYH</td>\n",
       "      <td>S3CNX4_OPHP1/11-126</td>\n",
       "      <td>PF00763.23</td>\n",
       "      <td>.ILADSIGK...N........MLV.EVQ...ESR...............</td>\n",
       "      <td>ILADSIGKNMLVEVQESRDAFRKEHGIERKLCLAAFLANDDPHAVK...</td>\n",
       "    </tr>\n",
       "    <tr>\n",
       "      <th>...</th>\n",
       "      <td>...</td>\n",
       "      <td>...</td>\n",
       "      <td>...</td>\n",
       "      <td>...</td>\n",
       "      <td>...</td>\n",
       "    </tr>\n",
       "    <tr>\n",
       "      <th>12706</th>\n",
       "      <td>Chromate_transp</td>\n",
       "      <td>F2F022_SOLSS/4-171</td>\n",
       "      <td>PF02417.15</td>\n",
       "      <td>WELFIAFLIPNLLAYGGGPASI.PLIEHEV........VD.........</td>\n",
       "      <td>WELFIAFLIPNLLAYGGGPASIPLIEHEVVDRYEWMTQSEFSEFLA...</td>\n",
       "    </tr>\n",
       "    <tr>\n",
       "      <th>12708</th>\n",
       "      <td>E3_binding</td>\n",
       "      <td>A8LBI7_FRASN/171-205</td>\n",
       "      <td>PF02817.17</td>\n",
       "      <td>.VISPLVR.RLARDNAV....DLR..EL..T....G....T.GPDG...</td>\n",
       "      <td>VISPLVRRLARDNAVDLRELTGTGPDGLIRRRDVE-----------...</td>\n",
       "    </tr>\n",
       "    <tr>\n",
       "      <th>12730</th>\n",
       "      <td>THF_DHG_CYH</td>\n",
       "      <td>C6WZR6_FLAB3/4-120</td>\n",
       "      <td>PF00763.23</td>\n",
       "      <td>ILDGLKVSK...E........IKN.EIR...TDV...............</td>\n",
       "      <td>ILDGLKVSKEIKNEIRTDVEKIVEGKRRPPHLVAILVGQNGASISY...</td>\n",
       "    </tr>\n",
       "    <tr>\n",
       "      <th>12736</th>\n",
       "      <td>RF-1</td>\n",
       "      <td>R6NI69_9CLOT/228-338</td>\n",
       "      <td>PF00472.20</td>\n",
       "      <td>DTVE..VE..IN.PDDLKI.DYYR.SSGAGGQKVNKTSSAVRI......</td>\n",
       "      <td>DTVEVEINPDDLKIDYYRSSGAGGQKVNKTSSAVRITHIPTGIVCA...</td>\n",
       "    </tr>\n",
       "    <tr>\n",
       "      <th>12754</th>\n",
       "      <td>Glyco_trans_1_4</td>\n",
       "      <td>B8FJ84_DESAA/245-385</td>\n",
       "      <td>PF13692.6</td>\n",
       "      <td>KNRLLVTN...SA.DT.....PLKGL.YHL..LKAV.HEVR....K...</td>\n",
       "      <td>KNRLLVTNSADTPLKGLYHLLKAVHEVRKKRDVTLTVIGAPKKHGG...</td>\n",
       "    </tr>\n",
       "  </tbody>\n",
       "</table>\n",
       "<p>8242 rows × 5 columns</p>\n",
       "</div>"
      ],
      "text/plain": [
       "             family_id         sequence_name family_accession  \\\n",
       "index                                                           \n",
       "1               DnaJ_C  M4V8X0_9PROT/126-339       PF01556.18   \n",
       "9               TrmE_N   B0X5R4_CULQU/21-138        PF10396.9   \n",
       "16       Lipase_GDSL_2   H6MZH3_GORPV/43-278        PF13472.6   \n",
       "26             UPF0051  Q7UKR5_RHOBA/213-439       PF01458.17   \n",
       "56         THF_DHG_CYH   S3CNX4_OPHP1/11-126       PF00763.23   \n",
       "...                ...                   ...              ...   \n",
       "12706  Chromate_transp    F2F022_SOLSS/4-171       PF02417.15   \n",
       "12708       E3_binding  A8LBI7_FRASN/171-205       PF02817.17   \n",
       "12730      THF_DHG_CYH    C6WZR6_FLAB3/4-120       PF00763.23   \n",
       "12736             RF-1  R6NI69_9CLOT/228-338       PF00472.20   \n",
       "12754  Glyco_trans_1_4  B8FJ84_DESAA/245-385        PF13692.6   \n",
       "\n",
       "                                        aligned_sequence  \\\n",
       "index                                                      \n",
       "1      LRFITEIELEEVISG.K.E.....AQI......EF..............   \n",
       "9      TIFGLSS..G..S..G.K..C.G..VAVIRVSG................   \n",
       "16     ALGDS.RAS.......GNMPGLQ......................P...   \n",
       "26     GQFERT.....L.I.....IVDEG.....ASI..HYV............   \n",
       "56     .ILADSIGK...N........MLV.EVQ...ESR...............   \n",
       "...                                                  ...   \n",
       "12706  WELFIAFLIPNLLAYGGGPASI.PLIEHEV........VD.........   \n",
       "12708  .VISPLVR.RLARDNAV....DLR..EL..T....G....T.GPDG...   \n",
       "12730  ILDGLKVSK...E........IKN.EIR...TDV...............   \n",
       "12736  DTVE..VE..IN.PDDLKI.DYYR.SSGAGGQKVNKTSSAVRI......   \n",
       "12754  KNRLLVTN...SA.DT.....PLKGL.YHL..LKAV.HEVR....K...   \n",
       "\n",
       "                                                sequence  \n",
       "index                                                     \n",
       "1      LRFITEIELEEVISGKEAQIEFDTEANCDDCNGSGAAKGSSATTCP...  \n",
       "9      TIFGLSSGSGKCGVAVIRVSGDASSDVVHRKTSSNKLPAARQAVLR...  \n",
       "16     ALGDSRASGNMPGLQPSDGCWRSSTSYPSVLARIAHVRSFVDRSCA...  \n",
       "26     GQFERTLIIVDEGASIHYVEGCTAPMYTTESLHSAVVEVIVKKDAR...  \n",
       "56     ILADSIGKNMLVEVQESRDAFRKEHGIERKLCLAAFLANDDPHAVK...  \n",
       "...                                                  ...  \n",
       "12706  WELFIAFLIPNLLAYGGGPASIPLIEHEVVDRYEWMTQSEFSEFLA...  \n",
       "12708  VISPLVRRLARDNAVDLRELTGTGPDGLIRRRDVE-----------...  \n",
       "12730  ILDGLKVSKEIKNEIRTDVEKIVEGKRRPPHLVAILVGQNGASISY...  \n",
       "12736  DTVEVEINPDDLKIDYYRSSGAGGQKVNKTSSAVRITHIPTGIVCA...  \n",
       "12754  KNRLLVTNSADTPLKGLYHLLKAVHEVRKKRDVTLTVIGAPKKHGG...  \n",
       "\n",
       "[8242 rows x 5 columns]"
      ]
     },
     "metadata": {},
     "output_type": "display_data"
    }
   ],
   "source": [
    "train_df = pd.read_parquet(\"data/processed_data/train.parquet\")\n",
    "valid_df = pd.read_parquet(\"data/processed_data/dev.parquet\")\n",
    "test_df = pd.read_parquet(\"data/processed_data/test.parquet\")\n",
    "display(train_df)\n",
    "display(valid_df)\n",
    "display(test_df)"
   ]
  },
  {
   "cell_type": "code",
   "execution_count": 88,
   "id": "dd3ea7e2",
   "metadata": {},
   "outputs": [
    {
     "name": "stdout",
     "output_type": "stream",
     "text": [
      "256 64\n"
     ]
    }
   ],
   "source": [
    "MAX_SEQ_LEN = train_df[\"sequence\"].str.len().max()\n",
    "N_CLASSES = len(train_df[\"family_accession\"].unique())\n",
    "print(MAX_SEQ_LEN, N_CLASSES)"
   ]
  },
  {
   "cell_type": "code",
   "execution_count": 89,
   "id": "e887c46d",
   "metadata": {},
   "outputs": [
    {
     "data": {
      "text/plain": [
       "array([51, 45, 26, ..., 50, 42, 58], shape=(66226,))"
      ]
     },
     "metadata": {},
     "output_type": "display_data"
    },
    {
     "data": {
      "text/plain": [
       "array([34, 14, 45, ..., 60, 51, 12], shape=(8249,))"
      ]
     },
     "metadata": {},
     "output_type": "display_data"
    },
    {
     "data": {
      "text/plain": [
       "array([24, 54, 56, ..., 12,  7, 59], shape=(8242,))"
      ]
     },
     "metadata": {},
     "output_type": "display_data"
    }
   ],
   "source": [
    "le = LabelEncoder()\n",
    "y_train = train_df[\"family_accession\"].to_numpy()\n",
    "y_train = le.fit_transform(y_train)\n",
    "y_valid = le.transform(valid_df[\"family_accession\"].to_numpy())\n",
    "y_test = le.transform(test_df[\"family_accession\"].to_numpy())\n",
    "\n",
    "display(y_train, y_valid, y_test)"
   ]
  },
  {
   "cell_type": "code",
   "execution_count": 90,
   "id": "c7a1167d",
   "metadata": {},
   "outputs": [
    {
     "data": {
      "text/plain": [
       "array([['M', 'S', 'V', ..., '-', '-', '-'],\n",
       "       ['I', 'T', 'A', ..., '-', '-', '-'],\n",
       "       ['Q', 'M', 'Y', ..., '-', '-', '-'],\n",
       "       ...,\n",
       "       ['T', 'T', 'L', ..., 'R', 'E', 'Q'],\n",
       "       ['A', 'E', 'F', ..., '-', '-', '-'],\n",
       "       ['V', 'V', 'D', ..., '-', '-', '-']],\n",
       "      shape=(66226, 256), dtype=object)"
      ]
     },
     "execution_count": 90,
     "metadata": {},
     "output_type": "execute_result"
    }
   ],
   "source": [
    "def make_features(df):\n",
    "    # iloc remove start/end padding of \"\"\n",
    "    X = df[\"sequence\"].str.split(\"\", expand=True).iloc[:, 1:-1].to_numpy()\n",
    "    return X\n",
    "\n",
    "\n",
    "make_features(train_df)"
   ]
  },
  {
   "cell_type": "code",
   "execution_count": 91,
   "id": "1ab5558f",
   "metadata": {},
   "outputs": [
    {
     "data": {
      "text/plain": [
       "['-',\n",
       " 'A',\n",
       " 'C',\n",
       " 'D',\n",
       " 'E',\n",
       " 'F',\n",
       " 'G',\n",
       " 'H',\n",
       " 'I',\n",
       " 'K',\n",
       " 'L',\n",
       " 'M',\n",
       " 'N',\n",
       " 'P',\n",
       " 'Q',\n",
       " 'R',\n",
       " 'S',\n",
       " 'T',\n",
       " 'V',\n",
       " 'W',\n",
       " 'Y']"
      ]
     },
     "execution_count": 91,
     "metadata": {},
     "output_type": "execute_result"
    }
   ],
   "source": [
    "alphabet = [\"-\"] + list(\"ACDEFGHIKLMNPQRSTVWY\")\n",
    "alphabet"
   ]
  },
  {
   "cell_type": "code",
   "execution_count": 92,
   "id": "e3689610",
   "metadata": {},
   "outputs": [
    {
     "data": {
      "text/plain": [
       "array([[11., 16., 18., ...,  0.,  0.,  0.],\n",
       "       [ 8., 17.,  1., ...,  0.,  0.,  0.],\n",
       "       [14., 11., 20., ...,  0.,  0.,  0.],\n",
       "       ...,\n",
       "       [17., 17., 10., ..., 15.,  4., 14.],\n",
       "       [ 1.,  4.,  5., ...,  0.,  0.,  0.],\n",
       "       [18., 18.,  3., ...,  0.,  0.,  0.]], shape=(66226, 256))"
      ]
     },
     "metadata": {},
     "output_type": "display_data"
    },
    {
     "data": {
      "text/plain": [
       "array([[ 1.,  1.,  5., ...,  0.,  0.,  0.],\n",
       "       [ 1.,  5., 14., ...,  0.,  0.,  0.],\n",
       "       [18.,  4., 12., ...,  0.,  0.,  0.],\n",
       "       ...,\n",
       "       [ 9., 13.,  8., ...,  0.,  0.,  0.],\n",
       "       [11.,  9.,  8., ...,  0.,  0.,  0.],\n",
       "       [10., 10.,  3., ...,  0.,  0.,  0.]], shape=(8249, 256))"
      ]
     },
     "metadata": {},
     "output_type": "display_data"
    },
    {
     "data": {
      "text/plain": [
       "array([[10., 15.,  5., ...,  0.,  0.,  0.],\n",
       "       [17.,  8.,  5., ...,  0.,  0.,  0.],\n",
       "       [ 1., 10.,  6., ...,  0.,  0.,  0.],\n",
       "       ...,\n",
       "       [ 8., 10.,  3., ...,  0.,  0.,  0.],\n",
       "       [ 3., 17., 18., ...,  0.,  0.,  0.],\n",
       "       [ 9., 12., 15., ...,  0.,  0.,  0.]], shape=(8242, 256))"
      ]
     },
     "metadata": {},
     "output_type": "display_data"
    }
   ],
   "source": [
    "oe = OrdinalEncoder(categories=[alphabet] * MAX_SEQ_LEN)\n",
    "X_train = oe.fit_transform(make_features(train_df))\n",
    "X_valid = oe.transform(make_features(valid_df))\n",
    "X_test = oe.transform(make_features(test_df))\n",
    "display(X_train, X_valid, X_test)"
   ]
  },
  {
   "cell_type": "code",
   "execution_count": 93,
   "id": "87d4753b",
   "metadata": {},
   "outputs": [],
   "source": [
    "# models:\n",
    "# 1. simple knn\n",
    "# 2. protcnn\n",
    "# 3."
   ]
  },
  {
   "cell_type": "code",
   "execution_count": 94,
   "id": "823d7573",
   "metadata": {},
   "outputs": [
    {
     "name": "stdout",
     "output_type": "stream",
     "text": [
      "accuracy_score: 0.932\n",
      "balanced_accuracy_score: 0.931\n",
      "f1_score: 0.931\n"
     ]
    }
   ],
   "source": [
    "from sklearn.neighbors import KNeighborsClassifier\n",
    "from sklearn.metrics import accuracy_score, balanced_accuracy_score, f1_score\n",
    "\n",
    "knn = KNeighborsClassifier(n_neighbors=5, weights=\"distance\")\n",
    "knn.fit(X_train, y_train)\n",
    "y_pred = knn.predict(X_valid)\n",
    "\n",
    "metrics = [\n",
    "    (accuracy_score, {}),\n",
    "    (balanced_accuracy_score, {}),\n",
    "    (f1_score, {\"average\": \"weighted\"}),\n",
    "]\n",
    "\n",
    "for metric, kwargs in metrics:\n",
    "    print(f\"{metric.__name__}: {metric(y_valid, y_pred, **kwargs):.3f}\")"
   ]
  },
  {
   "cell_type": "code",
   "execution_count": 95,
   "id": "1592f847",
   "metadata": {},
   "outputs": [
    {
     "name": "stdout",
     "output_type": "stream",
     "text": [
      "micro f1-score 0.932\n",
      "macro f1-score 0.931\n",
      "weighted f1-score 0.931\n"
     ]
    }
   ],
   "source": [
    "for average in [\"micro\", \"macro\", \"weighted\"]:\n",
    "    score = f1_score(y_valid, y_pred, average=average)\n",
    "    print(f\"{average} f1-score {score:.3f}\")"
   ]
  },
  {
   "cell_type": "code",
   "execution_count": 99,
   "id": "5ae4dccf",
   "metadata": {},
   "outputs": [
    {
     "name": "stderr",
     "output_type": "stream",
     "text": [
      "/var/folders/_1/x45gcqk13td92ct_53v0nwtr0000gn/T/ipykernel_42175/1989681173.py:1: UserWarning: To copy construct from a tensor, it is recommended to use sourceTensor.detach().clone() or sourceTensor.detach().clone().requires_grad_(True), rather than torch.tensor(sourceTensor).\n",
      "  X_train = torch.tensor(X_train, dtype=torch.float32)\n",
      "/var/folders/_1/x45gcqk13td92ct_53v0nwtr0000gn/T/ipykernel_42175/1989681173.py:2: UserWarning: To copy construct from a tensor, it is recommended to use sourceTensor.detach().clone() or sourceTensor.detach().clone().requires_grad_(True), rather than torch.tensor(sourceTensor).\n",
      "  X_valid = torch.tensor(X_valid, dtype=torch.float32)\n",
      "/var/folders/_1/x45gcqk13td92ct_53v0nwtr0000gn/T/ipykernel_42175/1989681173.py:3: UserWarning: To copy construct from a tensor, it is recommended to use sourceTensor.detach().clone() or sourceTensor.detach().clone().requires_grad_(True), rather than torch.tensor(sourceTensor).\n",
      "  y_train = torch.tensor(y_train, dtype=torch.long)\n",
      "/var/folders/_1/x45gcqk13td92ct_53v0nwtr0000gn/T/ipykernel_42175/1989681173.py:4: UserWarning: To copy construct from a tensor, it is recommended to use sourceTensor.detach().clone() or sourceTensor.detach().clone().requires_grad_(True), rather than torch.tensor(sourceTensor).\n",
      "  y_valid = torch.tensor(y_valid, dtype=torch.long)\n"
     ]
    }
   ],
   "source": [
    "X_train = torch.tensor(X_train, dtype=torch.float32)\n",
    "X_valid = torch.tensor(X_valid, dtype=torch.float32)\n",
    "y_train = torch.tensor(y_train, dtype=torch.long)\n",
    "y_valid = torch.tensor(y_valid, dtype=torch.long)"
   ]
  },
  {
   "cell_type": "code",
   "execution_count": null,
   "id": "a30fe7fb",
   "metadata": {},
   "outputs": [],
   "source": [
    "RANDOM_STATE = 42\n",
    "torch.manual_seed(RANDOM_STATE)\n",
    "train_set = TensorDataset(X_train, y_train)\n",
    "dataloader = DataLoader(train_set, batch_size=128, shuffle=True)"
   ]
  },
  {
   "cell_type": "code",
   "execution_count": null,
   "id": "a7d9fcd9",
   "metadata": {},
   "outputs": [
    {
     "data": {
      "application/vnd.jupyter.widget-view+json": {
       "model_id": "a964b0fb11594a22b7f6424342999c24",
       "version_major": 2,
       "version_minor": 0
      },
      "text/plain": [
       "  0%|          | 0/1035 [00:00<?, ?it/s]"
      ]
     },
     "metadata": {},
     "output_type": "display_data"
    },
    {
     "name": "stdout",
     "output_type": "stream",
     "text": [
      "Epoch: 0, train loss: 1.9007, val_loss: 0.9830, val_acc 0.7119\n"
     ]
    },
    {
     "data": {
      "application/vnd.jupyter.widget-view+json": {
       "model_id": "11a73670c3d64c63acc9077960eb7208",
       "version_major": 2,
       "version_minor": 0
      },
      "text/plain": [
       "  0%|          | 0/1035 [00:00<?, ?it/s]"
      ]
     },
     "metadata": {},
     "output_type": "display_data"
    },
    {
     "name": "stdout",
     "output_type": "stream",
     "text": [
      "Epoch: 1, train loss: 0.7759, val_loss: 0.6549, val_acc 0.8050\n"
     ]
    },
    {
     "data": {
      "application/vnd.jupyter.widget-view+json": {
       "model_id": "5a2dd392cec64b4383d6dd60ca984598",
       "version_major": 2,
       "version_minor": 0
      },
      "text/plain": [
       "  0%|          | 0/1035 [00:00<?, ?it/s]"
      ]
     },
     "metadata": {},
     "output_type": "display_data"
    },
    {
     "name": "stdout",
     "output_type": "stream",
     "text": [
      "Epoch: 2, train loss: 0.5745, val_loss: 0.5350, val_acc 0.8471\n"
     ]
    },
    {
     "data": {
      "application/vnd.jupyter.widget-view+json": {
       "model_id": "95d5b3abe05947fd98f45befcc131acc",
       "version_major": 2,
       "version_minor": 0
      },
      "text/plain": [
       "  0%|          | 0/1035 [00:00<?, ?it/s]"
      ]
     },
     "metadata": {},
     "output_type": "display_data"
    },
    {
     "name": "stdout",
     "output_type": "stream",
     "text": [
      "Epoch: 3, train loss: 0.4831, val_loss: 0.4786, val_acc 0.8614\n"
     ]
    },
    {
     "data": {
      "application/vnd.jupyter.widget-view+json": {
       "model_id": "e767def1043a44b3a418593cef4281ca",
       "version_major": 2,
       "version_minor": 0
      },
      "text/plain": [
       "  0%|          | 0/1035 [00:00<?, ?it/s]"
      ]
     },
     "metadata": {},
     "output_type": "display_data"
    },
    {
     "name": "stdout",
     "output_type": "stream",
     "text": [
      "Epoch: 4, train loss: 0.4295, val_loss: 0.4435, val_acc 0.8683\n"
     ]
    },
    {
     "data": {
      "application/vnd.jupyter.widget-view+json": {
       "model_id": "38f37afdacaf4a1c96b52fa5c00d9b55",
       "version_major": 2,
       "version_minor": 0
      },
      "text/plain": [
       "  0%|          | 0/1035 [00:00<?, ?it/s]"
      ]
     },
     "metadata": {},
     "output_type": "display_data"
    },
    {
     "name": "stdout",
     "output_type": "stream",
     "text": [
      "Epoch: 5, train loss: 0.3949, val_loss: 0.4234, val_acc 0.8722\n"
     ]
    },
    {
     "data": {
      "application/vnd.jupyter.widget-view+json": {
       "model_id": "9f28ef48bfbf41adbcf0157f480ae236",
       "version_major": 2,
       "version_minor": 0
      },
      "text/plain": [
       "  0%|          | 0/1035 [00:00<?, ?it/s]"
      ]
     },
     "metadata": {},
     "output_type": "display_data"
    },
    {
     "name": "stdout",
     "output_type": "stream",
     "text": [
      "Epoch: 6, train loss: 0.3692, val_loss: 0.4059, val_acc 0.8827\n"
     ]
    },
    {
     "data": {
      "application/vnd.jupyter.widget-view+json": {
       "model_id": "8718bdbcfcc74e0490df2245a8224755",
       "version_major": 2,
       "version_minor": 0
      },
      "text/plain": [
       "  0%|          | 0/1035 [00:00<?, ?it/s]"
      ]
     },
     "metadata": {},
     "output_type": "display_data"
    },
    {
     "name": "stdout",
     "output_type": "stream",
     "text": [
      "Epoch: 7, train loss: 0.3503, val_loss: 0.3905, val_acc 0.8866\n"
     ]
    },
    {
     "data": {
      "application/vnd.jupyter.widget-view+json": {
       "model_id": "c0b71d89dc2b42c29ec91dbc184967a2",
       "version_major": 2,
       "version_minor": 0
      },
      "text/plain": [
       "  0%|          | 0/1035 [00:00<?, ?it/s]"
      ]
     },
     "metadata": {},
     "output_type": "display_data"
    },
    {
     "name": "stdout",
     "output_type": "stream",
     "text": [
      "Epoch: 8, train loss: 0.3346, val_loss: 0.3807, val_acc 0.8896\n"
     ]
    },
    {
     "data": {
      "application/vnd.jupyter.widget-view+json": {
       "model_id": "36170c5cc50a4ce08c623c816d70e7b3",
       "version_major": 2,
       "version_minor": 0
      },
      "text/plain": [
       "  0%|          | 0/1035 [00:00<?, ?it/s]"
      ]
     },
     "metadata": {},
     "output_type": "display_data"
    },
    {
     "name": "stdout",
     "output_type": "stream",
     "text": [
      "Epoch: 9, train loss: 0.3230, val_loss: 0.3790, val_acc 0.8865\n"
     ]
    }
   ],
   "source": [
    "# consider adding layer norm/batch norm\n",
    "model = nn.Sequential(nn.Linear(MAX_SEQ_LEN, 128), nn.ReLU(), nn.Linear(128, N_CLASSES))\n",
    "\n",
    "optimizer = torch.optim.AdamW(model.parameters(), lr=1e-4, weight_decay=1e-5)\n",
    "\n",
    "n_epochs = 10\n",
    "loss_histories = defaultdict(list)\n",
    "acc_histories = defaultdict(list)\n",
    "\n",
    "for epoch in range(n_epochs):\n",
    "    train_loss = 0\n",
    "    for step, batch in enumerate(tqdm(dataloader)):\n",
    "        xb, yb = batch\n",
    "        logits = model(xb)\n",
    "        loss = F.cross_entropy(logits, yb, reduction=\"sum\")\n",
    "        train_loss += loss.item()\n",
    "\n",
    "        optimizer.zero_grad()\n",
    "        loss.backward()\n",
    "        optimizer.step()\n",
    "\n",
    "    train_loss /= len(dataloader.dataset)\n",
    "    loss_histories[\"train\"].append(train_loss)\n",
    "\n",
    "    model.eval()\n",
    "    val_logits = model(X_valid)\n",
    "    val_loss = F.cross_entropy(val_logits, y_valid, reduction=\"mean\").item()\n",
    "    loss_histories[\"valid\"].append(val_loss)\n",
    "\n",
    "    y_pred = F.softmax(val_logits, dim=-1).argmax(axis=-1)\n",
    "    val_acc = balanced_accuracy_score(y_valid, y_pred)\n",
    "    tqdm.write(\n",
    "        f\"Epoch: {epoch}, train loss: {train_loss:.4f}, val_loss: {val_loss:.4f}, val_acc {val_acc:.4f}\"\n",
    "    )\n",
    "    model.train()"
   ]
  },
  {
   "cell_type": "code",
   "execution_count": null,
   "id": "db857281",
   "metadata": {},
   "outputs": [
    {
     "data": {
      "text/plain": [
       "<matplotlib.legend.Legend at 0x146b02c00>"
      ]
     },
     "execution_count": 124,
     "metadata": {},
     "output_type": "execute_result"
    },
    {
     "data": {
      "image/png": "[encoded data removed]",
      "text/plain": [
       "<Figure size 640x480 with 1 Axes>"
      ]
     },
     "metadata": {},
     "output_type": "display_data"
    }
   ],
   "source": [
    "import matplotlib.pyplot as plt\n",
    "\n",
    "# simple baseline\n",
    "# 1. knn\n",
    "# 2. simple NN (optional)\n",
    "# 3. simple transformer\n",
    "# 4. protCNN\n",
    "# 5. pretrained transformer embeddings followed by other models\n",
    "\n",
    "plt.figure()\n",
    "plt.plot(loss_histories[\"train\"], label=\"train\")\n",
    "plt.plot(loss_histories[\"valid\"], label=\"valid\")\n",
    "plt.legend()"
   ]
  },
  {
   "cell_type": "code",
   "execution_count": null,
   "id": "d0b0b075",
   "metadata": {},
   "outputs": [],
   "source": []
  }
 ],
 "metadata": {
  "kernelspec": {
   "display_name": "instadeep-bioai",
   "language": "python",
   "name": "python3"
  },
  "language_info": {
   "codemirror_mode": {
    "name": "ipython",
    "version": 3
   },
   "file_extension": ".py",
   "mimetype": "text/x-python",
   "name": "python",
   "nbconvert_exporter": "python",
   "pygments_lexer": "ipython3",
   "version": "3.12.7"
  }
 },
 "nbformat": 4,
 "nbformat_minor": 5
}
