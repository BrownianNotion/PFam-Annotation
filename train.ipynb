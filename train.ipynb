{
 "cells": [
  {
   "cell_type": "code",
   "execution_count": 1,
   "id": "8cfd9245",
   "metadata": {},
   "outputs": [],
   "source": [
    "import pandas as pd\n",
    "import torch\n",
    "from sklearn.preprocessing import LabelEncoder, OrdinalEncoder\n",
    "\n",
    "import torch.nn as nn\n",
    "import torch.nn.functional as F\n",
    "from torch.utils.data import DataLoader, TensorDataset\n",
    "from tqdm.notebook import tqdm\n",
    "from collections import defaultdict"
   ]
  },
  {
   "cell_type": "code",
   "execution_count": null,
   "id": "6e4e27c6",
   "metadata": {},
   "outputs": [],
   "source": [
    "device = \"cpu\"\n",
    "if torch.cuda.is_available():\n",
    "    device = \"cuda\"\n",
    "elif torch.backends.mps.is_available():\n",
    "    device = \"mps\""
   ]
  },
  {
   "cell_type": "code",
   "execution_count": 2,
   "id": "bd8b7c22",
   "metadata": {},
   "outputs": [
    {
     "data": {
      "text/html": [
       "<div>\n",
       "<style scoped>\n",
       "    .dataframe tbody tr th:only-of-type {\n",
       "        vertical-align: middle;\n",
       "    }\n",
       "\n",
       "    .dataframe tbody tr th {\n",
       "        vertical-align: top;\n",
       "    }\n",
       "\n",
       "    .dataframe thead th {\n",
       "        text-align: right;\n",
       "    }\n",
       "</style>\n",
       "<table border=\"1\" class=\"dataframe\">\n",
       "  <thead>\n",
       "    <tr style=\"text-align: right;\">\n",
       "      <th></th>\n",
       "      <th>family_id</th>\n",
       "      <th>sequence_name</th>\n",
       "      <th>family_accession</th>\n",
       "      <th>aligned_sequence</th>\n",
       "      <th>sequence</th>\n",
       "    </tr>\n",
       "    <tr>\n",
       "      <th>index</th>\n",
       "      <th></th>\n",
       "      <th></th>\n",
       "      <th></th>\n",
       "      <th></th>\n",
       "      <th></th>\n",
       "    </tr>\n",
       "  </thead>\n",
       "  <tbody>\n",
       "    <tr>\n",
       "      <th>8</th>\n",
       "      <td>Trigger_N</td>\n",
       "      <td>F2I568_AERUA/1-145</td>\n",
       "      <td>PF05697.13</td>\n",
       "      <td>MSVKFEETAT...N.EGVLHFTVSKEDAQKA....LKQAYNRVKG....</td>\n",
       "      <td>MSVKFEETATNEGVLHFTVSKEDAQKALKQAYNRVKGKVNIPGFRK...</td>\n",
       "    </tr>\n",
       "    <tr>\n",
       "      <th>43</th>\n",
       "      <td>PCRF</td>\n",
       "      <td>D5ANC6_RHOCB/10-198</td>\n",
       "      <td>PF03462.18</td>\n",
       "      <td>ITARFEFLEAKL....NTAL......P.PAEIATL...SREY..SD...</td>\n",
       "      <td>ITARFEFLEAKLNTALPPAEIATLSREYSDLRPVVTEIAAYRQSLD...</td>\n",
       "    </tr>\n",
       "    <tr>\n",
       "      <th>68</th>\n",
       "      <td>IPPT</td>\n",
       "      <td>MIAA_ONYPE/37-265</td>\n",
       "      <td>PF01715.17</td>\n",
       "      <td>QMYQKYDIGTAKITL......EEA.....QGI.........K.......</td>\n",
       "      <td>QMYQKYDIGTAKITLEEAQGIKHHLLDFLAPGTNYSIYHFQKDARK...</td>\n",
       "    </tr>\n",
       "    <tr>\n",
       "      <th>71</th>\n",
       "      <td>HTH_1</td>\n",
       "      <td>Q9F2K8_STRCO/4-63</td>\n",
       "      <td>PF00126.27</td>\n",
       "      <td>VRHLECFVAVAEES.HFGRAAT.RLGM...AQPPLSQRIQRLEK.E...</td>\n",
       "      <td>VRHLECFVAVAEESHFGRAATRLGMAQPPLSQRIQRLEKELGVRLF...</td>\n",
       "    </tr>\n",
       "    <tr>\n",
       "      <th>99</th>\n",
       "      <td>Methyltransf_25</td>\n",
       "      <td>Q2S1D8_SALRD/44-141</td>\n",
       "      <td>PF13649.6</td>\n",
       "      <td>ILDIGCGR.G...R..HA...RA..LV.RR.......G...........</td>\n",
       "      <td>ILDIGCGRGRHARALVRRGWQVTGLDLSEDAVAAARSRVADDDLDV...</td>\n",
       "    </tr>\n",
       "    <tr>\n",
       "      <th>...</th>\n",
       "      <td>...</td>\n",
       "      <td>...</td>\n",
       "      <td>...</td>\n",
       "      <td>...</td>\n",
       "      <td>...</td>\n",
       "    </tr>\n",
       "    <tr>\n",
       "      <th>13278</th>\n",
       "      <td>His_kinase</td>\n",
       "      <td>D2PX86_KRIFD/171-249</td>\n",
       "      <td>PF06580.13</td>\n",
       "      <td>AE.L..RALRAQISPHFIYNALAAI......A....SF...V.......</td>\n",
       "      <td>AELRALRAQISPHFIYNALAAIASFVRTDPERARELLLEFADFSRY...</td>\n",
       "    </tr>\n",
       "    <tr>\n",
       "      <th>13287</th>\n",
       "      <td>Glycos_trans_3N</td>\n",
       "      <td>D7BI04_MEISD/4-63</td>\n",
       "      <td>PF02885.17</td>\n",
       "      <td>...LKKALHA.....E.PLTQDEAHRLMSRI..MS.GD...........</td>\n",
       "      <td>LKKALHAEPLTQDEAHRLMSRIMSGDLTPAQTAGVLIALRTRGETL...</td>\n",
       "    </tr>\n",
       "    <tr>\n",
       "      <th>13304</th>\n",
       "      <td>MutS_III</td>\n",
       "      <td>MSH3_MOUSE/498-793</td>\n",
       "      <td>PF05192.18</td>\n",
       "      <td>TTLRNLEM.VQ................NQTDM.................</td>\n",
       "      <td>TTLRNLEMVQNQTDMKTKGSLLWVLDHTKTSFGRRKLKNWVTQPLL...</td>\n",
       "    </tr>\n",
       "    <tr>\n",
       "      <th>13349</th>\n",
       "      <td>Glycos_trans_3N</td>\n",
       "      <td>G0A160_METMM/11-75</td>\n",
       "      <td>PF02885.17</td>\n",
       "      <td>AEFIKILGKGKK.GSR.PLTQDEAYRAMKMI..LA.GE...........</td>\n",
       "      <td>AEFIKILGKGKKGSRPLTQDEAYRAMKMILAGEVQPIQLGAFLMLM...</td>\n",
       "    </tr>\n",
       "    <tr>\n",
       "      <th>13353</th>\n",
       "      <td>Methyltransf_25</td>\n",
       "      <td>F5XFZ5_MICPN/59-155</td>\n",
       "      <td>PF13649.6</td>\n",
       "      <td>VVDLGCGS.G...A..ST...DA..LV.NS.......MG.HRG......</td>\n",
       "      <td>VVDLGCGSGASTDALVNSMGHRGETYAAIGIDASAGMLTEAHSKPW...</td>\n",
       "    </tr>\n",
       "  </tbody>\n",
       "</table>\n",
       "<p>66226 rows × 5 columns</p>\n",
       "</div>"
      ],
      "text/plain": [
       "             family_id         sequence_name family_accession  \\\n",
       "index                                                           \n",
       "8            Trigger_N    F2I568_AERUA/1-145       PF05697.13   \n",
       "43                PCRF   D5ANC6_RHOCB/10-198       PF03462.18   \n",
       "68                IPPT     MIAA_ONYPE/37-265       PF01715.17   \n",
       "71               HTH_1     Q9F2K8_STRCO/4-63       PF00126.27   \n",
       "99     Methyltransf_25   Q2S1D8_SALRD/44-141        PF13649.6   \n",
       "...                ...                   ...              ...   \n",
       "13278       His_kinase  D2PX86_KRIFD/171-249       PF06580.13   \n",
       "13287  Glycos_trans_3N     D7BI04_MEISD/4-63       PF02885.17   \n",
       "13304         MutS_III    MSH3_MOUSE/498-793       PF05192.18   \n",
       "13349  Glycos_trans_3N    G0A160_METMM/11-75       PF02885.17   \n",
       "13353  Methyltransf_25   F5XFZ5_MICPN/59-155        PF13649.6   \n",
       "\n",
       "                                        aligned_sequence  \\\n",
       "index                                                      \n",
       "8      MSVKFEETAT...N.EGVLHFTVSKEDAQKA....LKQAYNRVKG....   \n",
       "43     ITARFEFLEAKL....NTAL......P.PAEIATL...SREY..SD...   \n",
       "68     QMYQKYDIGTAKITL......EEA.....QGI.........K.......   \n",
       "71     VRHLECFVAVAEES.HFGRAAT.RLGM...AQPPLSQRIQRLEK.E...   \n",
       "99     ILDIGCGR.G...R..HA...RA..LV.RR.......G...........   \n",
       "...                                                  ...   \n",
       "13278  AE.L..RALRAQISPHFIYNALAAI......A....SF...V.......   \n",
       "13287  ...LKKALHA.....E.PLTQDEAHRLMSRI..MS.GD...........   \n",
       "13304  TTLRNLEM.VQ................NQTDM.................   \n",
       "13349  AEFIKILGKGKK.GSR.PLTQDEAYRAMKMI..LA.GE...........   \n",
       "13353  VVDLGCGS.G...A..ST...DA..LV.NS.......MG.HRG......   \n",
       "\n",
       "                                                sequence  \n",
       "index                                                     \n",
       "8      MSVKFEETATNEGVLHFTVSKEDAQKALKQAYNRVKGKVNIPGFRK...  \n",
       "43     ITARFEFLEAKLNTALPPAEIATLSREYSDLRPVVTEIAAYRQSLD...  \n",
       "68     QMYQKYDIGTAKITLEEAQGIKHHLLDFLAPGTNYSIYHFQKDARK...  \n",
       "71     VRHLECFVAVAEESHFGRAATRLGMAQPPLSQRIQRLEKELGVRLF...  \n",
       "99     ILDIGCGRGRHARALVRRGWQVTGLDLSEDAVAAARSRVADDDLDV...  \n",
       "...                                                  ...  \n",
       "13278  AELRALRAQISPHFIYNALAAIASFVRTDPERARELLLEFADFSRY...  \n",
       "13287  LKKALHAEPLTQDEAHRLMSRIMSGDLTPAQTAGVLIALRTRGETL...  \n",
       "13304  TTLRNLEMVQNQTDMKTKGSLLWVLDHTKTSFGRRKLKNWVTQPLL...  \n",
       "13349  AEFIKILGKGKKGSRPLTQDEAYRAMKMILAGEVQPIQLGAFLMLM...  \n",
       "13353  VVDLGCGSGASTDALVNSMGHRGETYAAIGIDASAGMLTEAHSKPW...  \n",
       "\n",
       "[66226 rows x 5 columns]"
      ]
     },
     "metadata": {},
     "output_type": "display_data"
    },
    {
     "data": {
      "text/html": [
       "<div>\n",
       "<style scoped>\n",
       "    .dataframe tbody tr th:only-of-type {\n",
       "        vertical-align: middle;\n",
       "    }\n",
       "\n",
       "    .dataframe tbody tr th {\n",
       "        vertical-align: top;\n",
       "    }\n",
       "\n",
       "    .dataframe thead th {\n",
       "        text-align: right;\n",
       "    }\n",
       "</style>\n",
       "<table border=\"1\" class=\"dataframe\">\n",
       "  <thead>\n",
       "    <tr style=\"text-align: right;\">\n",
       "      <th></th>\n",
       "      <th>family_id</th>\n",
       "      <th>sequence_name</th>\n",
       "      <th>family_accession</th>\n",
       "      <th>aligned_sequence</th>\n",
       "      <th>sequence</th>\n",
       "    </tr>\n",
       "    <tr>\n",
       "      <th>index</th>\n",
       "      <th></th>\n",
       "      <th></th>\n",
       "      <th></th>\n",
       "      <th></th>\n",
       "      <th></th>\n",
       "    </tr>\n",
       "  </thead>\n",
       "  <tbody>\n",
       "    <tr>\n",
       "      <th>29</th>\n",
       "      <td>BacA</td>\n",
       "      <td>UPPP_OCHA4/9-259</td>\n",
       "      <td>PF02673.18</td>\n",
       "      <td>AAFLGLIEGLTEFIPVSSTGHL..LLIGHF.L....GFES.........</td>\n",
       "      <td>AAFLGLIEGLTEFIPVSSTGHLLLIGHFLGFESTGKTFEVLIQLGA...</td>\n",
       "    </tr>\n",
       "    <tr>\n",
       "      <th>37</th>\n",
       "      <td>DNA_binding_1</td>\n",
       "      <td>R7XUX1_9ACTN/76-156</td>\n",
       "      <td>PF01035.20</td>\n",
       "      <td>AFQQRV.WEQ.LRL..IPYGETASYGEIA................G...</td>\n",
       "      <td>AFQQRVWEQLRLIPYGETASYGEIAGRLGMTNAASRAVGLANGRNP...</td>\n",
       "    </tr>\n",
       "    <tr>\n",
       "      <th>43</th>\n",
       "      <td>PCRF</td>\n",
       "      <td>RF1_BACAN/8-202</td>\n",
       "      <td>PF03462.18</td>\n",
       "      <td>VENRYEKLNELL....SDPAII.S..D.SNKLREY...SKEQ..SD...</td>\n",
       "      <td>VENRYEKLNELLSDPAIISDSNKLREYSKEQSDIQETVEVYREYKD...</td>\n",
       "    </tr>\n",
       "    <tr>\n",
       "      <th>61</th>\n",
       "      <td>Lipase_GDSL_2</td>\n",
       "      <td>G0RZP4_CHATD/19-209</td>\n",
       "      <td>PF13472.6</td>\n",
       "      <td>CFGDS.LTA.......GYCSM............................</td>\n",
       "      <td>CFGDSLTAGYCSMGAMFHPYHERLEQMLAMAFPDIAFETVEDGVPG...</td>\n",
       "    </tr>\n",
       "    <tr>\n",
       "      <th>72</th>\n",
       "      <td>gag_pre-integrs</td>\n",
       "      <td>Q8TFK0_DEBHN/195-267</td>\n",
       "      <td>PF13976.6</td>\n",
       "      <td>NNKYI..KI..........S....N.M...N.H...........E....</td>\n",
       "      <td>NNKYIKISNMNHEIANPFKRKRDLMYYHLMGNHMSLESMKYLIKSG...</td>\n",
       "    </tr>\n",
       "    <tr>\n",
       "      <th>...</th>\n",
       "      <td>...</td>\n",
       "      <td>...</td>\n",
       "      <td>...</td>\n",
       "      <td>...</td>\n",
       "      <td>...</td>\n",
       "    </tr>\n",
       "    <tr>\n",
       "      <th>12724</th>\n",
       "      <td>Ala_racemase_C</td>\n",
       "      <td>R6NDI3_9CLOT/243-369</td>\n",
       "      <td>PF00842.21</td>\n",
       "      <td>ALSWHARISHIKTL.EAGR.E..ISYGGTF.TTVK.P.TVVATVPV...</td>\n",
       "      <td>ALSWHARISHIKTLEAGREISYGGTFTTVKPTVVATVPVGYADGYP...</td>\n",
       "    </tr>\n",
       "    <tr>\n",
       "      <th>12727</th>\n",
       "      <td>THF_DHG_CYH</td>\n",
       "      <td>B2ATS2_PODAN/22-135</td>\n",
       "      <td>PF00763.23</td>\n",
       "      <td>VILADTIAK...K........MLA.EVQ...STL...............</td>\n",
       "      <td>VILADTIAKKMLAEVQSTLSAIQLPRRPTLSAFLANDDPHAYQYAE...</td>\n",
       "    </tr>\n",
       "    <tr>\n",
       "      <th>12728</th>\n",
       "      <td>Ig_3</td>\n",
       "      <td>A8X5T7_CAEBR/262-333</td>\n",
       "      <td>PF13927.6</td>\n",
       "      <td>KPIVF......VTPTENLTH...LSVEEGE.LVN....L.TC..NA...</td>\n",
       "      <td>KPIVFVTPTENLTHLSVEEGELVNLTCNAAANPPAHSYEWKHISSG...</td>\n",
       "    </tr>\n",
       "    <tr>\n",
       "      <th>12735</th>\n",
       "      <td>Trigger_N</td>\n",
       "      <td>E6JYT1_PARDN/1-149</td>\n",
       "      <td>PF05697.13</td>\n",
       "      <td>MKITMRNV.E.P.T.KKVLTVTVDQEELEPY....MDKARKEIAN....</td>\n",
       "      <td>MKITMRNVEPTKKVLTVTVDQEELEPYMDKARKEIANQVNIPGFRK...</td>\n",
       "    </tr>\n",
       "    <tr>\n",
       "      <th>12755</th>\n",
       "      <td>THF_DHG_CYH</td>\n",
       "      <td>R6BHS1_9CLOT/3-113</td>\n",
       "      <td>PF00763.23</td>\n",
       "      <td>LLDGKNLSA...K........IKD.ELK...GNI...............</td>\n",
       "      <td>LLDGKNLSAKIKDELKGNINSYKETPVLAVITIGKYNEKFVNNKKK...</td>\n",
       "    </tr>\n",
       "  </tbody>\n",
       "</table>\n",
       "<p>8249 rows × 5 columns</p>\n",
       "</div>"
      ],
      "text/plain": [
       "             family_id         sequence_name family_accession  \\\n",
       "index                                                           \n",
       "29                BacA      UPPP_OCHA4/9-259       PF02673.18   \n",
       "37       DNA_binding_1   R7XUX1_9ACTN/76-156       PF01035.20   \n",
       "43                PCRF       RF1_BACAN/8-202       PF03462.18   \n",
       "61       Lipase_GDSL_2   G0RZP4_CHATD/19-209        PF13472.6   \n",
       "72     gag_pre-integrs  Q8TFK0_DEBHN/195-267        PF13976.6   \n",
       "...                ...                   ...              ...   \n",
       "12724   Ala_racemase_C  R6NDI3_9CLOT/243-369       PF00842.21   \n",
       "12727      THF_DHG_CYH   B2ATS2_PODAN/22-135       PF00763.23   \n",
       "12728             Ig_3  A8X5T7_CAEBR/262-333        PF13927.6   \n",
       "12735        Trigger_N    E6JYT1_PARDN/1-149       PF05697.13   \n",
       "12755      THF_DHG_CYH    R6BHS1_9CLOT/3-113       PF00763.23   \n",
       "\n",
       "                                        aligned_sequence  \\\n",
       "index                                                      \n",
       "29     AAFLGLIEGLTEFIPVSSTGHL..LLIGHF.L....GFES.........   \n",
       "37     AFQQRV.WEQ.LRL..IPYGETASYGEIA................G...   \n",
       "43     VENRYEKLNELL....SDPAII.S..D.SNKLREY...SKEQ..SD...   \n",
       "61     CFGDS.LTA.......GYCSM............................   \n",
       "72     NNKYI..KI..........S....N.M...N.H...........E....   \n",
       "...                                                  ...   \n",
       "12724  ALSWHARISHIKTL.EAGR.E..ISYGGTF.TTVK.P.TVVATVPV...   \n",
       "12727  VILADTIAK...K........MLA.EVQ...STL...............   \n",
       "12728  KPIVF......VTPTENLTH...LSVEEGE.LVN....L.TC..NA...   \n",
       "12735  MKITMRNV.E.P.T.KKVLTVTVDQEELEPY....MDKARKEIAN....   \n",
       "12755  LLDGKNLSA...K........IKD.ELK...GNI...............   \n",
       "\n",
       "                                                sequence  \n",
       "index                                                     \n",
       "29     AAFLGLIEGLTEFIPVSSTGHLLLIGHFLGFESTGKTFEVLIQLGA...  \n",
       "37     AFQQRVWEQLRLIPYGETASYGEIAGRLGMTNAASRAVGLANGRNP...  \n",
       "43     VENRYEKLNELLSDPAIISDSNKLREYSKEQSDIQETVEVYREYKD...  \n",
       "61     CFGDSLTAGYCSMGAMFHPYHERLEQMLAMAFPDIAFETVEDGVPG...  \n",
       "72     NNKYIKISNMNHEIANPFKRKRDLMYYHLMGNHMSLESMKYLIKSG...  \n",
       "...                                                  ...  \n",
       "12724  ALSWHARISHIKTLEAGREISYGGTFTTVKPTVVATVPVGYADGYP...  \n",
       "12727  VILADTIAKKMLAEVQSTLSAIQLPRRPTLSAFLANDDPHAYQYAE...  \n",
       "12728  KPIVFVTPTENLTHLSVEEGELVNLTCNAAANPPAHSYEWKHISSG...  \n",
       "12735  MKITMRNVEPTKKVLTVTVDQEELEPYMDKARKEIANQVNIPGFRK...  \n",
       "12755  LLDGKNLSAKIKDELKGNINSYKETPVLAVITIGKYNEKFVNNKKK...  \n",
       "\n",
       "[8249 rows x 5 columns]"
      ]
     },
     "metadata": {},
     "output_type": "display_data"
    },
    {
     "data": {
      "text/html": [
       "<div>\n",
       "<style scoped>\n",
       "    .dataframe tbody tr th:only-of-type {\n",
       "        vertical-align: middle;\n",
       "    }\n",
       "\n",
       "    .dataframe tbody tr th {\n",
       "        vertical-align: top;\n",
       "    }\n",
       "\n",
       "    .dataframe thead th {\n",
       "        text-align: right;\n",
       "    }\n",
       "</style>\n",
       "<table border=\"1\" class=\"dataframe\">\n",
       "  <thead>\n",
       "    <tr style=\"text-align: right;\">\n",
       "      <th></th>\n",
       "      <th>family_id</th>\n",
       "      <th>sequence_name</th>\n",
       "      <th>family_accession</th>\n",
       "      <th>aligned_sequence</th>\n",
       "      <th>sequence</th>\n",
       "    </tr>\n",
       "    <tr>\n",
       "      <th>index</th>\n",
       "      <th></th>\n",
       "      <th></th>\n",
       "      <th></th>\n",
       "      <th></th>\n",
       "      <th></th>\n",
       "    </tr>\n",
       "  </thead>\n",
       "  <tbody>\n",
       "    <tr>\n",
       "      <th>1</th>\n",
       "      <td>DnaJ_C</td>\n",
       "      <td>M4V8X0_9PROT/126-339</td>\n",
       "      <td>PF01556.18</td>\n",
       "      <td>LRFITEIELEEVISG.K.E.....AQI......EF..............</td>\n",
       "      <td>LRFITEIELEEVISGKEAQIEFDTEANCDDCNGSGAAKGSSATTCP...</td>\n",
       "    </tr>\n",
       "    <tr>\n",
       "      <th>9</th>\n",
       "      <td>TrmE_N</td>\n",
       "      <td>B0X5R4_CULQU/21-138</td>\n",
       "      <td>PF10396.9</td>\n",
       "      <td>TIFGLSS..G..S..G.K..C.G..VAVIRVSG................</td>\n",
       "      <td>TIFGLSSGSGKCGVAVIRVSGDASSDVVHRKTSSNKLPAARQAVLR...</td>\n",
       "    </tr>\n",
       "    <tr>\n",
       "      <th>16</th>\n",
       "      <td>Lipase_GDSL_2</td>\n",
       "      <td>H6MZH3_GORPV/43-278</td>\n",
       "      <td>PF13472.6</td>\n",
       "      <td>ALGDS.RAS.......GNMPGLQ......................P...</td>\n",
       "      <td>ALGDSRASGNMPGLQPSDGCWRSSTSYPSVLARIAHVRSFVDRSCA...</td>\n",
       "    </tr>\n",
       "    <tr>\n",
       "      <th>26</th>\n",
       "      <td>UPF0051</td>\n",
       "      <td>Q7UKR5_RHOBA/213-439</td>\n",
       "      <td>PF01458.17</td>\n",
       "      <td>GQFERT.....L.I.....IVDEG.....ASI..HYV............</td>\n",
       "      <td>GQFERTLIIVDEGASIHYVEGCTAPMYTTESLHSAVVEVIVKKDAR...</td>\n",
       "    </tr>\n",
       "    <tr>\n",
       "      <th>56</th>\n",
       "      <td>THF_DHG_CYH</td>\n",
       "      <td>S3CNX4_OPHP1/11-126</td>\n",
       "      <td>PF00763.23</td>\n",
       "      <td>.ILADSIGK...N........MLV.EVQ...ESR...............</td>\n",
       "      <td>ILADSIGKNMLVEVQESRDAFRKEHGIERKLCLAAFLANDDPHAVK...</td>\n",
       "    </tr>\n",
       "    <tr>\n",
       "      <th>...</th>\n",
       "      <td>...</td>\n",
       "      <td>...</td>\n",
       "      <td>...</td>\n",
       "      <td>...</td>\n",
       "      <td>...</td>\n",
       "    </tr>\n",
       "    <tr>\n",
       "      <th>12706</th>\n",
       "      <td>Chromate_transp</td>\n",
       "      <td>F2F022_SOLSS/4-171</td>\n",
       "      <td>PF02417.15</td>\n",
       "      <td>WELFIAFLIPNLLAYGGGPASI.PLIEHEV........VD.........</td>\n",
       "      <td>WELFIAFLIPNLLAYGGGPASIPLIEHEVVDRYEWMTQSEFSEFLA...</td>\n",
       "    </tr>\n",
       "    <tr>\n",
       "      <th>12708</th>\n",
       "      <td>E3_binding</td>\n",
       "      <td>A8LBI7_FRASN/171-205</td>\n",
       "      <td>PF02817.17</td>\n",
       "      <td>.VISPLVR.RLARDNAV....DLR..EL..T....G....T.GPDG...</td>\n",
       "      <td>VISPLVRRLARDNAVDLRELTGTGPDGLIRRRDVE-----------...</td>\n",
       "    </tr>\n",
       "    <tr>\n",
       "      <th>12730</th>\n",
       "      <td>THF_DHG_CYH</td>\n",
       "      <td>C6WZR6_FLAB3/4-120</td>\n",
       "      <td>PF00763.23</td>\n",
       "      <td>ILDGLKVSK...E........IKN.EIR...TDV...............</td>\n",
       "      <td>ILDGLKVSKEIKNEIRTDVEKIVEGKRRPPHLVAILVGQNGASISY...</td>\n",
       "    </tr>\n",
       "    <tr>\n",
       "      <th>12736</th>\n",
       "      <td>RF-1</td>\n",
       "      <td>R6NI69_9CLOT/228-338</td>\n",
       "      <td>PF00472.20</td>\n",
       "      <td>DTVE..VE..IN.PDDLKI.DYYR.SSGAGGQKVNKTSSAVRI......</td>\n",
       "      <td>DTVEVEINPDDLKIDYYRSSGAGGQKVNKTSSAVRITHIPTGIVCA...</td>\n",
       "    </tr>\n",
       "    <tr>\n",
       "      <th>12754</th>\n",
       "      <td>Glyco_trans_1_4</td>\n",
       "      <td>B8FJ84_DESAA/245-385</td>\n",
       "      <td>PF13692.6</td>\n",
       "      <td>KNRLLVTN...SA.DT.....PLKGL.YHL..LKAV.HEVR....K...</td>\n",
       "      <td>KNRLLVTNSADTPLKGLYHLLKAVHEVRKKRDVTLTVIGAPKKHGG...</td>\n",
       "    </tr>\n",
       "  </tbody>\n",
       "</table>\n",
       "<p>8242 rows × 5 columns</p>\n",
       "</div>"
      ],
      "text/plain": [
       "             family_id         sequence_name family_accession  \\\n",
       "index                                                           \n",
       "1               DnaJ_C  M4V8X0_9PROT/126-339       PF01556.18   \n",
       "9               TrmE_N   B0X5R4_CULQU/21-138        PF10396.9   \n",
       "16       Lipase_GDSL_2   H6MZH3_GORPV/43-278        PF13472.6   \n",
       "26             UPF0051  Q7UKR5_RHOBA/213-439       PF01458.17   \n",
       "56         THF_DHG_CYH   S3CNX4_OPHP1/11-126       PF00763.23   \n",
       "...                ...                   ...              ...   \n",
       "12706  Chromate_transp    F2F022_SOLSS/4-171       PF02417.15   \n",
       "12708       E3_binding  A8LBI7_FRASN/171-205       PF02817.17   \n",
       "12730      THF_DHG_CYH    C6WZR6_FLAB3/4-120       PF00763.23   \n",
       "12736             RF-1  R6NI69_9CLOT/228-338       PF00472.20   \n",
       "12754  Glyco_trans_1_4  B8FJ84_DESAA/245-385        PF13692.6   \n",
       "\n",
       "                                        aligned_sequence  \\\n",
       "index                                                      \n",
       "1      LRFITEIELEEVISG.K.E.....AQI......EF..............   \n",
       "9      TIFGLSS..G..S..G.K..C.G..VAVIRVSG................   \n",
       "16     ALGDS.RAS.......GNMPGLQ......................P...   \n",
       "26     GQFERT.....L.I.....IVDEG.....ASI..HYV............   \n",
       "56     .ILADSIGK...N........MLV.EVQ...ESR...............   \n",
       "...                                                  ...   \n",
       "12706  WELFIAFLIPNLLAYGGGPASI.PLIEHEV........VD.........   \n",
       "12708  .VISPLVR.RLARDNAV....DLR..EL..T....G....T.GPDG...   \n",
       "12730  ILDGLKVSK...E........IKN.EIR...TDV...............   \n",
       "12736  DTVE..VE..IN.PDDLKI.DYYR.SSGAGGQKVNKTSSAVRI......   \n",
       "12754  KNRLLVTN...SA.DT.....PLKGL.YHL..LKAV.HEVR....K...   \n",
       "\n",
       "                                                sequence  \n",
       "index                                                     \n",
       "1      LRFITEIELEEVISGKEAQIEFDTEANCDDCNGSGAAKGSSATTCP...  \n",
       "9      TIFGLSSGSGKCGVAVIRVSGDASSDVVHRKTSSNKLPAARQAVLR...  \n",
       "16     ALGDSRASGNMPGLQPSDGCWRSSTSYPSVLARIAHVRSFVDRSCA...  \n",
       "26     GQFERTLIIVDEGASIHYVEGCTAPMYTTESLHSAVVEVIVKKDAR...  \n",
       "56     ILADSIGKNMLVEVQESRDAFRKEHGIERKLCLAAFLANDDPHAVK...  \n",
       "...                                                  ...  \n",
       "12706  WELFIAFLIPNLLAYGGGPASIPLIEHEVVDRYEWMTQSEFSEFLA...  \n",
       "12708  VISPLVRRLARDNAVDLRELTGTGPDGLIRRRDVE-----------...  \n",
       "12730  ILDGLKVSKEIKNEIRTDVEKIVEGKRRPPHLVAILVGQNGASISY...  \n",
       "12736  DTVEVEINPDDLKIDYYRSSGAGGQKVNKTSSAVRITHIPTGIVCA...  \n",
       "12754  KNRLLVTNSADTPLKGLYHLLKAVHEVRKKRDVTLTVIGAPKKHGG...  \n",
       "\n",
       "[8242 rows x 5 columns]"
      ]
     },
     "metadata": {},
     "output_type": "display_data"
    }
   ],
   "source": [
    "train_df = pd.read_parquet(\"data/processed_data/train.parquet\")\n",
    "valid_df = pd.read_parquet(\"data/processed_data/dev.parquet\")\n",
    "test_df = pd.read_parquet(\"data/processed_data/test.parquet\")\n",
    "display(train_df)\n",
    "display(valid_df)\n",
    "display(test_df)"
   ]
  },
  {
   "cell_type": "code",
   "execution_count": 3,
   "id": "43426a36",
   "metadata": {},
   "outputs": [
    {
     "data": {
      "text/plain": [
       "['A',\n",
       " 'C',\n",
       " 'D',\n",
       " 'E',\n",
       " 'F',\n",
       " 'G',\n",
       " 'H',\n",
       " 'I',\n",
       " 'K',\n",
       " 'L',\n",
       " 'M',\n",
       " 'N',\n",
       " 'P',\n",
       " 'Q',\n",
       " 'R',\n",
       " 'S',\n",
       " 'T',\n",
       " 'V',\n",
       " 'W',\n",
       " 'Y',\n",
       " '-']"
      ]
     },
     "execution_count": 3,
     "metadata": {},
     "output_type": "execute_result"
    }
   ],
   "source": [
    "alphabet = list(\"ACDEFGHIKLMNPQRSTVWY\") + [\"-\"]\n",
    "alphabet"
   ]
  },
  {
   "cell_type": "code",
   "execution_count": 4,
   "id": "dd3ea7e2",
   "metadata": {},
   "outputs": [
    {
     "name": "stdout",
     "output_type": "stream",
     "text": [
      "256 64 21\n"
     ]
    }
   ],
   "source": [
    "MAX_SEQ_LEN = train_df[\"sequence\"].str.len().max()\n",
    "N_CLASSES = len(train_df[\"family_accession\"].unique())\n",
    "VOCAB_SIZE = len(alphabet)\n",
    "print(MAX_SEQ_LEN, N_CLASSES, VOCAB_SIZE)"
   ]
  },
  {
   "cell_type": "code",
   "execution_count": 5,
   "id": "e887c46d",
   "metadata": {},
   "outputs": [
    {
     "data": {
      "text/plain": [
       "array([51, 45, 26, ..., 50, 42, 58], shape=(66226,))"
      ]
     },
     "metadata": {},
     "output_type": "display_data"
    },
    {
     "data": {
      "text/plain": [
       "array([34, 14, 45, ..., 60, 51, 12], shape=(8249,))"
      ]
     },
     "metadata": {},
     "output_type": "display_data"
    },
    {
     "data": {
      "text/plain": [
       "array([24, 54, 56, ..., 12,  7, 59], shape=(8242,))"
      ]
     },
     "metadata": {},
     "output_type": "display_data"
    }
   ],
   "source": [
    "le = LabelEncoder()\n",
    "y_train = train_df[\"family_accession\"].to_numpy()\n",
    "y_train = le.fit_transform(y_train)\n",
    "y_valid = le.transform(valid_df[\"family_accession\"].to_numpy())\n",
    "y_test = le.transform(test_df[\"family_accession\"].to_numpy())\n",
    "\n",
    "display(y_train, y_valid, y_test)"
   ]
  },
  {
   "cell_type": "code",
   "execution_count": 6,
   "id": "c7a1167d",
   "metadata": {},
   "outputs": [
    {
     "data": {
      "text/plain": [
       "array([['M', 'S', 'V', ..., '-', '-', '-'],\n",
       "       ['I', 'T', 'A', ..., '-', '-', '-'],\n",
       "       ['Q', 'M', 'Y', ..., '-', '-', '-'],\n",
       "       ...,\n",
       "       ['T', 'T', 'L', ..., 'R', 'E', 'Q'],\n",
       "       ['A', 'E', 'F', ..., '-', '-', '-'],\n",
       "       ['V', 'V', 'D', ..., '-', '-', '-']],\n",
       "      shape=(66226, 256), dtype=object)"
      ]
     },
     "execution_count": 6,
     "metadata": {},
     "output_type": "execute_result"
    }
   ],
   "source": [
    "def make_features(df):\n",
    "    # iloc remove start/end padding of \"\"\n",
    "    X = df[\"sequence\"].str.split(\"\", expand=True).iloc[:, 1:-1].to_numpy()\n",
    "    return X\n",
    "\n",
    "\n",
    "make_features(train_df)"
   ]
  },
  {
   "cell_type": "code",
   "execution_count": null,
   "id": "1ab5558f",
   "metadata": {},
   "outputs": [],
   "source": []
  },
  {
   "cell_type": "code",
   "execution_count": 7,
   "id": "e3689610",
   "metadata": {},
   "outputs": [
    {
     "data": {
      "text/plain": [
       "array([[10., 15., 17., ..., 20., 20., 20.],\n",
       "       [ 7., 16.,  0., ..., 20., 20., 20.],\n",
       "       [13., 10., 19., ..., 20., 20., 20.],\n",
       "       ...,\n",
       "       [16., 16.,  9., ..., 14.,  3., 13.],\n",
       "       [ 0.,  3.,  4., ..., 20., 20., 20.],\n",
       "       [17., 17.,  2., ..., 20., 20., 20.]], shape=(66226, 256))"
      ]
     },
     "metadata": {},
     "output_type": "display_data"
    },
    {
     "data": {
      "text/plain": [
       "array([[ 0.,  0.,  4., ..., 20., 20., 20.],\n",
       "       [ 0.,  4., 13., ..., 20., 20., 20.],\n",
       "       [17.,  3., 11., ..., 20., 20., 20.],\n",
       "       ...,\n",
       "       [ 8., 12.,  7., ..., 20., 20., 20.],\n",
       "       [10.,  8.,  7., ..., 20., 20., 20.],\n",
       "       [ 9.,  9.,  2., ..., 20., 20., 20.]], shape=(8249, 256))"
      ]
     },
     "metadata": {},
     "output_type": "display_data"
    },
    {
     "data": {
      "text/plain": [
       "array([[ 9., 14.,  4., ..., 20., 20., 20.],\n",
       "       [16.,  7.,  4., ..., 20., 20., 20.],\n",
       "       [ 0.,  9.,  5., ..., 20., 20., 20.],\n",
       "       ...,\n",
       "       [ 7.,  9.,  2., ..., 20., 20., 20.],\n",
       "       [ 2., 16., 17., ..., 20., 20., 20.],\n",
       "       [ 8., 11., 14., ..., 20., 20., 20.]], shape=(8242, 256))"
      ]
     },
     "metadata": {},
     "output_type": "display_data"
    }
   ],
   "source": [
    "oe = OrdinalEncoder(categories=[alphabet] * MAX_SEQ_LEN)\n",
    "X_train = oe.fit_transform(make_features(train_df))\n",
    "X_valid = oe.transform(make_features(valid_df))\n",
    "X_test = oe.transform(make_features(test_df))\n",
    "display(X_train, X_valid, X_test)"
   ]
  },
  {
   "cell_type": "code",
   "execution_count": 8,
   "id": "87d4753b",
   "metadata": {},
   "outputs": [],
   "source": [
    "# models:\n",
    "# 1. simple knn\n",
    "# 2. protcnn\n",
    "# 3."
   ]
  },
  {
   "cell_type": "code",
   "execution_count": 9,
   "id": "823d7573",
   "metadata": {},
   "outputs": [
    {
     "name": "stdout",
     "output_type": "stream",
     "text": [
      "Validation set\n",
      "accuracy_score: 0.931\n",
      "balanced_accuracy_score: 0.929\n",
      "f1_score: 0.929\n",
      "Test set\n",
      "accuracy_score: 0.925\n",
      "balanced_accuracy_score: 0.922\n",
      "f1_score: 0.924\n"
     ]
    }
   ],
   "source": [
    "from sklearn.neighbors import KNeighborsClassifier\n",
    "from sklearn.metrics import accuracy_score, balanced_accuracy_score, f1_score\n",
    "\n",
    "knn = KNeighborsClassifier(n_neighbors=5, weights=\"distance\")\n",
    "knn.fit(X_train, y_train)\n",
    "y_pred = knn.predict(X_valid)\n",
    "y_pred_test = knn.predict(X_test)\n",
    "\n",
    "metrics = [\n",
    "    (accuracy_score, {}),\n",
    "    (balanced_accuracy_score, {}),\n",
    "    (f1_score, {\"average\": \"weighted\"}),\n",
    "]\n",
    "\n",
    "print(\"Validation set\")\n",
    "for metric, kwargs in metrics:\n",
    "    print(f\"{metric.__name__}: {metric(y_valid, y_pred, **kwargs):.3f}\")\n",
    "\n",
    "print(\"Test set\")\n",
    "for metric, kwargs in metrics:\n",
    "    print(f\"{metric.__name__}: {metric(y_test, y_pred_test, **kwargs):.3f}\")"
   ]
  },
  {
   "cell_type": "code",
   "execution_count": 10,
   "id": "1592f847",
   "metadata": {},
   "outputs": [
    {
     "name": "stdout",
     "output_type": "stream",
     "text": [
      "micro f1-score 0.931\n",
      "macro f1-score 0.929\n",
      "weighted f1-score 0.929\n"
     ]
    }
   ],
   "source": [
    "for average in [\"micro\", \"macro\", \"weighted\"]:\n",
    "    score = f1_score(y_valid, y_pred, average=average)\n",
    "    print(f\"{average} f1-score {score:.3f}\")"
   ]
  },
  {
   "cell_type": "code",
   "execution_count": 11,
   "id": "5ae4dccf",
   "metadata": {},
   "outputs": [],
   "source": [
    "X_train = torch.tensor(X_train, dtype=torch.long)\n",
    "X_valid = torch.tensor(X_valid, dtype=torch.long)\n",
    "y_train = torch.tensor(y_train, dtype=torch.long)\n",
    "y_valid = torch.tensor(y_valid, dtype=torch.long)"
   ]
  },
  {
   "cell_type": "code",
   "execution_count": 12,
   "id": "a30fe7fb",
   "metadata": {},
   "outputs": [],
   "source": [
    "RANDOM_STATE = 42\n",
    "torch.manual_seed(RANDOM_STATE)\n",
    "train_set = TensorDataset(X_train, y_train)\n",
    "dataloader = DataLoader(train_set, batch_size=128, shuffle=True)"
   ]
  },
  {
   "cell_type": "code",
   "execution_count": 13,
   "id": "a7d9fcd9",
   "metadata": {},
   "outputs": [
    {
     "data": {
      "application/vnd.jupyter.widget-view+json": {
       "model_id": "aaa1c8cd3b9e4b70b83411364b84c477",
       "version_major": 2,
       "version_minor": 0
      },
      "text/plain": [
       "  0%|          | 0/518 [00:00<?, ?it/s]"
      ]
     },
     "metadata": {},
     "output_type": "display_data"
    },
    {
     "name": "stdout",
     "output_type": "stream",
     "text": [
      "Epoch: 0, train loss: 2.8765, val_loss: 1.6326, val_acc 0.5327\n"
     ]
    },
    {
     "data": {
      "application/vnd.jupyter.widget-view+json": {
       "model_id": "a54ec955c4dd480ba206930b7df79e35",
       "version_major": 2,
       "version_minor": 0
      },
      "text/plain": [
       "  0%|          | 0/518 [00:00<?, ?it/s]"
      ]
     },
     "metadata": {},
     "output_type": "display_data"
    },
    {
     "name": "stdout",
     "output_type": "stream",
     "text": [
      "Epoch: 1, train loss: 1.2334, val_loss: 0.9777, val_acc 0.7288\n"
     ]
    },
    {
     "data": {
      "application/vnd.jupyter.widget-view+json": {
       "model_id": "33ecfb565dd741229698a663118b8d7c",
       "version_major": 2,
       "version_minor": 0
      },
      "text/plain": [
       "  0%|          | 0/518 [00:00<?, ?it/s]"
      ]
     },
     "metadata": {},
     "output_type": "display_data"
    },
    {
     "name": "stdout",
     "output_type": "stream",
     "text": [
      "Epoch: 2, train loss: 0.8353, val_loss: 0.7407, val_acc 0.7894\n"
     ]
    },
    {
     "data": {
      "application/vnd.jupyter.widget-view+json": {
       "model_id": "4af4e686a4e34f4dbd7007f5efdb61cb",
       "version_major": 2,
       "version_minor": 0
      },
      "text/plain": [
       "  0%|          | 0/518 [00:00<?, ?it/s]"
      ]
     },
     "metadata": {},
     "output_type": "display_data"
    },
    {
     "name": "stdout",
     "output_type": "stream",
     "text": [
      "Epoch: 3, train loss: 0.6692, val_loss: 0.6375, val_acc 0.8108\n"
     ]
    },
    {
     "data": {
      "application/vnd.jupyter.widget-view+json": {
       "model_id": "aa7220a4c4bc4ddebdff555efff47ca4",
       "version_major": 2,
       "version_minor": 0
      },
      "text/plain": [
       "  0%|          | 0/518 [00:00<?, ?it/s]"
      ]
     },
     "metadata": {},
     "output_type": "display_data"
    },
    {
     "name": "stdout",
     "output_type": "stream",
     "text": [
      "Epoch: 4, train loss: 0.5764, val_loss: 0.5591, val_acc 0.8394\n"
     ]
    },
    {
     "data": {
      "application/vnd.jupyter.widget-view+json": {
       "model_id": "12d273f8a3004ead86778cd86864726a",
       "version_major": 2,
       "version_minor": 0
      },
      "text/plain": [
       "  0%|          | 0/518 [00:00<?, ?it/s]"
      ]
     },
     "metadata": {},
     "output_type": "display_data"
    },
    {
     "name": "stdout",
     "output_type": "stream",
     "text": [
      "Epoch: 5, train loss: 0.5167, val_loss: 0.5365, val_acc 0.8359\n"
     ]
    },
    {
     "data": {
      "application/vnd.jupyter.widget-view+json": {
       "model_id": "f0778eafcbcf4ecf83d23e99394b1918",
       "version_major": 2,
       "version_minor": 0
      },
      "text/plain": [
       "  0%|          | 0/518 [00:00<?, ?it/s]"
      ]
     },
     "metadata": {},
     "output_type": "display_data"
    },
    {
     "name": "stdout",
     "output_type": "stream",
     "text": [
      "Epoch: 6, train loss: 0.4759, val_loss: 0.5020, val_acc 0.8555\n"
     ]
    },
    {
     "data": {
      "application/vnd.jupyter.widget-view+json": {
       "model_id": "489491ebd910445d9737155d028dcbd0",
       "version_major": 2,
       "version_minor": 0
      },
      "text/plain": [
       "  0%|          | 0/518 [00:00<?, ?it/s]"
      ]
     },
     "metadata": {},
     "output_type": "display_data"
    },
    {
     "name": "stdout",
     "output_type": "stream",
     "text": [
      "Epoch: 7, train loss: 0.4455, val_loss: 0.4617, val_acc 0.8671\n"
     ]
    },
    {
     "data": {
      "application/vnd.jupyter.widget-view+json": {
       "model_id": "23a8edd165d34ce1b215a08372886836",
       "version_major": 2,
       "version_minor": 0
      },
      "text/plain": [
       "  0%|          | 0/518 [00:00<?, ?it/s]"
      ]
     },
     "metadata": {},
     "output_type": "display_data"
    },
    {
     "name": "stdout",
     "output_type": "stream",
     "text": [
      "Epoch: 8, train loss: 0.4213, val_loss: 0.4582, val_acc 0.8638\n"
     ]
    },
    {
     "data": {
      "application/vnd.jupyter.widget-view+json": {
       "model_id": "b37bc8dbd56447f781985b15cc02efb9",
       "version_major": 2,
       "version_minor": 0
      },
      "text/plain": [
       "  0%|          | 0/518 [00:00<?, ?it/s]"
      ]
     },
     "metadata": {},
     "output_type": "display_data"
    },
    {
     "name": "stdout",
     "output_type": "stream",
     "text": [
      "Epoch: 9, train loss: 0.4023, val_loss: 0.4329, val_acc 0.8752\n"
     ]
    }
   ],
   "source": [
    "# consider adding layer norm/batch norm\n",
    "model = nn.Sequential(nn.Linear(MAX_SEQ_LEN, 128), nn.ReLU(), nn.Linear(128, N_CLASSES))\n",
    "\n",
    "optimizer = torch.optim.AdamW(model.parameters(), lr=1e-4, weight_decay=1e-5)\n",
    "\n",
    "n_epochs = 10\n",
    "loss_histories = defaultdict(list)\n",
    "acc_histories = defaultdict(list)\n",
    "\n",
    "for epoch in range(n_epochs):\n",
    "    train_loss = 0\n",
    "    for step, batch in enumerate(tqdm(dataloader)):\n",
    "        xb, yb = batch\n",
    "        logits = model(xb.float())\n",
    "        loss = F.cross_entropy(logits, yb, reduction=\"sum\")\n",
    "        train_loss += loss.item()\n",
    "\n",
    "        optimizer.zero_grad()\n",
    "        loss.backward()\n",
    "        optimizer.step()\n",
    "\n",
    "    train_loss /= len(dataloader.dataset)\n",
    "    loss_histories[\"train\"].append(train_loss)\n",
    "\n",
    "    model.eval()\n",
    "    val_logits = model(X_valid.float())\n",
    "    val_loss = F.cross_entropy(val_logits, y_valid, reduction=\"mean\").item()\n",
    "    loss_histories[\"valid\"].append(val_loss)\n",
    "\n",
    "    y_pred = F.softmax(val_logits, dim=-1).argmax(axis=-1)\n",
    "    val_acc = balanced_accuracy_score(y_valid, y_pred)\n",
    "    tqdm.write(\n",
    "        f\"Epoch: {epoch}, train loss: {train_loss:.4f}, val_loss: {val_loss:.4f}, val_acc {val_acc:.4f}\"\n",
    "    )\n",
    "    model.train()"
   ]
  },
  {
   "cell_type": "code",
   "execution_count": 14,
   "id": "db857281",
   "metadata": {},
   "outputs": [
    {
     "data": {
      "text/plain": [
       "<matplotlib.legend.Legend at 0x160065040>"
      ]
     },
     "execution_count": 14,
     "metadata": {},
     "output_type": "execute_result"
    },
    {
     "data": {
      "image/png": "[encoded data removed]",
      "text/plain": [
       "<Figure size 640x480 with 1 Axes>"
      ]
     },
     "metadata": {},
     "output_type": "display_data"
    }
   ],
   "source": [
    "import matplotlib.pyplot as plt\n",
    "\n",
    "# simple baseline\n",
    "# 1. knn\n",
    "# 2. simple NN (optional)\n",
    "# 3. simple transformer\n",
    "# 4. protCNN -> going to take too much time, can this\n",
    "# 5. pretrained transformer embeddings followed by other models\n",
    "\n",
    "plt.figure()\n",
    "plt.plot(loss_histories[\"train\"], label=\"train\")\n",
    "plt.plot(loss_histories[\"valid\"], label=\"valid\")\n",
    "plt.legend()"
   ]
  },
  {
   "cell_type": "code",
   "execution_count": 15,
   "id": "0390a7bb",
   "metadata": {},
   "outputs": [
    {
     "data": {
      "application/vnd.jupyter.widget-view+json": {
       "model_id": "7320f38815bc413f85b67169973d88e2",
       "version_major": 2,
       "version_minor": 0
      },
      "text/plain": [
       "  0%|          | 0/518 [00:00<?, ?it/s]"
      ]
     },
     "metadata": {},
     "output_type": "display_data"
    },
    {
     "ename": "KeyboardInterrupt",
     "evalue": "",
     "output_type": "error",
     "traceback": [
      "\u001b[31m---------------------------------------------------------------------------\u001b[39m",
      "\u001b[31mKeyboardInterrupt\u001b[39m                         Traceback (most recent call last)",
      "\u001b[36mCell\u001b[39m\u001b[36m \u001b[39m\u001b[32mIn[15]\u001b[39m\u001b[32m, line 60\u001b[39m\n\u001b[32m     58\u001b[39m     optimizer.zero_grad()\n\u001b[32m     59\u001b[39m     loss.backward()\n\u001b[32m---> \u001b[39m\u001b[32m60\u001b[39m     \u001b[43moptimizer\u001b[49m\u001b[43m.\u001b[49m\u001b[43mstep\u001b[49m\u001b[43m(\u001b[49m\u001b[43m)\u001b[49m\n\u001b[32m     62\u001b[39m model.eval()\n\u001b[32m     63\u001b[39m \u001b[38;5;28;01mwith\u001b[39;00m torch.no_grad():\n",
      "\u001b[36mFile \u001b[39m\u001b[32m~/personal-projects/instadeep-bioai/.venv/lib/python3.12/site-packages/torch/optim/optimizer.py:516\u001b[39m, in \u001b[36mOptimizer.profile_hook_step.<locals>.wrapper\u001b[39m\u001b[34m(*args, **kwargs)\u001b[39m\n\u001b[32m    511\u001b[39m         \u001b[38;5;28;01melse\u001b[39;00m:\n\u001b[32m    512\u001b[39m             \u001b[38;5;28;01mraise\u001b[39;00m \u001b[38;5;167;01mRuntimeError\u001b[39;00m(\n\u001b[32m    513\u001b[39m                 \u001b[33mf\u001b[39m\u001b[33m\"\u001b[39m\u001b[38;5;132;01m{\u001b[39;00mfunc\u001b[38;5;132;01m}\u001b[39;00m\u001b[33m must return None or a tuple of (new_args, new_kwargs), but got \u001b[39m\u001b[38;5;132;01m{\u001b[39;00mresult\u001b[38;5;132;01m}\u001b[39;00m\u001b[33m.\u001b[39m\u001b[33m\"\u001b[39m\n\u001b[32m    514\u001b[39m             )\n\u001b[32m--> \u001b[39m\u001b[32m516\u001b[39m out = \u001b[43mfunc\u001b[49m\u001b[43m(\u001b[49m\u001b[43m*\u001b[49m\u001b[43margs\u001b[49m\u001b[43m,\u001b[49m\u001b[43m \u001b[49m\u001b[43m*\u001b[49m\u001b[43m*\u001b[49m\u001b[43mkwargs\u001b[49m\u001b[43m)\u001b[49m\n\u001b[32m    517\u001b[39m \u001b[38;5;28mself\u001b[39m._optimizer_step_code()\n\u001b[32m    519\u001b[39m \u001b[38;5;66;03m# call optimizer step post hooks\u001b[39;00m\n",
      "\u001b[36mFile \u001b[39m\u001b[32m~/personal-projects/instadeep-bioai/.venv/lib/python3.12/site-packages/torch/optim/optimizer.py:81\u001b[39m, in \u001b[36m_use_grad_for_differentiable.<locals>._use_grad\u001b[39m\u001b[34m(*args, **kwargs)\u001b[39m\n\u001b[32m     79\u001b[39m     torch.set_grad_enabled(\u001b[38;5;28mself\u001b[39m.defaults[\u001b[33m\"\u001b[39m\u001b[33mdifferentiable\u001b[39m\u001b[33m\"\u001b[39m])\n\u001b[32m     80\u001b[39m     torch._dynamo.graph_break()\n\u001b[32m---> \u001b[39m\u001b[32m81\u001b[39m     ret = \u001b[43mfunc\u001b[49m\u001b[43m(\u001b[49m\u001b[43m*\u001b[49m\u001b[43margs\u001b[49m\u001b[43m,\u001b[49m\u001b[43m \u001b[49m\u001b[43m*\u001b[49m\u001b[43m*\u001b[49m\u001b[43mkwargs\u001b[49m\u001b[43m)\u001b[49m\n\u001b[32m     82\u001b[39m \u001b[38;5;28;01mfinally\u001b[39;00m:\n\u001b[32m     83\u001b[39m     torch._dynamo.graph_break()\n",
      "\u001b[36mFile \u001b[39m\u001b[32m~/personal-projects/instadeep-bioai/.venv/lib/python3.12/site-packages/torch/optim/adam.py:247\u001b[39m, in \u001b[36mAdam.step\u001b[39m\u001b[34m(self, closure)\u001b[39m\n\u001b[32m    235\u001b[39m     beta1, beta2 = group[\u001b[33m\"\u001b[39m\u001b[33mbetas\u001b[39m\u001b[33m\"\u001b[39m]\n\u001b[32m    237\u001b[39m     has_complex = \u001b[38;5;28mself\u001b[39m._init_group(\n\u001b[32m    238\u001b[39m         group,\n\u001b[32m    239\u001b[39m         params_with_grad,\n\u001b[32m   (...)\u001b[39m\u001b[32m    244\u001b[39m         state_steps,\n\u001b[32m    245\u001b[39m     )\n\u001b[32m--> \u001b[39m\u001b[32m247\u001b[39m     \u001b[43madam\u001b[49m\u001b[43m(\u001b[49m\n\u001b[32m    248\u001b[39m \u001b[43m        \u001b[49m\u001b[43mparams_with_grad\u001b[49m\u001b[43m,\u001b[49m\n\u001b[32m    249\u001b[39m \u001b[43m        \u001b[49m\u001b[43mgrads\u001b[49m\u001b[43m,\u001b[49m\n\u001b[32m    250\u001b[39m \u001b[43m        \u001b[49m\u001b[43mexp_avgs\u001b[49m\u001b[43m,\u001b[49m\n\u001b[32m    251\u001b[39m \u001b[43m        \u001b[49m\u001b[43mexp_avg_sqs\u001b[49m\u001b[43m,\u001b[49m\n\u001b[32m    252\u001b[39m \u001b[43m        \u001b[49m\u001b[43mmax_exp_avg_sqs\u001b[49m\u001b[43m,\u001b[49m\n\u001b[32m    253\u001b[39m \u001b[43m        \u001b[49m\u001b[43mstate_steps\u001b[49m\u001b[43m,\u001b[49m\n\u001b[32m    254\u001b[39m \u001b[43m        \u001b[49m\u001b[43mamsgrad\u001b[49m\u001b[43m=\u001b[49m\u001b[43mgroup\u001b[49m\u001b[43m[\u001b[49m\u001b[33;43m\"\u001b[39;49m\u001b[33;43mamsgrad\u001b[39;49m\u001b[33;43m\"\u001b[39;49m\u001b[43m]\u001b[49m\u001b[43m,\u001b[49m\n\u001b[32m    255\u001b[39m \u001b[43m        \u001b[49m\u001b[43mhas_complex\u001b[49m\u001b[43m=\u001b[49m\u001b[43mhas_complex\u001b[49m\u001b[43m,\u001b[49m\n\u001b[32m    256\u001b[39m \u001b[43m        \u001b[49m\u001b[43mbeta1\u001b[49m\u001b[43m=\u001b[49m\u001b[43mbeta1\u001b[49m\u001b[43m,\u001b[49m\n\u001b[32m    257\u001b[39m \u001b[43m        \u001b[49m\u001b[43mbeta2\u001b[49m\u001b[43m=\u001b[49m\u001b[43mbeta2\u001b[49m\u001b[43m,\u001b[49m\n\u001b[32m    258\u001b[39m \u001b[43m        \u001b[49m\u001b[43mlr\u001b[49m\u001b[43m=\u001b[49m\u001b[43mgroup\u001b[49m\u001b[43m[\u001b[49m\u001b[33;43m\"\u001b[39;49m\u001b[33;43mlr\u001b[39;49m\u001b[33;43m\"\u001b[39;49m\u001b[43m]\u001b[49m\u001b[43m,\u001b[49m\n\u001b[32m    259\u001b[39m \u001b[43m        \u001b[49m\u001b[43mweight_decay\u001b[49m\u001b[43m=\u001b[49m\u001b[43mgroup\u001b[49m\u001b[43m[\u001b[49m\u001b[33;43m\"\u001b[39;49m\u001b[33;43mweight_decay\u001b[39;49m\u001b[33;43m\"\u001b[39;49m\u001b[43m]\u001b[49m\u001b[43m,\u001b[49m\n\u001b[32m    260\u001b[39m \u001b[43m        \u001b[49m\u001b[43meps\u001b[49m\u001b[43m=\u001b[49m\u001b[43mgroup\u001b[49m\u001b[43m[\u001b[49m\u001b[33;43m\"\u001b[39;49m\u001b[33;43meps\u001b[39;49m\u001b[33;43m\"\u001b[39;49m\u001b[43m]\u001b[49m\u001b[43m,\u001b[49m\n\u001b[32m    261\u001b[39m \u001b[43m        \u001b[49m\u001b[43mmaximize\u001b[49m\u001b[43m=\u001b[49m\u001b[43mgroup\u001b[49m\u001b[43m[\u001b[49m\u001b[33;43m\"\u001b[39;49m\u001b[33;43mmaximize\u001b[39;49m\u001b[33;43m\"\u001b[39;49m\u001b[43m]\u001b[49m\u001b[43m,\u001b[49m\n\u001b[32m    262\u001b[39m \u001b[43m        \u001b[49m\u001b[43mforeach\u001b[49m\u001b[43m=\u001b[49m\u001b[43mgroup\u001b[49m\u001b[43m[\u001b[49m\u001b[33;43m\"\u001b[39;49m\u001b[33;43mforeach\u001b[39;49m\u001b[33;43m\"\u001b[39;49m\u001b[43m]\u001b[49m\u001b[43m,\u001b[49m\n\u001b[32m    263\u001b[39m \u001b[43m        \u001b[49m\u001b[43mcapturable\u001b[49m\u001b[43m=\u001b[49m\u001b[43mgroup\u001b[49m\u001b[43m[\u001b[49m\u001b[33;43m\"\u001b[39;49m\u001b[33;43mcapturable\u001b[39;49m\u001b[33;43m\"\u001b[39;49m\u001b[43m]\u001b[49m\u001b[43m,\u001b[49m\n\u001b[32m    264\u001b[39m \u001b[43m        \u001b[49m\u001b[43mdifferentiable\u001b[49m\u001b[43m=\u001b[49m\u001b[43mgroup\u001b[49m\u001b[43m[\u001b[49m\u001b[33;43m\"\u001b[39;49m\u001b[33;43mdifferentiable\u001b[39;49m\u001b[33;43m\"\u001b[39;49m\u001b[43m]\u001b[49m\u001b[43m,\u001b[49m\n\u001b[32m    265\u001b[39m \u001b[43m        \u001b[49m\u001b[43mfused\u001b[49m\u001b[43m=\u001b[49m\u001b[43mgroup\u001b[49m\u001b[43m[\u001b[49m\u001b[33;43m\"\u001b[39;49m\u001b[33;43mfused\u001b[39;49m\u001b[33;43m\"\u001b[39;49m\u001b[43m]\u001b[49m\u001b[43m,\u001b[49m\n\u001b[32m    266\u001b[39m \u001b[43m        \u001b[49m\u001b[43mgrad_scale\u001b[49m\u001b[43m=\u001b[49m\u001b[38;5;28;43mgetattr\u001b[39;49m\u001b[43m(\u001b[49m\u001b[38;5;28;43mself\u001b[39;49m\u001b[43m,\u001b[49m\u001b[43m \u001b[49m\u001b[33;43m\"\u001b[39;49m\u001b[33;43mgrad_scale\u001b[39;49m\u001b[33;43m\"\u001b[39;49m\u001b[43m,\u001b[49m\u001b[43m \u001b[49m\u001b[38;5;28;43;01mNone\u001b[39;49;00m\u001b[43m)\u001b[49m\u001b[43m,\u001b[49m\n\u001b[32m    267\u001b[39m \u001b[43m        \u001b[49m\u001b[43mfound_inf\u001b[49m\u001b[43m=\u001b[49m\u001b[38;5;28;43mgetattr\u001b[39;49m\u001b[43m(\u001b[49m\u001b[38;5;28;43mself\u001b[39;49m\u001b[43m,\u001b[49m\u001b[43m \u001b[49m\u001b[33;43m\"\u001b[39;49m\u001b[33;43mfound_inf\u001b[39;49m\u001b[33;43m\"\u001b[39;49m\u001b[43m,\u001b[49m\u001b[43m \u001b[49m\u001b[38;5;28;43;01mNone\u001b[39;49;00m\u001b[43m)\u001b[49m\u001b[43m,\u001b[49m\n\u001b[32m    268\u001b[39m \u001b[43m        \u001b[49m\u001b[43mdecoupled_weight_decay\u001b[49m\u001b[43m=\u001b[49m\u001b[43mgroup\u001b[49m\u001b[43m[\u001b[49m\u001b[33;43m\"\u001b[39;49m\u001b[33;43mdecoupled_weight_decay\u001b[39;49m\u001b[33;43m\"\u001b[39;49m\u001b[43m]\u001b[49m\u001b[43m,\u001b[49m\n\u001b[32m    269\u001b[39m \u001b[43m    \u001b[49m\u001b[43m)\u001b[49m\n\u001b[32m    271\u001b[39m \u001b[38;5;28;01mreturn\u001b[39;00m loss\n",
      "\u001b[36mFile \u001b[39m\u001b[32m~/personal-projects/instadeep-bioai/.venv/lib/python3.12/site-packages/torch/optim/optimizer.py:149\u001b[39m, in \u001b[36m_disable_dynamo_if_unsupported.<locals>.wrapper.<locals>.maybe_fallback\u001b[39m\u001b[34m(*args, **kwargs)\u001b[39m\n\u001b[32m    147\u001b[39m     \u001b[38;5;28;01mreturn\u001b[39;00m disabled_func(*args, **kwargs)\n\u001b[32m    148\u001b[39m \u001b[38;5;28;01melse\u001b[39;00m:\n\u001b[32m--> \u001b[39m\u001b[32m149\u001b[39m     \u001b[38;5;28;01mreturn\u001b[39;00m \u001b[43mfunc\u001b[49m\u001b[43m(\u001b[49m\u001b[43m*\u001b[49m\u001b[43margs\u001b[49m\u001b[43m,\u001b[49m\u001b[43m \u001b[49m\u001b[43m*\u001b[49m\u001b[43m*\u001b[49m\u001b[43mkwargs\u001b[49m\u001b[43m)\u001b[49m\n",
      "\u001b[36mFile \u001b[39m\u001b[32m~/personal-projects/instadeep-bioai/.venv/lib/python3.12/site-packages/torch/optim/adam.py:949\u001b[39m, in \u001b[36madam\u001b[39m\u001b[34m(params, grads, exp_avgs, exp_avg_sqs, max_exp_avg_sqs, state_steps, foreach, capturable, differentiable, fused, grad_scale, found_inf, has_complex, decoupled_weight_decay, amsgrad, beta1, beta2, lr, weight_decay, eps, maximize)\u001b[39m\n\u001b[32m    946\u001b[39m \u001b[38;5;28;01melse\u001b[39;00m:\n\u001b[32m    947\u001b[39m     func = _single_tensor_adam\n\u001b[32m--> \u001b[39m\u001b[32m949\u001b[39m \u001b[43mfunc\u001b[49m\u001b[43m(\u001b[49m\n\u001b[32m    950\u001b[39m \u001b[43m    \u001b[49m\u001b[43mparams\u001b[49m\u001b[43m,\u001b[49m\n\u001b[32m    951\u001b[39m \u001b[43m    \u001b[49m\u001b[43mgrads\u001b[49m\u001b[43m,\u001b[49m\n\u001b[32m    952\u001b[39m \u001b[43m    \u001b[49m\u001b[43mexp_avgs\u001b[49m\u001b[43m,\u001b[49m\n\u001b[32m    953\u001b[39m \u001b[43m    \u001b[49m\u001b[43mexp_avg_sqs\u001b[49m\u001b[43m,\u001b[49m\n\u001b[32m    954\u001b[39m \u001b[43m    \u001b[49m\u001b[43mmax_exp_avg_sqs\u001b[49m\u001b[43m,\u001b[49m\n\u001b[32m    955\u001b[39m \u001b[43m    \u001b[49m\u001b[43mstate_steps\u001b[49m\u001b[43m,\u001b[49m\n\u001b[32m    956\u001b[39m \u001b[43m    \u001b[49m\u001b[43mamsgrad\u001b[49m\u001b[43m=\u001b[49m\u001b[43mamsgrad\u001b[49m\u001b[43m,\u001b[49m\n\u001b[32m    957\u001b[39m \u001b[43m    \u001b[49m\u001b[43mhas_complex\u001b[49m\u001b[43m=\u001b[49m\u001b[43mhas_complex\u001b[49m\u001b[43m,\u001b[49m\n\u001b[32m    958\u001b[39m \u001b[43m    \u001b[49m\u001b[43mbeta1\u001b[49m\u001b[43m=\u001b[49m\u001b[43mbeta1\u001b[49m\u001b[43m,\u001b[49m\n\u001b[32m    959\u001b[39m \u001b[43m    \u001b[49m\u001b[43mbeta2\u001b[49m\u001b[43m=\u001b[49m\u001b[43mbeta2\u001b[49m\u001b[43m,\u001b[49m\n\u001b[32m    960\u001b[39m \u001b[43m    \u001b[49m\u001b[43mlr\u001b[49m\u001b[43m=\u001b[49m\u001b[43mlr\u001b[49m\u001b[43m,\u001b[49m\n\u001b[32m    961\u001b[39m \u001b[43m    \u001b[49m\u001b[43mweight_decay\u001b[49m\u001b[43m=\u001b[49m\u001b[43mweight_decay\u001b[49m\u001b[43m,\u001b[49m\n\u001b[32m    962\u001b[39m \u001b[43m    \u001b[49m\u001b[43meps\u001b[49m\u001b[43m=\u001b[49m\u001b[43meps\u001b[49m\u001b[43m,\u001b[49m\n\u001b[32m    963\u001b[39m \u001b[43m    \u001b[49m\u001b[43mmaximize\u001b[49m\u001b[43m=\u001b[49m\u001b[43mmaximize\u001b[49m\u001b[43m,\u001b[49m\n\u001b[32m    964\u001b[39m \u001b[43m    \u001b[49m\u001b[43mcapturable\u001b[49m\u001b[43m=\u001b[49m\u001b[43mcapturable\u001b[49m\u001b[43m,\u001b[49m\n\u001b[32m    965\u001b[39m \u001b[43m    \u001b[49m\u001b[43mdifferentiable\u001b[49m\u001b[43m=\u001b[49m\u001b[43mdifferentiable\u001b[49m\u001b[43m,\u001b[49m\n\u001b[32m    966\u001b[39m \u001b[43m    \u001b[49m\u001b[43mgrad_scale\u001b[49m\u001b[43m=\u001b[49m\u001b[43mgrad_scale\u001b[49m\u001b[43m,\u001b[49m\n\u001b[32m    967\u001b[39m \u001b[43m    \u001b[49m\u001b[43mfound_inf\u001b[49m\u001b[43m=\u001b[49m\u001b[43mfound_inf\u001b[49m\u001b[43m,\u001b[49m\n\u001b[32m    968\u001b[39m \u001b[43m    \u001b[49m\u001b[43mdecoupled_weight_decay\u001b[49m\u001b[43m=\u001b[49m\u001b[43mdecoupled_weight_decay\u001b[49m\u001b[43m,\u001b[49m\n\u001b[32m    969\u001b[39m \u001b[43m\u001b[49m\u001b[43m)\u001b[49m\n",
      "\u001b[36mFile \u001b[39m\u001b[32m~/personal-projects/instadeep-bioai/.venv/lib/python3.12/site-packages/torch/optim/adam.py:535\u001b[39m, in \u001b[36m_single_tensor_adam\u001b[39m\u001b[34m(params, grads, exp_avgs, exp_avg_sqs, max_exp_avg_sqs, state_steps, grad_scale, found_inf, amsgrad, has_complex, beta1, beta2, lr, weight_decay, eps, maximize, capturable, differentiable, decoupled_weight_decay)\u001b[39m\n\u001b[32m    532\u001b[39m     \u001b[38;5;28;01melse\u001b[39;00m:\n\u001b[32m    533\u001b[39m         denom = (exp_avg_sq.sqrt() / bias_correction2_sqrt).add_(eps)\n\u001b[32m--> \u001b[39m\u001b[32m535\u001b[39m     \u001b[43mparam\u001b[49m\u001b[43m.\u001b[49m\u001b[43maddcdiv_\u001b[49m\u001b[43m(\u001b[49m\u001b[43mexp_avg\u001b[49m\u001b[43m,\u001b[49m\u001b[43m \u001b[49m\u001b[43mdenom\u001b[49m\u001b[43m,\u001b[49m\u001b[43m \u001b[49m\u001b[43mvalue\u001b[49m\u001b[43m=\u001b[49m\u001b[43m-\u001b[49m\u001b[43mstep_size\u001b[49m\u001b[43m)\u001b[49m\n\u001b[32m    537\u001b[39m \u001b[38;5;66;03m# Lastly, switch back to complex view\u001b[39;00m\n\u001b[32m    538\u001b[39m \u001b[38;5;28;01mif\u001b[39;00m amsgrad \u001b[38;5;129;01mand\u001b[39;00m torch.is_complex(params[i]):\n",
      "\u001b[31mKeyboardInterrupt\u001b[39m: "
     ]
    }
   ],
   "source": [
    "class EmbeddingNN(nn.Module):\n",
    "    def __init__(self, vocab_size, input_size, hidden_size, out_size):\n",
    "        # input_size - seq len\n",
    "        # -> should be vocab size\n",
    "        # hidden_size - embedding dimension\n",
    "        # out_size - n_classes\n",
    "        super().__init__()\n",
    "        self.input_size = input_size\n",
    "        self.vocab_size = vocab_size\n",
    "        self.hidden_size = hidden_size\n",
    "        self.out_size = out_size\n",
    "\n",
    "        self.emb = nn.Embedding(vocab_size, hidden_size)\n",
    "        self.pos = nn.Embedding(input_size, hidden_size)\n",
    "        self.norm = nn.LayerNorm(hidden_size)\n",
    "\n",
    "        self.fc = nn.Sequential(\n",
    "            nn.Linear(hidden_size, hidden_size),\n",
    "            nn.ReLU(),\n",
    "            nn.Linear(hidden_size, out_size),\n",
    "        )\n",
    "        self.register_buffer(\n",
    "            \"pos_idx\", torch.arange(input_size, dtype=torch.long), persistent=False\n",
    "        )\n",
    "\n",
    "    def forward(self, x, y=None):\n",
    "        out = self.emb(x) + self.pos(self.pos_idx)\n",
    "        out = self.norm(out).mean(dim=1)\n",
    "        logits = self.fc(out)\n",
    "\n",
    "        loss = None\n",
    "        preds = None\n",
    "        if y is not None:\n",
    "            loss = F.cross_entropy(logits, y.view(-1))\n",
    "            preds = logits.argmax(dim=1)\n",
    "\n",
    "        return logits, loss, preds\n",
    "\n",
    "\n",
    "device = \"mps\"  # not much diff on mps and ooms\n",
    "model = EmbeddingNN(VOCAB_SIZE, MAX_SEQ_LEN, MAX_SEQ_LEN // 2, N_CLASSES).to(device)\n",
    "\n",
    "optimizer = torch.optim.AdamW(model.parameters(), lr=1e-4, weight_decay=1e-5)\n",
    "\n",
    "n_epochs = 30\n",
    "loss_histories = defaultdict(list)\n",
    "acc_histories = defaultdict(list)\n",
    "\n",
    "X_valid = X_valid.to(device)\n",
    "y_valid = y_valid.to(device)\n",
    "\n",
    "for epoch in range(n_epochs):\n",
    "    train_loss = 0\n",
    "    for step, batch in enumerate(tqdm(dataloader)):\n",
    "        xb, yb = batch\n",
    "        xb = xb.to(device)\n",
    "        yb = yb.to(device)\n",
    "        logits, loss, _ = model(xb, yb)\n",
    "        train_loss += loss.item()\n",
    "\n",
    "        optimizer.zero_grad()\n",
    "        loss.backward()\n",
    "        optimizer.step()\n",
    "\n",
    "    model.eval()\n",
    "    with torch.no_grad():\n",
    "        train_loss /= len(dataloader)\n",
    "        loss_histories[\"train\"].append(train_loss)\n",
    "\n",
    "        val_logits, val_loss, y_pred = model(X_valid, y_valid)\n",
    "        loss_histories[\"valid\"].append(val_loss)\n",
    "\n",
    "        val_acc = balanced_accuracy_score(y_valid.cpu(), y_pred.cpu())\n",
    "        tqdm.write(\n",
    "            f\"Epoch: {epoch}, train loss: {train_loss:.4f}, val_loss: {val_loss:.4f}, val_acc {val_acc:.4f}\"\n",
    "        )\n",
    "    model.train()"
   ]
  },
  {
   "cell_type": "code",
   "execution_count": 26,
   "id": "d0b0b075",
   "metadata": {},
   "outputs": [
    {
     "name": "stderr",
     "output_type": "stream",
     "text": [
      "Some weights of EsmModel were not initialized from the model checkpoint at facebook/esm2_t6_8M_UR50D and are newly initialized: ['pooler.dense.bias', 'pooler.dense.weight']\n",
      "You should probably TRAIN this model on a down-stream task to be able to use it for predictions and inference.\n"
     ]
    },
    {
     "data": {
      "application/vnd.jupyter.widget-view+json": {
       "model_id": "744bf8be8dbd482585a73a2c030a6452",
       "version_major": 2,
       "version_minor": 0
      },
      "text/plain": [
       "  0%|          | 0/1035 [00:00<?, ?it/s]"
      ]
     },
     "metadata": {},
     "output_type": "display_data"
    },
    {
     "ename": "KeyboardInterrupt",
     "evalue": "",
     "output_type": "error",
     "traceback": [
      "\u001b[31m---------------------------------------------------------------------------\u001b[39m",
      "\u001b[31mKeyboardInterrupt\u001b[39m                         Traceback (most recent call last)",
      "\u001b[36mCell\u001b[39m\u001b[36m \u001b[39m\u001b[32mIn[26]\u001b[39m\u001b[32m, line 30\u001b[39m\n\u001b[32m     26\u001b[39m             embeddings_list.append(batch_embeddings.cpu())\n\u001b[32m     28\u001b[39m     \u001b[38;5;28;01mreturn\u001b[39;00m torch.concat(embeddings_list)\n\u001b[32m---> \u001b[39m\u001b[32m30\u001b[39m train_embeddings = \u001b[43mconvert_to_embeddings\u001b[49m\u001b[43m(\u001b[49m\u001b[43mtrain_df\u001b[49m\u001b[43m,\u001b[49m\u001b[43m \u001b[49m\u001b[43mbatch_size\u001b[49m\u001b[43m=\u001b[49m\u001b[32;43m64\u001b[39;49m\u001b[43m)\u001b[49m\n\u001b[32m     31\u001b[39m train_embeddings.shape\n",
      "\u001b[36mCell\u001b[39m\u001b[36m \u001b[39m\u001b[32mIn[26]\u001b[39m\u001b[32m, line 26\u001b[39m, in \u001b[36mconvert_to_embeddings\u001b[39m\u001b[34m(df, batch_size)\u001b[39m\n\u001b[32m     24\u001b[39m         out = model(**batch.to(device))\n\u001b[32m     25\u001b[39m         batch_embeddings = out.last_hidden_state[:, CLS_TOKEN_ID, :]\n\u001b[32m---> \u001b[39m\u001b[32m26\u001b[39m         embeddings_list.append(\u001b[43mbatch_embeddings\u001b[49m\u001b[43m.\u001b[49m\u001b[43mcpu\u001b[49m\u001b[43m(\u001b[49m\u001b[43m)\u001b[49m)\n\u001b[32m     28\u001b[39m \u001b[38;5;28;01mreturn\u001b[39;00m torch.concat(embeddings_list)\n",
      "\u001b[31mKeyboardInterrupt\u001b[39m: "
     ]
    }
   ],
   "source": [
    "from transformers import AutoTokenizer, EsmModel\n",
    "import math\n",
    "\n",
    "\n",
    "model_id = \"facebook/esm2_t6_8M_UR50D\"\n",
    "device = \"mps\"\n",
    "tok = AutoTokenizer.from_pretrained(model_id, do_lower_case=False)\n",
    "model = EsmModel.from_pretrained(model_id).to(device)\n",
    "\n",
    "model.eval()\n",
    "\n",
    "CLS_TOKEN_ID = tok.cls_token_id\n",
    "\n",
    "\n",
    "def convert_to_embeddings(df, batch_size=64):\n",
    "    n_batches = math.ceil(len(df) / batch_size)\n",
    "    embeddings_list = []\n",
    "    with torch.no_grad():\n",
    "        for batch in tqdm(range(n_batches)):\n",
    "            start = batch * batch_size\n",
    "            end = min(len(df), (batch + 1) * batch_size)\n",
    "            batch = tok(list(df[\"sequence\"].iloc[start:end]), return_tensors=\"pt\")\n",
    "\n",
    "            out = model(**batch.to(device))\n",
    "            batch_embeddings = out.last_hidden_state[:, CLS_TOKEN_ID, :]\n",
    "            embeddings_list.append(batch_embeddings.cpu())\n",
    "\n",
    "    return torch.concat(embeddings_list)\n",
    "\n",
    "\n",
    "train_embeddings = convert_to_embeddings(train_df, batch_size=64)\n",
    "train_embeddings.shape"
   ]
  },
  {
   "cell_type": "code",
   "execution_count": 10,
   "id": "d852092e",
   "metadata": {},
   "outputs": [
    {
     "data": {
      "text/plain": [
       "0"
      ]
     },
     "execution_count": 10,
     "metadata": {},
     "output_type": "execute_result"
    }
   ],
   "source": [
    "tok.cls_token_id"
   ]
  },
  {
   "cell_type": "code",
   "execution_count": null,
   "id": "5159f9ea",
   "metadata": {},
   "outputs": [],
   "source": []
  }
 ],
 "metadata": {
  "kernelspec": {
   "display_name": "instadeep-bioai",
   "language": "python",
   "name": "python3"
  },
  "language_info": {
   "codemirror_mode": {
    "name": "ipython",
    "version": 3
   },
   "file_extension": ".py",
   "mimetype": "text/x-python",
   "name": "python",
   "nbconvert_exporter": "python",
   "pygments_lexer": "ipython3",
   "version": "3.12.7"
  }
 },
 "nbformat": 4,
 "nbformat_minor": 5
}
