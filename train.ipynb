{
 "cells": [
  {
   "cell_type": "code",
   "execution_count": 1,
   "id": "8cfd9245",
   "metadata": {},
   "outputs": [],
   "source": [
    "import pandas as pd\n",
    "import torch\n",
    "from sklearn.preprocessing import LabelEncoder, OrdinalEncoder\n",
    "\n",
    "import torch.nn as nn\n",
    "import torch.nn.functional as F\n",
    "from torch.utils.data import DataLoader, TensorDataset\n",
    "from tqdm.notebook import tqdm\n",
    "from collections import defaultdict"
   ]
  },
  {
   "cell_type": "code",
   "execution_count": 2,
   "id": "6e4e27c6",
   "metadata": {},
   "outputs": [
    {
     "data": {
      "text/plain": [
       "'cuda'"
      ]
     },
     "execution_count": 2,
     "metadata": {},
     "output_type": "execute_result"
    }
   ],
   "source": [
    "device = \"cpu\"\n",
    "if torch.cuda.is_available():\n",
    "    device = \"cuda\"\n",
    "elif torch.backends.mps.is_available():\n",
    "    device = \"mps\"\n",
    "\n",
    "device"
   ]
  },
  {
   "cell_type": "code",
   "execution_count": 3,
   "id": "bd8b7c22",
   "metadata": {},
   "outputs": [
    {
     "data": {
      "text/html": [
       "<div>\n",
       "<style scoped>\n",
       "    .dataframe tbody tr th:only-of-type {\n",
       "        vertical-align: middle;\n",
       "    }\n",
       "\n",
       "    .dataframe tbody tr th {\n",
       "        vertical-align: top;\n",
       "    }\n",
       "\n",
       "    .dataframe thead th {\n",
       "        text-align: right;\n",
       "    }\n",
       "</style>\n",
       "<table border=\"1\" class=\"dataframe\">\n",
       "  <thead>\n",
       "    <tr style=\"text-align: right;\">\n",
       "      <th></th>\n",
       "      <th>family_id</th>\n",
       "      <th>sequence_name</th>\n",
       "      <th>family_accession</th>\n",
       "      <th>aligned_sequence</th>\n",
       "      <th>sequence</th>\n",
       "    </tr>\n",
       "    <tr>\n",
       "      <th>index</th>\n",
       "      <th></th>\n",
       "      <th></th>\n",
       "      <th></th>\n",
       "      <th></th>\n",
       "      <th></th>\n",
       "    </tr>\n",
       "  </thead>\n",
       "  <tbody>\n",
       "    <tr>\n",
       "      <th>8</th>\n",
       "      <td>Trigger_N</td>\n",
       "      <td>F2I568_AERUA/1-145</td>\n",
       "      <td>PF05697.13</td>\n",
       "      <td>MSVKFEETAT...N.EGVLHFTVSKEDAQKA....LKQAYNRVKG....</td>\n",
       "      <td>MSVKFEETATNEGVLHFTVSKEDAQKALKQAYNRVKGKVNIPGFRK...</td>\n",
       "    </tr>\n",
       "    <tr>\n",
       "      <th>43</th>\n",
       "      <td>PCRF</td>\n",
       "      <td>D5ANC6_RHOCB/10-198</td>\n",
       "      <td>PF03462.18</td>\n",
       "      <td>ITARFEFLEAKL....NTAL......P.PAEIATL...SREY..SD...</td>\n",
       "      <td>ITARFEFLEAKLNTALPPAEIATLSREYSDLRPVVTEIAAYRQSLD...</td>\n",
       "    </tr>\n",
       "    <tr>\n",
       "      <th>68</th>\n",
       "      <td>IPPT</td>\n",
       "      <td>MIAA_ONYPE/37-265</td>\n",
       "      <td>PF01715.17</td>\n",
       "      <td>QMYQKYDIGTAKITL......EEA.....QGI.........K.......</td>\n",
       "      <td>QMYQKYDIGTAKITLEEAQGIKHHLLDFLAPGTNYSIYHFQKDARK...</td>\n",
       "    </tr>\n",
       "    <tr>\n",
       "      <th>71</th>\n",
       "      <td>HTH_1</td>\n",
       "      <td>Q9F2K8_STRCO/4-63</td>\n",
       "      <td>PF00126.27</td>\n",
       "      <td>VRHLECFVAVAEES.HFGRAAT.RLGM...AQPPLSQRIQRLEK.E...</td>\n",
       "      <td>VRHLECFVAVAEESHFGRAATRLGMAQPPLSQRIQRLEKELGVRLF...</td>\n",
       "    </tr>\n",
       "    <tr>\n",
       "      <th>99</th>\n",
       "      <td>Methyltransf_25</td>\n",
       "      <td>Q2S1D8_SALRD/44-141</td>\n",
       "      <td>PF13649.6</td>\n",
       "      <td>ILDIGCGR.G...R..HA...RA..LV.RR.......G...........</td>\n",
       "      <td>ILDIGCGRGRHARALVRRGWQVTGLDLSEDAVAAARSRVADDDLDV...</td>\n",
       "    </tr>\n",
       "    <tr>\n",
       "      <th>...</th>\n",
       "      <td>...</td>\n",
       "      <td>...</td>\n",
       "      <td>...</td>\n",
       "      <td>...</td>\n",
       "      <td>...</td>\n",
       "    </tr>\n",
       "    <tr>\n",
       "      <th>13278</th>\n",
       "      <td>His_kinase</td>\n",
       "      <td>D2PX86_KRIFD/171-249</td>\n",
       "      <td>PF06580.13</td>\n",
       "      <td>AE.L..RALRAQISPHFIYNALAAI......A....SF...V.......</td>\n",
       "      <td>AELRALRAQISPHFIYNALAAIASFVRTDPERARELLLEFADFSRY...</td>\n",
       "    </tr>\n",
       "    <tr>\n",
       "      <th>13287</th>\n",
       "      <td>Glycos_trans_3N</td>\n",
       "      <td>D7BI04_MEISD/4-63</td>\n",
       "      <td>PF02885.17</td>\n",
       "      <td>...LKKALHA.....E.PLTQDEAHRLMSRI..MS.GD...........</td>\n",
       "      <td>LKKALHAEPLTQDEAHRLMSRIMSGDLTPAQTAGVLIALRTRGETL...</td>\n",
       "    </tr>\n",
       "    <tr>\n",
       "      <th>13304</th>\n",
       "      <td>MutS_III</td>\n",
       "      <td>MSH3_MOUSE/498-793</td>\n",
       "      <td>PF05192.18</td>\n",
       "      <td>TTLRNLEM.VQ................NQTDM.................</td>\n",
       "      <td>TTLRNLEMVQNQTDMKTKGSLLWVLDHTKTSFGRRKLKNWVTQPLL...</td>\n",
       "    </tr>\n",
       "    <tr>\n",
       "      <th>13349</th>\n",
       "      <td>Glycos_trans_3N</td>\n",
       "      <td>G0A160_METMM/11-75</td>\n",
       "      <td>PF02885.17</td>\n",
       "      <td>AEFIKILGKGKK.GSR.PLTQDEAYRAMKMI..LA.GE...........</td>\n",
       "      <td>AEFIKILGKGKKGSRPLTQDEAYRAMKMILAGEVQPIQLGAFLMLM...</td>\n",
       "    </tr>\n",
       "    <tr>\n",
       "      <th>13353</th>\n",
       "      <td>Methyltransf_25</td>\n",
       "      <td>F5XFZ5_MICPN/59-155</td>\n",
       "      <td>PF13649.6</td>\n",
       "      <td>VVDLGCGS.G...A..ST...DA..LV.NS.......MG.HRG......</td>\n",
       "      <td>VVDLGCGSGASTDALVNSMGHRGETYAAIGIDASAGMLTEAHSKPW...</td>\n",
       "    </tr>\n",
       "  </tbody>\n",
       "</table>\n",
       "<p>66226 rows × 5 columns</p>\n",
       "</div>"
      ],
      "text/plain": [
       "             family_id         sequence_name family_accession  \\\n",
       "index                                                           \n",
       "8            Trigger_N    F2I568_AERUA/1-145       PF05697.13   \n",
       "43                PCRF   D5ANC6_RHOCB/10-198       PF03462.18   \n",
       "68                IPPT     MIAA_ONYPE/37-265       PF01715.17   \n",
       "71               HTH_1     Q9F2K8_STRCO/4-63       PF00126.27   \n",
       "99     Methyltransf_25   Q2S1D8_SALRD/44-141        PF13649.6   \n",
       "...                ...                   ...              ...   \n",
       "13278       His_kinase  D2PX86_KRIFD/171-249       PF06580.13   \n",
       "13287  Glycos_trans_3N     D7BI04_MEISD/4-63       PF02885.17   \n",
       "13304         MutS_III    MSH3_MOUSE/498-793       PF05192.18   \n",
       "13349  Glycos_trans_3N    G0A160_METMM/11-75       PF02885.17   \n",
       "13353  Methyltransf_25   F5XFZ5_MICPN/59-155        PF13649.6   \n",
       "\n",
       "                                        aligned_sequence  \\\n",
       "index                                                      \n",
       "8      MSVKFEETAT...N.EGVLHFTVSKEDAQKA....LKQAYNRVKG....   \n",
       "43     ITARFEFLEAKL....NTAL......P.PAEIATL...SREY..SD...   \n",
       "68     QMYQKYDIGTAKITL......EEA.....QGI.........K.......   \n",
       "71     VRHLECFVAVAEES.HFGRAAT.RLGM...AQPPLSQRIQRLEK.E...   \n",
       "99     ILDIGCGR.G...R..HA...RA..LV.RR.......G...........   \n",
       "...                                                  ...   \n",
       "13278  AE.L..RALRAQISPHFIYNALAAI......A....SF...V.......   \n",
       "13287  ...LKKALHA.....E.PLTQDEAHRLMSRI..MS.GD...........   \n",
       "13304  TTLRNLEM.VQ................NQTDM.................   \n",
       "13349  AEFIKILGKGKK.GSR.PLTQDEAYRAMKMI..LA.GE...........   \n",
       "13353  VVDLGCGS.G...A..ST...DA..LV.NS.......MG.HRG......   \n",
       "\n",
       "                                                sequence  \n",
       "index                                                     \n",
       "8      MSVKFEETATNEGVLHFTVSKEDAQKALKQAYNRVKGKVNIPGFRK...  \n",
       "43     ITARFEFLEAKLNTALPPAEIATLSREYSDLRPVVTEIAAYRQSLD...  \n",
       "68     QMYQKYDIGTAKITLEEAQGIKHHLLDFLAPGTNYSIYHFQKDARK...  \n",
       "71     VRHLECFVAVAEESHFGRAATRLGMAQPPLSQRIQRLEKELGVRLF...  \n",
       "99     ILDIGCGRGRHARALVRRGWQVTGLDLSEDAVAAARSRVADDDLDV...  \n",
       "...                                                  ...  \n",
       "13278  AELRALRAQISPHFIYNALAAIASFVRTDPERARELLLEFADFSRY...  \n",
       "13287  LKKALHAEPLTQDEAHRLMSRIMSGDLTPAQTAGVLIALRTRGETL...  \n",
       "13304  TTLRNLEMVQNQTDMKTKGSLLWVLDHTKTSFGRRKLKNWVTQPLL...  \n",
       "13349  AEFIKILGKGKKGSRPLTQDEAYRAMKMILAGEVQPIQLGAFLMLM...  \n",
       "13353  VVDLGCGSGASTDALVNSMGHRGETYAAIGIDASAGMLTEAHSKPW...  \n",
       "\n",
       "[66226 rows x 5 columns]"
      ]
     },
     "metadata": {},
     "output_type": "display_data"
    },
    {
     "data": {
      "text/html": [
       "<div>\n",
       "<style scoped>\n",
       "    .dataframe tbody tr th:only-of-type {\n",
       "        vertical-align: middle;\n",
       "    }\n",
       "\n",
       "    .dataframe tbody tr th {\n",
       "        vertical-align: top;\n",
       "    }\n",
       "\n",
       "    .dataframe thead th {\n",
       "        text-align: right;\n",
       "    }\n",
       "</style>\n",
       "<table border=\"1\" class=\"dataframe\">\n",
       "  <thead>\n",
       "    <tr style=\"text-align: right;\">\n",
       "      <th></th>\n",
       "      <th>family_id</th>\n",
       "      <th>sequence_name</th>\n",
       "      <th>family_accession</th>\n",
       "      <th>aligned_sequence</th>\n",
       "      <th>sequence</th>\n",
       "    </tr>\n",
       "    <tr>\n",
       "      <th>index</th>\n",
       "      <th></th>\n",
       "      <th></th>\n",
       "      <th></th>\n",
       "      <th></th>\n",
       "      <th></th>\n",
       "    </tr>\n",
       "  </thead>\n",
       "  <tbody>\n",
       "    <tr>\n",
       "      <th>29</th>\n",
       "      <td>BacA</td>\n",
       "      <td>UPPP_OCHA4/9-259</td>\n",
       "      <td>PF02673.18</td>\n",
       "      <td>AAFLGLIEGLTEFIPVSSTGHL..LLIGHF.L....GFES.........</td>\n",
       "      <td>AAFLGLIEGLTEFIPVSSTGHLLLIGHFLGFESTGKTFEVLIQLGA...</td>\n",
       "    </tr>\n",
       "    <tr>\n",
       "      <th>37</th>\n",
       "      <td>DNA_binding_1</td>\n",
       "      <td>R7XUX1_9ACTN/76-156</td>\n",
       "      <td>PF01035.20</td>\n",
       "      <td>AFQQRV.WEQ.LRL..IPYGETASYGEIA................G...</td>\n",
       "      <td>AFQQRVWEQLRLIPYGETASYGEIAGRLGMTNAASRAVGLANGRNP...</td>\n",
       "    </tr>\n",
       "    <tr>\n",
       "      <th>43</th>\n",
       "      <td>PCRF</td>\n",
       "      <td>RF1_BACAN/8-202</td>\n",
       "      <td>PF03462.18</td>\n",
       "      <td>VENRYEKLNELL....SDPAII.S..D.SNKLREY...SKEQ..SD...</td>\n",
       "      <td>VENRYEKLNELLSDPAIISDSNKLREYSKEQSDIQETVEVYREYKD...</td>\n",
       "    </tr>\n",
       "    <tr>\n",
       "      <th>61</th>\n",
       "      <td>Lipase_GDSL_2</td>\n",
       "      <td>G0RZP4_CHATD/19-209</td>\n",
       "      <td>PF13472.6</td>\n",
       "      <td>CFGDS.LTA.......GYCSM............................</td>\n",
       "      <td>CFGDSLTAGYCSMGAMFHPYHERLEQMLAMAFPDIAFETVEDGVPG...</td>\n",
       "    </tr>\n",
       "    <tr>\n",
       "      <th>72</th>\n",
       "      <td>gag_pre-integrs</td>\n",
       "      <td>Q8TFK0_DEBHN/195-267</td>\n",
       "      <td>PF13976.6</td>\n",
       "      <td>NNKYI..KI..........S....N.M...N.H...........E....</td>\n",
       "      <td>NNKYIKISNMNHEIANPFKRKRDLMYYHLMGNHMSLESMKYLIKSG...</td>\n",
       "    </tr>\n",
       "    <tr>\n",
       "      <th>...</th>\n",
       "      <td>...</td>\n",
       "      <td>...</td>\n",
       "      <td>...</td>\n",
       "      <td>...</td>\n",
       "      <td>...</td>\n",
       "    </tr>\n",
       "    <tr>\n",
       "      <th>12724</th>\n",
       "      <td>Ala_racemase_C</td>\n",
       "      <td>R6NDI3_9CLOT/243-369</td>\n",
       "      <td>PF00842.21</td>\n",
       "      <td>ALSWHARISHIKTL.EAGR.E..ISYGGTF.TTVK.P.TVVATVPV...</td>\n",
       "      <td>ALSWHARISHIKTLEAGREISYGGTFTTVKPTVVATVPVGYADGYP...</td>\n",
       "    </tr>\n",
       "    <tr>\n",
       "      <th>12727</th>\n",
       "      <td>THF_DHG_CYH</td>\n",
       "      <td>B2ATS2_PODAN/22-135</td>\n",
       "      <td>PF00763.23</td>\n",
       "      <td>VILADTIAK...K........MLA.EVQ...STL...............</td>\n",
       "      <td>VILADTIAKKMLAEVQSTLSAIQLPRRPTLSAFLANDDPHAYQYAE...</td>\n",
       "    </tr>\n",
       "    <tr>\n",
       "      <th>12728</th>\n",
       "      <td>Ig_3</td>\n",
       "      <td>A8X5T7_CAEBR/262-333</td>\n",
       "      <td>PF13927.6</td>\n",
       "      <td>KPIVF......VTPTENLTH...LSVEEGE.LVN....L.TC..NA...</td>\n",
       "      <td>KPIVFVTPTENLTHLSVEEGELVNLTCNAAANPPAHSYEWKHISSG...</td>\n",
       "    </tr>\n",
       "    <tr>\n",
       "      <th>12735</th>\n",
       "      <td>Trigger_N</td>\n",
       "      <td>E6JYT1_PARDN/1-149</td>\n",
       "      <td>PF05697.13</td>\n",
       "      <td>MKITMRNV.E.P.T.KKVLTVTVDQEELEPY....MDKARKEIAN....</td>\n",
       "      <td>MKITMRNVEPTKKVLTVTVDQEELEPYMDKARKEIANQVNIPGFRK...</td>\n",
       "    </tr>\n",
       "    <tr>\n",
       "      <th>12755</th>\n",
       "      <td>THF_DHG_CYH</td>\n",
       "      <td>R6BHS1_9CLOT/3-113</td>\n",
       "      <td>PF00763.23</td>\n",
       "      <td>LLDGKNLSA...K........IKD.ELK...GNI...............</td>\n",
       "      <td>LLDGKNLSAKIKDELKGNINSYKETPVLAVITIGKYNEKFVNNKKK...</td>\n",
       "    </tr>\n",
       "  </tbody>\n",
       "</table>\n",
       "<p>8249 rows × 5 columns</p>\n",
       "</div>"
      ],
      "text/plain": [
       "             family_id         sequence_name family_accession  \\\n",
       "index                                                           \n",
       "29                BacA      UPPP_OCHA4/9-259       PF02673.18   \n",
       "37       DNA_binding_1   R7XUX1_9ACTN/76-156       PF01035.20   \n",
       "43                PCRF       RF1_BACAN/8-202       PF03462.18   \n",
       "61       Lipase_GDSL_2   G0RZP4_CHATD/19-209        PF13472.6   \n",
       "72     gag_pre-integrs  Q8TFK0_DEBHN/195-267        PF13976.6   \n",
       "...                ...                   ...              ...   \n",
       "12724   Ala_racemase_C  R6NDI3_9CLOT/243-369       PF00842.21   \n",
       "12727      THF_DHG_CYH   B2ATS2_PODAN/22-135       PF00763.23   \n",
       "12728             Ig_3  A8X5T7_CAEBR/262-333        PF13927.6   \n",
       "12735        Trigger_N    E6JYT1_PARDN/1-149       PF05697.13   \n",
       "12755      THF_DHG_CYH    R6BHS1_9CLOT/3-113       PF00763.23   \n",
       "\n",
       "                                        aligned_sequence  \\\n",
       "index                                                      \n",
       "29     AAFLGLIEGLTEFIPVSSTGHL..LLIGHF.L....GFES.........   \n",
       "37     AFQQRV.WEQ.LRL..IPYGETASYGEIA................G...   \n",
       "43     VENRYEKLNELL....SDPAII.S..D.SNKLREY...SKEQ..SD...   \n",
       "61     CFGDS.LTA.......GYCSM............................   \n",
       "72     NNKYI..KI..........S....N.M...N.H...........E....   \n",
       "...                                                  ...   \n",
       "12724  ALSWHARISHIKTL.EAGR.E..ISYGGTF.TTVK.P.TVVATVPV...   \n",
       "12727  VILADTIAK...K........MLA.EVQ...STL...............   \n",
       "12728  KPIVF......VTPTENLTH...LSVEEGE.LVN....L.TC..NA...   \n",
       "12735  MKITMRNV.E.P.T.KKVLTVTVDQEELEPY....MDKARKEIAN....   \n",
       "12755  LLDGKNLSA...K........IKD.ELK...GNI...............   \n",
       "\n",
       "                                                sequence  \n",
       "index                                                     \n",
       "29     AAFLGLIEGLTEFIPVSSTGHLLLIGHFLGFESTGKTFEVLIQLGA...  \n",
       "37     AFQQRVWEQLRLIPYGETASYGEIAGRLGMTNAASRAVGLANGRNP...  \n",
       "43     VENRYEKLNELLSDPAIISDSNKLREYSKEQSDIQETVEVYREYKD...  \n",
       "61     CFGDSLTAGYCSMGAMFHPYHERLEQMLAMAFPDIAFETVEDGVPG...  \n",
       "72     NNKYIKISNMNHEIANPFKRKRDLMYYHLMGNHMSLESMKYLIKSG...  \n",
       "...                                                  ...  \n",
       "12724  ALSWHARISHIKTLEAGREISYGGTFTTVKPTVVATVPVGYADGYP...  \n",
       "12727  VILADTIAKKMLAEVQSTLSAIQLPRRPTLSAFLANDDPHAYQYAE...  \n",
       "12728  KPIVFVTPTENLTHLSVEEGELVNLTCNAAANPPAHSYEWKHISSG...  \n",
       "12735  MKITMRNVEPTKKVLTVTVDQEELEPYMDKARKEIANQVNIPGFRK...  \n",
       "12755  LLDGKNLSAKIKDELKGNINSYKETPVLAVITIGKYNEKFVNNKKK...  \n",
       "\n",
       "[8249 rows x 5 columns]"
      ]
     },
     "metadata": {},
     "output_type": "display_data"
    },
    {
     "data": {
      "text/html": [
       "<div>\n",
       "<style scoped>\n",
       "    .dataframe tbody tr th:only-of-type {\n",
       "        vertical-align: middle;\n",
       "    }\n",
       "\n",
       "    .dataframe tbody tr th {\n",
       "        vertical-align: top;\n",
       "    }\n",
       "\n",
       "    .dataframe thead th {\n",
       "        text-align: right;\n",
       "    }\n",
       "</style>\n",
       "<table border=\"1\" class=\"dataframe\">\n",
       "  <thead>\n",
       "    <tr style=\"text-align: right;\">\n",
       "      <th></th>\n",
       "      <th>family_id</th>\n",
       "      <th>sequence_name</th>\n",
       "      <th>family_accession</th>\n",
       "      <th>aligned_sequence</th>\n",
       "      <th>sequence</th>\n",
       "    </tr>\n",
       "    <tr>\n",
       "      <th>index</th>\n",
       "      <th></th>\n",
       "      <th></th>\n",
       "      <th></th>\n",
       "      <th></th>\n",
       "      <th></th>\n",
       "    </tr>\n",
       "  </thead>\n",
       "  <tbody>\n",
       "    <tr>\n",
       "      <th>1</th>\n",
       "      <td>DnaJ_C</td>\n",
       "      <td>M4V8X0_9PROT/126-339</td>\n",
       "      <td>PF01556.18</td>\n",
       "      <td>LRFITEIELEEVISG.K.E.....AQI......EF..............</td>\n",
       "      <td>LRFITEIELEEVISGKEAQIEFDTEANCDDCNGSGAAKGSSATTCP...</td>\n",
       "    </tr>\n",
       "    <tr>\n",
       "      <th>9</th>\n",
       "      <td>TrmE_N</td>\n",
       "      <td>B0X5R4_CULQU/21-138</td>\n",
       "      <td>PF10396.9</td>\n",
       "      <td>TIFGLSS..G..S..G.K..C.G..VAVIRVSG................</td>\n",
       "      <td>TIFGLSSGSGKCGVAVIRVSGDASSDVVHRKTSSNKLPAARQAVLR...</td>\n",
       "    </tr>\n",
       "    <tr>\n",
       "      <th>16</th>\n",
       "      <td>Lipase_GDSL_2</td>\n",
       "      <td>H6MZH3_GORPV/43-278</td>\n",
       "      <td>PF13472.6</td>\n",
       "      <td>ALGDS.RAS.......GNMPGLQ......................P...</td>\n",
       "      <td>ALGDSRASGNMPGLQPSDGCWRSSTSYPSVLARIAHVRSFVDRSCA...</td>\n",
       "    </tr>\n",
       "    <tr>\n",
       "      <th>26</th>\n",
       "      <td>UPF0051</td>\n",
       "      <td>Q7UKR5_RHOBA/213-439</td>\n",
       "      <td>PF01458.17</td>\n",
       "      <td>GQFERT.....L.I.....IVDEG.....ASI..HYV............</td>\n",
       "      <td>GQFERTLIIVDEGASIHYVEGCTAPMYTTESLHSAVVEVIVKKDAR...</td>\n",
       "    </tr>\n",
       "    <tr>\n",
       "      <th>56</th>\n",
       "      <td>THF_DHG_CYH</td>\n",
       "      <td>S3CNX4_OPHP1/11-126</td>\n",
       "      <td>PF00763.23</td>\n",
       "      <td>.ILADSIGK...N........MLV.EVQ...ESR...............</td>\n",
       "      <td>ILADSIGKNMLVEVQESRDAFRKEHGIERKLCLAAFLANDDPHAVK...</td>\n",
       "    </tr>\n",
       "    <tr>\n",
       "      <th>...</th>\n",
       "      <td>...</td>\n",
       "      <td>...</td>\n",
       "      <td>...</td>\n",
       "      <td>...</td>\n",
       "      <td>...</td>\n",
       "    </tr>\n",
       "    <tr>\n",
       "      <th>12706</th>\n",
       "      <td>Chromate_transp</td>\n",
       "      <td>F2F022_SOLSS/4-171</td>\n",
       "      <td>PF02417.15</td>\n",
       "      <td>WELFIAFLIPNLLAYGGGPASI.PLIEHEV........VD.........</td>\n",
       "      <td>WELFIAFLIPNLLAYGGGPASIPLIEHEVVDRYEWMTQSEFSEFLA...</td>\n",
       "    </tr>\n",
       "    <tr>\n",
       "      <th>12708</th>\n",
       "      <td>E3_binding</td>\n",
       "      <td>A8LBI7_FRASN/171-205</td>\n",
       "      <td>PF02817.17</td>\n",
       "      <td>.VISPLVR.RLARDNAV....DLR..EL..T....G....T.GPDG...</td>\n",
       "      <td>VISPLVRRLARDNAVDLRELTGTGPDGLIRRRDVE-----------...</td>\n",
       "    </tr>\n",
       "    <tr>\n",
       "      <th>12730</th>\n",
       "      <td>THF_DHG_CYH</td>\n",
       "      <td>C6WZR6_FLAB3/4-120</td>\n",
       "      <td>PF00763.23</td>\n",
       "      <td>ILDGLKVSK...E........IKN.EIR...TDV...............</td>\n",
       "      <td>ILDGLKVSKEIKNEIRTDVEKIVEGKRRPPHLVAILVGQNGASISY...</td>\n",
       "    </tr>\n",
       "    <tr>\n",
       "      <th>12736</th>\n",
       "      <td>RF-1</td>\n",
       "      <td>R6NI69_9CLOT/228-338</td>\n",
       "      <td>PF00472.20</td>\n",
       "      <td>DTVE..VE..IN.PDDLKI.DYYR.SSGAGGQKVNKTSSAVRI......</td>\n",
       "      <td>DTVEVEINPDDLKIDYYRSSGAGGQKVNKTSSAVRITHIPTGIVCA...</td>\n",
       "    </tr>\n",
       "    <tr>\n",
       "      <th>12754</th>\n",
       "      <td>Glyco_trans_1_4</td>\n",
       "      <td>B8FJ84_DESAA/245-385</td>\n",
       "      <td>PF13692.6</td>\n",
       "      <td>KNRLLVTN...SA.DT.....PLKGL.YHL..LKAV.HEVR....K...</td>\n",
       "      <td>KNRLLVTNSADTPLKGLYHLLKAVHEVRKKRDVTLTVIGAPKKHGG...</td>\n",
       "    </tr>\n",
       "  </tbody>\n",
       "</table>\n",
       "<p>8242 rows × 5 columns</p>\n",
       "</div>"
      ],
      "text/plain": [
       "             family_id         sequence_name family_accession  \\\n",
       "index                                                           \n",
       "1               DnaJ_C  M4V8X0_9PROT/126-339       PF01556.18   \n",
       "9               TrmE_N   B0X5R4_CULQU/21-138        PF10396.9   \n",
       "16       Lipase_GDSL_2   H6MZH3_GORPV/43-278        PF13472.6   \n",
       "26             UPF0051  Q7UKR5_RHOBA/213-439       PF01458.17   \n",
       "56         THF_DHG_CYH   S3CNX4_OPHP1/11-126       PF00763.23   \n",
       "...                ...                   ...              ...   \n",
       "12706  Chromate_transp    F2F022_SOLSS/4-171       PF02417.15   \n",
       "12708       E3_binding  A8LBI7_FRASN/171-205       PF02817.17   \n",
       "12730      THF_DHG_CYH    C6WZR6_FLAB3/4-120       PF00763.23   \n",
       "12736             RF-1  R6NI69_9CLOT/228-338       PF00472.20   \n",
       "12754  Glyco_trans_1_4  B8FJ84_DESAA/245-385        PF13692.6   \n",
       "\n",
       "                                        aligned_sequence  \\\n",
       "index                                                      \n",
       "1      LRFITEIELEEVISG.K.E.....AQI......EF..............   \n",
       "9      TIFGLSS..G..S..G.K..C.G..VAVIRVSG................   \n",
       "16     ALGDS.RAS.......GNMPGLQ......................P...   \n",
       "26     GQFERT.....L.I.....IVDEG.....ASI..HYV............   \n",
       "56     .ILADSIGK...N........MLV.EVQ...ESR...............   \n",
       "...                                                  ...   \n",
       "12706  WELFIAFLIPNLLAYGGGPASI.PLIEHEV........VD.........   \n",
       "12708  .VISPLVR.RLARDNAV....DLR..EL..T....G....T.GPDG...   \n",
       "12730  ILDGLKVSK...E........IKN.EIR...TDV...............   \n",
       "12736  DTVE..VE..IN.PDDLKI.DYYR.SSGAGGQKVNKTSSAVRI......   \n",
       "12754  KNRLLVTN...SA.DT.....PLKGL.YHL..LKAV.HEVR....K...   \n",
       "\n",
       "                                                sequence  \n",
       "index                                                     \n",
       "1      LRFITEIELEEVISGKEAQIEFDTEANCDDCNGSGAAKGSSATTCP...  \n",
       "9      TIFGLSSGSGKCGVAVIRVSGDASSDVVHRKTSSNKLPAARQAVLR...  \n",
       "16     ALGDSRASGNMPGLQPSDGCWRSSTSYPSVLARIAHVRSFVDRSCA...  \n",
       "26     GQFERTLIIVDEGASIHYVEGCTAPMYTTESLHSAVVEVIVKKDAR...  \n",
       "56     ILADSIGKNMLVEVQESRDAFRKEHGIERKLCLAAFLANDDPHAVK...  \n",
       "...                                                  ...  \n",
       "12706  WELFIAFLIPNLLAYGGGPASIPLIEHEVVDRYEWMTQSEFSEFLA...  \n",
       "12708  VISPLVRRLARDNAVDLRELTGTGPDGLIRRRDVE-----------...  \n",
       "12730  ILDGLKVSKEIKNEIRTDVEKIVEGKRRPPHLVAILVGQNGASISY...  \n",
       "12736  DTVEVEINPDDLKIDYYRSSGAGGQKVNKTSSAVRITHIPTGIVCA...  \n",
       "12754  KNRLLVTNSADTPLKGLYHLLKAVHEVRKKRDVTLTVIGAPKKHGG...  \n",
       "\n",
       "[8242 rows x 5 columns]"
      ]
     },
     "metadata": {},
     "output_type": "display_data"
    }
   ],
   "source": [
    "train_df = pd.read_parquet(\"data/processed_data/train.parquet\")\n",
    "valid_df = pd.read_parquet(\"data/processed_data/dev.parquet\")\n",
    "test_df = pd.read_parquet(\"data/processed_data/test.parquet\")\n",
    "display(train_df)\n",
    "display(valid_df)\n",
    "display(test_df)"
   ]
  },
  {
   "cell_type": "code",
   "execution_count": 4,
   "id": "43426a36",
   "metadata": {},
   "outputs": [
    {
     "data": {
      "text/plain": [
       "['A',\n",
       " 'C',\n",
       " 'D',\n",
       " 'E',\n",
       " 'F',\n",
       " 'G',\n",
       " 'H',\n",
       " 'I',\n",
       " 'K',\n",
       " 'L',\n",
       " 'M',\n",
       " 'N',\n",
       " 'P',\n",
       " 'Q',\n",
       " 'R',\n",
       " 'S',\n",
       " 'T',\n",
       " 'V',\n",
       " 'W',\n",
       " 'Y',\n",
       " '-']"
      ]
     },
     "execution_count": 4,
     "metadata": {},
     "output_type": "execute_result"
    }
   ],
   "source": [
    "alphabet = list(\"ACDEFGHIKLMNPQRSTVWY\") + [\"-\"]\n",
    "alphabet"
   ]
  },
  {
   "cell_type": "code",
   "execution_count": 5,
   "id": "dd3ea7e2",
   "metadata": {},
   "outputs": [
    {
     "name": "stdout",
     "output_type": "stream",
     "text": [
      "256 64 21\n"
     ]
    }
   ],
   "source": [
    "MAX_SEQ_LEN = train_df[\"sequence\"].str.len().max()\n",
    "N_CLASSES = len(train_df[\"family_accession\"].unique())\n",
    "VOCAB_SIZE = len(alphabet)\n",
    "print(MAX_SEQ_LEN, N_CLASSES, VOCAB_SIZE)"
   ]
  },
  {
   "cell_type": "code",
   "execution_count": 6,
   "id": "e887c46d",
   "metadata": {},
   "outputs": [
    {
     "data": {
      "text/plain": [
       "array([51, 45, 26, ..., 50, 42, 58], shape=(66226,))"
      ]
     },
     "metadata": {},
     "output_type": "display_data"
    },
    {
     "data": {
      "text/plain": [
       "array([34, 14, 45, ..., 60, 51, 12], shape=(8249,))"
      ]
     },
     "metadata": {},
     "output_type": "display_data"
    },
    {
     "data": {
      "text/plain": [
       "array([24, 54, 56, ..., 12,  7, 59], shape=(8242,))"
      ]
     },
     "metadata": {},
     "output_type": "display_data"
    }
   ],
   "source": [
    "le = LabelEncoder()\n",
    "y_train = train_df[\"family_accession\"].to_numpy()\n",
    "y_train = le.fit_transform(y_train)\n",
    "y_valid = le.transform(valid_df[\"family_accession\"].to_numpy())\n",
    "y_test = le.transform(test_df[\"family_accession\"].to_numpy())\n",
    "\n",
    "display(y_train, y_valid, y_test)"
   ]
  },
  {
   "cell_type": "code",
   "execution_count": 7,
   "id": "c7a1167d",
   "metadata": {},
   "outputs": [
    {
     "data": {
      "text/plain": [
       "array([['M', 'S', 'V', ..., '-', '-', '-'],\n",
       "       ['I', 'T', 'A', ..., '-', '-', '-'],\n",
       "       ['Q', 'M', 'Y', ..., '-', '-', '-'],\n",
       "       ...,\n",
       "       ['T', 'T', 'L', ..., 'R', 'E', 'Q'],\n",
       "       ['A', 'E', 'F', ..., '-', '-', '-'],\n",
       "       ['V', 'V', 'D', ..., '-', '-', '-']],\n",
       "      shape=(66226, 256), dtype=object)"
      ]
     },
     "execution_count": 7,
     "metadata": {},
     "output_type": "execute_result"
    }
   ],
   "source": [
    "def make_features(df):\n",
    "    # iloc remove start/end padding of \"\"\n",
    "    X = df[\"sequence\"].str.split(\"\", expand=True).iloc[:, 1:-1].to_numpy()\n",
    "    return X\n",
    "\n",
    "\n",
    "make_features(train_df)"
   ]
  },
  {
   "cell_type": "code",
   "execution_count": 8,
   "id": "e3689610",
   "metadata": {},
   "outputs": [
    {
     "data": {
      "text/plain": [
       "array([[10., 15., 17., ..., 20., 20., 20.],\n",
       "       [ 7., 16.,  0., ..., 20., 20., 20.],\n",
       "       [13., 10., 19., ..., 20., 20., 20.],\n",
       "       ...,\n",
       "       [16., 16.,  9., ..., 14.,  3., 13.],\n",
       "       [ 0.,  3.,  4., ..., 20., 20., 20.],\n",
       "       [17., 17.,  2., ..., 20., 20., 20.]], shape=(66226, 256))"
      ]
     },
     "metadata": {},
     "output_type": "display_data"
    },
    {
     "data": {
      "text/plain": [
       "array([[ 0.,  0.,  4., ..., 20., 20., 20.],\n",
       "       [ 0.,  4., 13., ..., 20., 20., 20.],\n",
       "       [17.,  3., 11., ..., 20., 20., 20.],\n",
       "       ...,\n",
       "       [ 8., 12.,  7., ..., 20., 20., 20.],\n",
       "       [10.,  8.,  7., ..., 20., 20., 20.],\n",
       "       [ 9.,  9.,  2., ..., 20., 20., 20.]], shape=(8249, 256))"
      ]
     },
     "metadata": {},
     "output_type": "display_data"
    },
    {
     "data": {
      "text/plain": [
       "array([[ 9., 14.,  4., ..., 20., 20., 20.],\n",
       "       [16.,  7.,  4., ..., 20., 20., 20.],\n",
       "       [ 0.,  9.,  5., ..., 20., 20., 20.],\n",
       "       ...,\n",
       "       [ 7.,  9.,  2., ..., 20., 20., 20.],\n",
       "       [ 2., 16., 17., ..., 20., 20., 20.],\n",
       "       [ 8., 11., 14., ..., 20., 20., 20.]], shape=(8242, 256))"
      ]
     },
     "metadata": {},
     "output_type": "display_data"
    }
   ],
   "source": [
    "oe = OrdinalEncoder(categories=[alphabet] * MAX_SEQ_LEN)\n",
    "X_train = oe.fit_transform(make_features(train_df))\n",
    "X_valid = oe.transform(make_features(valid_df))\n",
    "X_test = oe.transform(make_features(test_df))\n",
    "display(X_train, X_valid, X_test)"
   ]
  },
  {
   "cell_type": "code",
   "execution_count": 10,
   "id": "823d7573",
   "metadata": {},
   "outputs": [
    {
     "name": "stdout",
     "output_type": "stream",
     "text": [
      "Validation set\n",
      "accuracy_score: 0.931\n",
      "balanced_accuracy_score: 0.929\n",
      "f1_score: 0.929\n",
      "Test set\n",
      "accuracy_score: 0.925\n",
      "balanced_accuracy_score: 0.922\n",
      "f1_score: 0.924\n"
     ]
    }
   ],
   "source": [
    "from sklearn.neighbors import KNeighborsClassifier\n",
    "from sklearn.metrics import accuracy_score, balanced_accuracy_score, f1_score\n",
    "\n",
    "knn = KNeighborsClassifier(n_neighbors=5, weights=\"distance\")\n",
    "knn.fit(X_train, y_train)\n",
    "y_pred = knn.predict(X_valid)\n",
    "y_pred_test = knn.predict(X_test)\n",
    "\n",
    "metrics = [\n",
    "    (accuracy_score, {}),\n",
    "    (balanced_accuracy_score, {}),\n",
    "    (f1_score, {\"average\": \"weighted\"}),\n",
    "]\n",
    "\n",
    "print(\"Validation set\")\n",
    "for metric, kwargs in metrics:\n",
    "    print(f\"{metric.__name__}: {metric(y_valid, y_pred, **kwargs):.3f}\")\n",
    "\n",
    "print(\"Test set\")\n",
    "for metric, kwargs in metrics:\n",
    "    print(f\"{metric.__name__}: {metric(y_test, y_pred_test, **kwargs):.3f}\")"
   ]
  },
  {
   "cell_type": "code",
   "execution_count": 11,
   "id": "1592f847",
   "metadata": {},
   "outputs": [
    {
     "name": "stdout",
     "output_type": "stream",
     "text": [
      "micro f1-score 0.931\n",
      "macro f1-score 0.929\n",
      "weighted f1-score 0.929\n"
     ]
    }
   ],
   "source": [
    "for average in [\"micro\", \"macro\", \"weighted\"]:\n",
    "    score = f1_score(y_valid, y_pred, average=average)\n",
    "    print(f\"{average} f1-score {score:.3f}\")"
   ]
  },
  {
   "cell_type": "code",
   "execution_count": 27,
   "id": "5ae4dccf",
   "metadata": {},
   "outputs": [
    {
     "name": "stderr",
     "output_type": "stream",
     "text": [
      "/tmp/ipykernel_1317206/2106405653.py:1: UserWarning: To copy construct from a tensor, it is recommended to use sourceTensor.detach().clone() or sourceTensor.detach().clone().requires_grad_(True), rather than torch.tensor(sourceTensor).\n",
      "  X_train = torch.tensor(X_train, dtype=torch.long)\n",
      "/tmp/ipykernel_1317206/2106405653.py:2: UserWarning: To copy construct from a tensor, it is recommended to use sourceTensor.detach().clone() or sourceTensor.detach().clone().requires_grad_(True), rather than torch.tensor(sourceTensor).\n",
      "  X_valid = torch.tensor(X_valid, dtype=torch.long)\n",
      "/tmp/ipykernel_1317206/2106405653.py:3: UserWarning: To copy construct from a tensor, it is recommended to use sourceTensor.detach().clone() or sourceTensor.detach().clone().requires_grad_(True), rather than torch.tensor(sourceTensor).\n",
      "  y_train = torch.tensor(y_train, dtype=torch.long)\n",
      "/tmp/ipykernel_1317206/2106405653.py:4: UserWarning: To copy construct from a tensor, it is recommended to use sourceTensor.detach().clone() or sourceTensor.detach().clone().requires_grad_(True), rather than torch.tensor(sourceTensor).\n",
      "  y_valid = torch.tensor(y_valid, dtype=torch.long)\n"
     ]
    }
   ],
   "source": [
    "X_train = torch.tensor(X_train, dtype=torch.long)\n",
    "X_valid = torch.tensor(X_valid, dtype=torch.long)\n",
    "y_train = torch.tensor(y_train, dtype=torch.long)\n",
    "y_valid = torch.tensor(y_valid, dtype=torch.long)"
   ]
  },
  {
   "cell_type": "code",
   "execution_count": 32,
   "id": "a30fe7fb",
   "metadata": {},
   "outputs": [],
   "source": [
    "RANDOM_STATE = 42\n",
    "torch.manual_seed(RANDOM_STATE)\n",
    "train_set = TensorDataset(X_train, y_train)\n",
    "dataloader = DataLoader(train_set, batch_size=128, shuffle=True)"
   ]
  },
  {
   "cell_type": "code",
   "execution_count": 73,
   "id": "a7d9fcd9",
   "metadata": {},
   "outputs": [
    {
     "name": "stdout",
     "output_type": "stream",
     "text": [
      "Epoch: 0, train loss: 0.0211, val_loss: 1.8034, train_acc 0.0000, val_acc 0.5938\n",
      "Epoch: 1, train loss: 0.0110, val_loss: 1.1258, train_acc 0.0000, val_acc 0.7427\n",
      "Epoch: 2, train loss: 0.0074, val_loss: 0.8195, train_acc 0.0000, val_acc 0.8024\n",
      "Epoch: 3, train loss: 0.0056, val_loss: 0.6639, train_acc 0.0000, val_acc 0.8293\n",
      "Epoch: 4, train loss: 0.0046, val_loss: 0.5721, train_acc 0.0000, val_acc 0.8481\n",
      "Epoch: 5, train loss: 0.0040, val_loss: 0.5168, train_acc 0.0000, val_acc 0.8627\n",
      "Epoch: 6, train loss: 0.0036, val_loss: 0.4765, train_acc 0.0000, val_acc 0.8704\n",
      "Epoch: 7, train loss: 0.0033, val_loss: 0.4496, train_acc 0.0000, val_acc 0.8764\n",
      "Epoch: 8, train loss: 0.0031, val_loss: 0.4274, train_acc 0.0000, val_acc 0.8826\n",
      "Epoch: 9, train loss: 0.0029, val_loss: 0.4152, train_acc 0.0000, val_acc 0.8838\n",
      "Epoch: 10, train loss: 0.0028, val_loss: 0.4007, train_acc 0.0000, val_acc 0.8883\n",
      "Epoch: 11, train loss: 0.0026, val_loss: 0.3904, train_acc 0.0000, val_acc 0.8871\n",
      "Epoch: 12, train loss: 0.0025, val_loss: 0.3839, train_acc 0.0000, val_acc 0.8897\n",
      "Epoch: 13, train loss: 0.0024, val_loss: 0.3751, train_acc 0.0000, val_acc 0.8911\n",
      "Epoch: 14, train loss: 0.0023, val_loss: 0.3684, train_acc 0.0000, val_acc 0.8929\n",
      "Epoch: 15, train loss: 0.0023, val_loss: 0.3625, train_acc 0.0000, val_acc 0.8925\n",
      "Epoch: 16, train loss: 0.0022, val_loss: 0.3595, train_acc 0.0000, val_acc 0.8954\n",
      "Epoch: 17, train loss: 0.0021, val_loss: 0.3584, train_acc 0.0000, val_acc 0.8937\n",
      "Epoch: 18, train loss: 0.0021, val_loss: 0.3528, train_acc 0.0000, val_acc 0.8960\n",
      "Epoch: 19, train loss: 0.0020, val_loss: 0.3516, train_acc 0.0000, val_acc 0.8972\n"
     ]
    }
   ],
   "source": [
    "class MLPClassifier(nn.Module):\n",
    "    def __init__(self, input_size, hidden_size, out_size):\n",
    "        super().__init__()\n",
    "        self.fc = nn.Sequential(\n",
    "            nn.LayerNorm(input_size),\n",
    "            nn.Linear(input_size, hidden_size),\n",
    "            nn.ReLU(),\n",
    "            nn.LayerNorm(hidden_size),\n",
    "            nn.Linear(hidden_size, out_size),\n",
    "        )\n",
    "        self.cls_head = nn.Softmax(dim=1)\n",
    "\n",
    "    def forward(self, x, y=None):\n",
    "        logits = self.fc(x)\n",
    "\n",
    "        loss = None\n",
    "        preds = None\n",
    "        probs = None\n",
    "        if y is not None:\n",
    "            loss = F.cross_entropy(logits, y.view(-1))\n",
    "            probs = self.cls_head(logits)\n",
    "            preds = probs.argmax(dim=1)\n",
    "\n",
    "        return logits, loss, preds, probs\n",
    "\n",
    "\n",
    "model = MLPClassifier(input_size=MAX_SEQ_LEN, hidden_size=128, out_size=N_CLASSES).to(\n",
    "    device\n",
    ")\n",
    "\n",
    "optimizer = torch.optim.AdamW(model.parameters(), lr=1e-4, weight_decay=1e-5)\n",
    "\n",
    "n_epochs = 20\n",
    "loss_histories = defaultdict(list)\n",
    "acc_histories = defaultdict(list)\n",
    "\n",
    "for epoch in range(n_epochs):\n",
    "    train_loss = 0\n",
    "    y_train_pred = []\n",
    "    for step, batch in enumerate(dataloader):\n",
    "        xb, yb = batch\n",
    "        xb = xb.to(device)\n",
    "        yb = yb.to(device)\n",
    "        logits, loss, preds, probs = model(xb.float(), yb)\n",
    "\n",
    "        train_loss += loss.item()\n",
    "\n",
    "        optimizer.zero_grad()\n",
    "        loss.backward()\n",
    "        optimizer.step()\n",
    "\n",
    "    train_acc = 0.0  # TODO:\n",
    "    train_loss /= len(dataloader.dataset)\n",
    "\n",
    "    loss_histories[\"train\"].append(train_loss)\n",
    "\n",
    "    model.eval()\n",
    "    val_logits, val_loss, y_pred, _ = model(X_valid.float(), y_valid)\n",
    "    loss_histories[\"valid\"].append(val_loss)\n",
    "\n",
    "    val_acc = balanced_accuracy_score(y_valid.cpu(), y_pred.cpu())\n",
    "    acc_histories[\"valid\"].append(val_acc)\n",
    "    tqdm.write(\n",
    "        f\"Epoch: {epoch}, train loss: {train_loss:.4f}, val_loss: {val_loss:.4f}, train_acc {train_acc:.4f}, val_acc {val_acc:.4f}\"\n",
    "    )\n",
    "    model.train()"
   ]
  },
  {
   "cell_type": "code",
   "execution_count": 70,
   "id": "db857281",
   "metadata": {},
   "outputs": [
    {
     "ename": "TypeError",
     "evalue": "can't convert cuda:0 device type tensor to numpy. Use Tensor.cpu() to copy the tensor to host memory first.",
     "output_type": "error",
     "traceback": [
      "\u001b[31m---------------------------------------------------------------------------\u001b[39m",
      "\u001b[31mTypeError\u001b[39m                                 Traceback (most recent call last)",
      "\u001b[36mCell\u001b[39m\u001b[36m \u001b[39m\u001b[32mIn[70]\u001b[39m\u001b[32m, line 5\u001b[39m\n\u001b[32m      3\u001b[39m fig, ax = plt.subplots(\u001b[32m1\u001b[39m, \u001b[32m2\u001b[39m)\n\u001b[32m      4\u001b[39m ax[\u001b[32m0\u001b[39m].plot(loss_histories[\u001b[33m\"\u001b[39m\u001b[33mtrain\u001b[39m\u001b[33m\"\u001b[39m], label=\u001b[33m\"\u001b[39m\u001b[33mtrain\u001b[39m\u001b[33m\"\u001b[39m)\n\u001b[32m----> \u001b[39m\u001b[32m5\u001b[39m \u001b[43max\u001b[49m\u001b[43m[\u001b[49m\u001b[32;43m0\u001b[39;49m\u001b[43m]\u001b[49m\u001b[43m.\u001b[49m\u001b[43mplot\u001b[49m\u001b[43m(\u001b[49m\u001b[43mloss_histories\u001b[49m\u001b[43m[\u001b[49m\u001b[33;43m\"\u001b[39;49m\u001b[33;43mvalid\u001b[39;49m\u001b[33;43m\"\u001b[39;49m\u001b[43m]\u001b[49m\u001b[43m,\u001b[49m\u001b[43m \u001b[49m\u001b[43mlabel\u001b[49m\u001b[43m=\u001b[49m\u001b[33;43m\"\u001b[39;49m\u001b[33;43mvalid\u001b[39;49m\u001b[33;43m\"\u001b[39;49m\u001b[43m)\u001b[49m\n\u001b[32m      6\u001b[39m ax[\u001b[32m0\u001b[39m].legend()\n\u001b[32m      7\u001b[39m ax[\u001b[32m1\u001b[39m].plot(acc_histories[\u001b[33m\"\u001b[39m\u001b[33mtrain\u001b[39m\u001b[33m\"\u001b[39m], label=\u001b[33m\"\u001b[39m\u001b[33mtrain\u001b[39m\u001b[33m\"\u001b[39m)\n",
      "\u001b[36mFile \u001b[39m\u001b[32m~/PFam-Annotation/.venv/lib/python3.12/site-packages/matplotlib/axes/_axes.py:1777\u001b[39m, in \u001b[36mAxes.plot\u001b[39m\u001b[34m(self, scalex, scaley, data, *args, **kwargs)\u001b[39m\n\u001b[32m   1534\u001b[39m \u001b[38;5;250m\u001b[39m\u001b[33;03m\"\"\"\u001b[39;00m\n\u001b[32m   1535\u001b[39m \u001b[33;03mPlot y versus x as lines and/or markers.\u001b[39;00m\n\u001b[32m   1536\u001b[39m \n\u001b[32m   (...)\u001b[39m\u001b[32m   1774\u001b[39m \u001b[33;03m(``'green'``) or hex strings (``'#008000'``).\u001b[39;00m\n\u001b[32m   1775\u001b[39m \u001b[33;03m\"\"\"\u001b[39;00m\n\u001b[32m   1776\u001b[39m kwargs = cbook.normalize_kwargs(kwargs, mlines.Line2D)\n\u001b[32m-> \u001b[39m\u001b[32m1777\u001b[39m lines = [*\u001b[38;5;28mself\u001b[39m._get_lines(\u001b[38;5;28mself\u001b[39m, *args, data=data, **kwargs)]\n\u001b[32m   1778\u001b[39m \u001b[38;5;28;01mfor\u001b[39;00m line \u001b[38;5;129;01min\u001b[39;00m lines:\n\u001b[32m   1779\u001b[39m     \u001b[38;5;28mself\u001b[39m.add_line(line)\n",
      "\u001b[36mFile \u001b[39m\u001b[32m~/PFam-Annotation/.venv/lib/python3.12/site-packages/matplotlib/axes/_base.py:297\u001b[39m, in \u001b[36m_process_plot_var_args.__call__\u001b[39m\u001b[34m(self, axes, data, return_kwargs, *args, **kwargs)\u001b[39m\n\u001b[32m    295\u001b[39m     this += args[\u001b[32m0\u001b[39m],\n\u001b[32m    296\u001b[39m     args = args[\u001b[32m1\u001b[39m:]\n\u001b[32m--> \u001b[39m\u001b[32m297\u001b[39m \u001b[38;5;28;01myield from\u001b[39;00m \u001b[38;5;28;43mself\u001b[39;49m\u001b[43m.\u001b[49m\u001b[43m_plot_args\u001b[49m\u001b[43m(\u001b[49m\n\u001b[32m    298\u001b[39m \u001b[43m    \u001b[49m\u001b[43maxes\u001b[49m\u001b[43m,\u001b[49m\u001b[43m \u001b[49m\u001b[43mthis\u001b[49m\u001b[43m,\u001b[49m\u001b[43m \u001b[49m\u001b[43mkwargs\u001b[49m\u001b[43m,\u001b[49m\u001b[43m \u001b[49m\u001b[43mambiguous_fmt_datakey\u001b[49m\u001b[43m=\u001b[49m\u001b[43mambiguous_fmt_datakey\u001b[49m\u001b[43m,\u001b[49m\n\u001b[32m    299\u001b[39m \u001b[43m    \u001b[49m\u001b[43mreturn_kwargs\u001b[49m\u001b[43m=\u001b[49m\u001b[43mreturn_kwargs\u001b[49m\n\u001b[32m    300\u001b[39m \u001b[43m\u001b[49m\u001b[43m)\u001b[49m\n",
      "\u001b[36mFile \u001b[39m\u001b[32m~/PFam-Annotation/.venv/lib/python3.12/site-packages/matplotlib/axes/_base.py:486\u001b[39m, in \u001b[36m_process_plot_var_args._plot_args\u001b[39m\u001b[34m(self, axes, tup, kwargs, return_kwargs, ambiguous_fmt_datakey)\u001b[39m\n\u001b[32m    484\u001b[39m     y = _check_1d(xy[\u001b[32m1\u001b[39m])\n\u001b[32m    485\u001b[39m \u001b[38;5;28;01melse\u001b[39;00m:\n\u001b[32m--> \u001b[39m\u001b[32m486\u001b[39m     x, y = \u001b[43mindex_of\u001b[49m\u001b[43m(\u001b[49m\u001b[43mxy\u001b[49m\u001b[43m[\u001b[49m\u001b[43m-\u001b[49m\u001b[32;43m1\u001b[39;49m\u001b[43m]\u001b[49m\u001b[43m)\u001b[49m\n\u001b[32m    488\u001b[39m \u001b[38;5;28;01mif\u001b[39;00m axes.xaxis \u001b[38;5;129;01mis\u001b[39;00m \u001b[38;5;129;01mnot\u001b[39;00m \u001b[38;5;28;01mNone\u001b[39;00m:\n\u001b[32m    489\u001b[39m     axes.xaxis.update_units(x)\n",
      "\u001b[36mFile \u001b[39m\u001b[32m~/PFam-Annotation/.venv/lib/python3.12/site-packages/matplotlib/cbook.py:1676\u001b[39m, in \u001b[36mindex_of\u001b[39m\u001b[34m(y)\u001b[39m\n\u001b[32m   1674\u001b[39m     \u001b[38;5;28;01mpass\u001b[39;00m\n\u001b[32m   1675\u001b[39m \u001b[38;5;28;01mtry\u001b[39;00m:\n\u001b[32m-> \u001b[39m\u001b[32m1676\u001b[39m     y = \u001b[43m_check_1d\u001b[49m\u001b[43m(\u001b[49m\u001b[43my\u001b[49m\u001b[43m)\u001b[49m\n\u001b[32m   1677\u001b[39m \u001b[38;5;28;01mexcept\u001b[39;00m (VisibleDeprecationWarning, \u001b[38;5;167;01mValueError\u001b[39;00m):\n\u001b[32m   1678\u001b[39m     \u001b[38;5;66;03m# NumPy 1.19 will warn on ragged input, and we can't actually use it.\u001b[39;00m\n\u001b[32m   1679\u001b[39m     \u001b[38;5;28;01mpass\u001b[39;00m\n",
      "\u001b[36mFile \u001b[39m\u001b[32m~/PFam-Annotation/.venv/lib/python3.12/site-packages/matplotlib/cbook.py:1368\u001b[39m, in \u001b[36m_check_1d\u001b[39m\u001b[34m(x)\u001b[39m\n\u001b[32m   1362\u001b[39m \u001b[38;5;66;03m# plot requires `shape` and `ndim`.  If passed an\u001b[39;00m\n\u001b[32m   1363\u001b[39m \u001b[38;5;66;03m# object that doesn't provide them, then force to numpy array.\u001b[39;00m\n\u001b[32m   1364\u001b[39m \u001b[38;5;66;03m# Note this will strip unit information.\u001b[39;00m\n\u001b[32m   1365\u001b[39m \u001b[38;5;28;01mif\u001b[39;00m (\u001b[38;5;129;01mnot\u001b[39;00m \u001b[38;5;28mhasattr\u001b[39m(x, \u001b[33m'\u001b[39m\u001b[33mshape\u001b[39m\u001b[33m'\u001b[39m) \u001b[38;5;129;01mor\u001b[39;00m\n\u001b[32m   1366\u001b[39m         \u001b[38;5;129;01mnot\u001b[39;00m \u001b[38;5;28mhasattr\u001b[39m(x, \u001b[33m'\u001b[39m\u001b[33mndim\u001b[39m\u001b[33m'\u001b[39m) \u001b[38;5;129;01mor\u001b[39;00m\n\u001b[32m   1367\u001b[39m         \u001b[38;5;28mlen\u001b[39m(x.shape) < \u001b[32m1\u001b[39m):\n\u001b[32m-> \u001b[39m\u001b[32m1368\u001b[39m     \u001b[38;5;28;01mreturn\u001b[39;00m \u001b[43mnp\u001b[49m\u001b[43m.\u001b[49m\u001b[43matleast_1d\u001b[49m\u001b[43m(\u001b[49m\u001b[43mx\u001b[49m\u001b[43m)\u001b[49m\n\u001b[32m   1369\u001b[39m \u001b[38;5;28;01melse\u001b[39;00m:\n\u001b[32m   1370\u001b[39m     \u001b[38;5;28;01mreturn\u001b[39;00m x\n",
      "\u001b[36mFile \u001b[39m\u001b[32m~/PFam-Annotation/.venv/lib/python3.12/site-packages/numpy/_core/shape_base.py:63\u001b[39m, in \u001b[36matleast_1d\u001b[39m\u001b[34m(*arys)\u001b[39m\n\u001b[32m     23\u001b[39m \u001b[38;5;250m\u001b[39m\u001b[33;03m\"\"\"\u001b[39;00m\n\u001b[32m     24\u001b[39m \u001b[33;03mConvert inputs to arrays with at least one dimension.\u001b[39;00m\n\u001b[32m     25\u001b[39m \n\u001b[32m   (...)\u001b[39m\u001b[32m     60\u001b[39m \n\u001b[32m     61\u001b[39m \u001b[33;03m\"\"\"\u001b[39;00m\n\u001b[32m     62\u001b[39m \u001b[38;5;28;01mif\u001b[39;00m \u001b[38;5;28mlen\u001b[39m(arys) == \u001b[32m1\u001b[39m:\n\u001b[32m---> \u001b[39m\u001b[32m63\u001b[39m     result = \u001b[43masanyarray\u001b[49m\u001b[43m(\u001b[49m\u001b[43marys\u001b[49m\u001b[43m[\u001b[49m\u001b[32;43m0\u001b[39;49m\u001b[43m]\u001b[49m\u001b[43m)\u001b[49m\n\u001b[32m     64\u001b[39m     \u001b[38;5;28;01mif\u001b[39;00m result.ndim == \u001b[32m0\u001b[39m:\n\u001b[32m     65\u001b[39m         result = result.reshape(\u001b[32m1\u001b[39m)\n",
      "\u001b[36mFile \u001b[39m\u001b[32m~/PFam-Annotation/.venv/lib/python3.12/site-packages/torch/_tensor.py:1226\u001b[39m, in \u001b[36mTensor.__array__\u001b[39m\u001b[34m(self, dtype)\u001b[39m\n\u001b[32m   1224\u001b[39m     \u001b[38;5;28;01mreturn\u001b[39;00m handle_torch_function(Tensor.__array__, (\u001b[38;5;28mself\u001b[39m,), \u001b[38;5;28mself\u001b[39m, dtype=dtype)\n\u001b[32m   1225\u001b[39m \u001b[38;5;28;01mif\u001b[39;00m dtype \u001b[38;5;129;01mis\u001b[39;00m \u001b[38;5;28;01mNone\u001b[39;00m:\n\u001b[32m-> \u001b[39m\u001b[32m1226\u001b[39m     \u001b[38;5;28;01mreturn\u001b[39;00m \u001b[38;5;28;43mself\u001b[39;49m\u001b[43m.\u001b[49m\u001b[43mnumpy\u001b[49m\u001b[43m(\u001b[49m\u001b[43m)\u001b[49m\n\u001b[32m   1227\u001b[39m \u001b[38;5;28;01melse\u001b[39;00m:\n\u001b[32m   1228\u001b[39m     \u001b[38;5;28;01mreturn\u001b[39;00m \u001b[38;5;28mself\u001b[39m.numpy().astype(dtype, copy=\u001b[38;5;28;01mFalse\u001b[39;00m)\n",
      "\u001b[31mTypeError\u001b[39m: can't convert cuda:0 device type tensor to numpy. Use Tensor.cpu() to copy the tensor to host memory first."
     ]
    },
    {
     "data": {
      "image/png": "[encoded data removed]",
      "text/plain": [
       "<Figure size 640x480 with 2 Axes>"
      ]
     },
     "metadata": {},
     "output_type": "display_data"
    }
   ],
   "source": [
    "import matplotlib.pyplot as plt\n",
    "\n",
    "fig, ax = plt.subplots(1, 2)\n",
    "ax[0].plot(loss_histories[\"train\"], label=\"train\")\n",
    "ax[0].plot(loss_histories[\"valid\"], label=\"valid\")\n",
    "ax[0].legend()\n",
    "ax[1].plot(acc_histories[\"train\"], label=\"train\")\n",
    "ax[1].plot(acc_histories[\"valid\"], label=\"valid\")\n",
    "ax[1].legend();"
   ]
  },
  {
   "cell_type": "code",
   "execution_count": 75,
   "id": "0390a7bb",
   "metadata": {},
   "outputs": [
    {
     "data": {
      "application/vnd.jupyter.widget-view+json": {
       "model_id": "a24c9ad8595c433ba6ce24410f89e72e",
       "version_major": 2,
       "version_minor": 0
      },
      "text/plain": [
       "  0%|          | 0/518 [00:00<?, ?it/s]"
      ]
     },
     "metadata": {},
     "output_type": "display_data"
    },
    {
     "name": "stdout",
     "output_type": "stream",
     "text": [
      "Epoch: 0, train loss: 2.2294, val_loss: 1.0935, val_acc 0.8818\n"
     ]
    },
    {
     "data": {
      "application/vnd.jupyter.widget-view+json": {
       "model_id": "49a6187bc0df461e8b2a498c8e1ec729",
       "version_major": 2,
       "version_minor": 0
      },
      "text/plain": [
       "  0%|          | 0/518 [00:00<?, ?it/s]"
      ]
     },
     "metadata": {},
     "output_type": "display_data"
    },
    {
     "name": "stdout",
     "output_type": "stream",
     "text": [
      "Epoch: 1, train loss: 0.6723, val_loss: 0.3908, val_acc 0.9600\n"
     ]
    },
    {
     "data": {
      "application/vnd.jupyter.widget-view+json": {
       "model_id": "28f0f019bac24380ae930f79c2fe2b3c",
       "version_major": 2,
       "version_minor": 0
      },
      "text/plain": [
       "  0%|          | 0/518 [00:00<?, ?it/s]"
      ]
     },
     "metadata": {},
     "output_type": "display_data"
    },
    {
     "name": "stdout",
     "output_type": "stream",
     "text": [
      "Epoch: 2, train loss: 0.2861, val_loss: 0.2074, val_acc 0.9753\n"
     ]
    },
    {
     "data": {
      "application/vnd.jupyter.widget-view+json": {
       "model_id": "06c9d2481505420db9b505da816790ec",
       "version_major": 2,
       "version_minor": 0
      },
      "text/plain": [
       "  0%|          | 0/518 [00:00<?, ?it/s]"
      ]
     },
     "metadata": {},
     "output_type": "display_data"
    },
    {
     "name": "stdout",
     "output_type": "stream",
     "text": [
      "Epoch: 3, train loss: 0.1634, val_loss: 0.1302, val_acc 0.9828\n"
     ]
    },
    {
     "data": {
      "application/vnd.jupyter.widget-view+json": {
       "model_id": "1561a43a816245d7b9a348fe4893c2f0",
       "version_major": 2,
       "version_minor": 0
      },
      "text/plain": [
       "  0%|          | 0/518 [00:00<?, ?it/s]"
      ]
     },
     "metadata": {},
     "output_type": "display_data"
    },
    {
     "name": "stdout",
     "output_type": "stream",
     "text": [
      "Epoch: 4, train loss: 0.1079, val_loss: 0.0936, val_acc 0.9864\n"
     ]
    },
    {
     "data": {
      "application/vnd.jupyter.widget-view+json": {
       "model_id": "c95033af25264d3896e431547ddd54e7",
       "version_major": 2,
       "version_minor": 0
      },
      "text/plain": [
       "  0%|          | 0/518 [00:00<?, ?it/s]"
      ]
     },
     "metadata": {},
     "output_type": "display_data"
    },
    {
     "name": "stdout",
     "output_type": "stream",
     "text": [
      "Epoch: 5, train loss: 0.0769, val_loss: 0.0691, val_acc 0.9899\n"
     ]
    },
    {
     "data": {
      "application/vnd.jupyter.widget-view+json": {
       "model_id": "14e196045d744a9e8a58d9d1fc35a647",
       "version_major": 2,
       "version_minor": 0
      },
      "text/plain": [
       "  0%|          | 0/518 [00:00<?, ?it/s]"
      ]
     },
     "metadata": {},
     "output_type": "display_data"
    },
    {
     "name": "stdout",
     "output_type": "stream",
     "text": [
      "Epoch: 6, train loss: 0.0577, val_loss: 0.0562, val_acc 0.9896\n"
     ]
    },
    {
     "data": {
      "application/vnd.jupyter.widget-view+json": {
       "model_id": "45e7c68bcf9b4890acbb7ade24430973",
       "version_major": 2,
       "version_minor": 0
      },
      "text/plain": [
       "  0%|          | 0/518 [00:00<?, ?it/s]"
      ]
     },
     "metadata": {},
     "output_type": "display_data"
    },
    {
     "name": "stdout",
     "output_type": "stream",
     "text": [
      "Epoch: 7, train loss: 0.0446, val_loss: 0.0484, val_acc 0.9918\n"
     ]
    },
    {
     "data": {
      "application/vnd.jupyter.widget-view+json": {
       "model_id": "a9499b137e824cb4ad204baa5649bfe4",
       "version_major": 2,
       "version_minor": 0
      },
      "text/plain": [
       "  0%|          | 0/518 [00:00<?, ?it/s]"
      ]
     },
     "metadata": {},
     "output_type": "display_data"
    },
    {
     "name": "stdout",
     "output_type": "stream",
     "text": [
      "Epoch: 8, train loss: 0.0347, val_loss: 0.0394, val_acc 0.9928\n"
     ]
    },
    {
     "data": {
      "application/vnd.jupyter.widget-view+json": {
       "model_id": "8759a475f1684ed09be22a4859e85c8b",
       "version_major": 2,
       "version_minor": 0
      },
      "text/plain": [
       "  0%|          | 0/518 [00:00<?, ?it/s]"
      ]
     },
     "metadata": {},
     "output_type": "display_data"
    },
    {
     "name": "stdout",
     "output_type": "stream",
     "text": [
      "Epoch: 9, train loss: 0.0283, val_loss: 0.0363, val_acc 0.9919\n"
     ]
    }
   ],
   "source": [
    "class AttentionBlock(nn.Module):\n",
    "    def __init__(self, n_embed, n_head=4):\n",
    "        super().__init__()\n",
    "        self.n_embed = n_embed\n",
    "        self.n_head = n_head\n",
    "\n",
    "        self.attn = nn.Linear(\n",
    "            n_embed, 3 * n_embed\n",
    "        )  # output keys, queries, values in one contiguous tensor\n",
    "        self.proj = nn.Linear(n_embed, n_embed)\n",
    "\n",
    "    def forward(self, x):\n",
    "        B, T, C = x.size()\n",
    "        qkv = self.attn(x)\n",
    "        q, k, v = qkv.chunk(3, dim=2)\n",
    "\n",
    "        q = q.view(B, T, self.n_head, C // self.n_head).transpose(1, 2)\n",
    "        k = k.view(B, T, self.n_head, C // self.n_head).transpose(1, 2)\n",
    "        v = v.view(B, T, self.n_head, C // self.n_head).transpose(1, 2)\n",
    "\n",
    "        out = F.scaled_dot_product_attention(q, k, v)\n",
    "        out = out.transpose(1, 2).contiguous().view(B, T, C)\n",
    "        out = self.proj(out)\n",
    "        return out\n",
    "\n",
    "\n",
    "class Transformer(nn.Module):\n",
    "    def __init__(self, vocab_size, input_size, hidden_size, out_size):\n",
    "        # input_size - seq len\n",
    "        # -> should be vocab size\n",
    "        # hidden_size - embedding dimension\n",
    "        # out_size - n_classes\n",
    "        super().__init__()\n",
    "        self.input_size = input_size\n",
    "        self.vocab_size = vocab_size\n",
    "        self.hidden_size = hidden_size\n",
    "        self.out_size = out_size\n",
    "\n",
    "        self.emb = nn.Embedding(vocab_size, hidden_size)\n",
    "        self.pos = nn.Embedding(input_size, hidden_size)\n",
    "\n",
    "        self.attention = AttentionBlock(hidden_size, n_head=4)\n",
    "        self.ln = nn.LayerNorm(hidden_size)\n",
    "        self.fc = MLPClassifier(\n",
    "            input_size=hidden_size, hidden_size=hidden_size, out_size=out_size\n",
    "        )\n",
    "\n",
    "        self.register_buffer(\n",
    "            \"pos_idx\", torch.arange(input_size, dtype=torch.long), persistent=False\n",
    "        )\n",
    "\n",
    "    def forward(self, x, y=None):\n",
    "        out = self.emb(x) + self.pos(self.pos_idx)\n",
    "\n",
    "        out = self.attention(out + self.ln(out)).mean(dim=1)\n",
    "\n",
    "        logits, loss, preds, probs = self.fc(out, y)\n",
    "\n",
    "        return logits, loss, preds, probs\n",
    "\n",
    "\n",
    "model = Transformer(\n",
    "    vocab_size=VOCAB_SIZE,\n",
    "    input_size=MAX_SEQ_LEN,\n",
    "    hidden_size=MAX_SEQ_LEN // 2,\n",
    "    out_size=N_CLASSES,\n",
    ").to(device)\n",
    "\n",
    "optimizer = torch.optim.AdamW(model.parameters(), lr=1e-4, weight_decay=1e-5)\n",
    "\n",
    "n_epochs = 10\n",
    "loss_histories = defaultdict(list)\n",
    "acc_histories = defaultdict(list)\n",
    "\n",
    "X_valid = X_valid.to(device)\n",
    "y_valid = y_valid.to(device)\n",
    "\n",
    "for epoch in range(n_epochs):\n",
    "    train_loss = 0\n",
    "    for step, batch in enumerate(tqdm(dataloader)):\n",
    "        xb, yb = batch\n",
    "        xb = xb.to(device)\n",
    "        yb = yb.to(device)\n",
    "        logits, loss, _, _ = model(xb, yb)\n",
    "        train_loss += loss.item()\n",
    "\n",
    "        optimizer.zero_grad()\n",
    "        loss.backward()\n",
    "        optimizer.step()\n",
    "\n",
    "    model.eval()\n",
    "    with torch.no_grad():\n",
    "        train_loss /= len(dataloader)\n",
    "        loss_histories[\"train\"].append(train_loss)\n",
    "\n",
    "        val_logits, val_loss, y_pred, _ = model(X_valid, y_valid)\n",
    "        loss_histories[\"valid\"].append(val_loss)\n",
    "\n",
    "        val_acc = balanced_accuracy_score(y_valid.cpu(), y_pred.cpu())\n",
    "        tqdm.write(\n",
    "            f\"Epoch: {epoch}, train loss: {train_loss:.4f}, val_loss: {val_loss:.4f}, val_acc {val_acc:.4f}\"\n",
    "        )\n",
    "    model.train()"
   ]
  },
  {
   "cell_type": "code",
   "execution_count": 17,
   "id": "d0b0b075",
   "metadata": {},
   "outputs": [
    {
     "name": "stderr",
     "output_type": "stream",
     "text": [
      "Some weights of EsmModel were not initialized from the model checkpoint at facebook/esm2_t6_8M_UR50D and are newly initialized: ['pooler.dense.bias', 'pooler.dense.weight']\n",
      "You should probably TRAIN this model on a down-stream task to be able to use it for predictions and inference.\n"
     ]
    },
    {
     "data": {
      "application/vnd.jupyter.widget-view+json": {
       "model_id": "e1b55bc3dcd4401f8cef4849bb3d8954",
       "version_major": 2,
       "version_minor": 0
      },
      "text/plain": [
       "  0%|          | 0/1035 [00:00<?, ?it/s]"
      ]
     },
     "metadata": {},
     "output_type": "display_data"
    },
    {
     "data": {
      "application/vnd.jupyter.widget-view+json": {
       "model_id": "da6d0231f04848779c45fc9eb06d3804",
       "version_major": 2,
       "version_minor": 0
      },
      "text/plain": [
       "  0%|          | 0/129 [00:00<?, ?it/s]"
      ]
     },
     "metadata": {},
     "output_type": "display_data"
    },
    {
     "data": {
      "application/vnd.jupyter.widget-view+json": {
       "model_id": "f3f500b6d04c423cb6c7f8b61ce96b25",
       "version_major": 2,
       "version_minor": 0
      },
      "text/plain": [
       "  0%|          | 0/129 [00:00<?, ?it/s]"
      ]
     },
     "metadata": {},
     "output_type": "display_data"
    }
   ],
   "source": [
    "from transformers import AutoTokenizer, EsmModel\n",
    "import math\n",
    "\n",
    "\n",
    "model_id = \"facebook/esm2_t6_8M_UR50D\"\n",
    "# device = \"mps\"\n",
    "tok = AutoTokenizer.from_pretrained(model_id, do_lower_case=False)\n",
    "model = EsmModel.from_pretrained(model_id).to(device)\n",
    "\n",
    "model.eval()\n",
    "\n",
    "CLS_TOKEN_ID = tok.cls_token_id\n",
    "\n",
    "\n",
    "def convert_to_embeddings(df, batch_size=64):\n",
    "    n_batches = math.ceil(len(df) / batch_size)\n",
    "    embeddings_list = []\n",
    "    with torch.no_grad():\n",
    "        for batch in tqdm(range(n_batches)):\n",
    "            start = batch * batch_size\n",
    "            end = min(len(df), (batch + 1) * batch_size)\n",
    "            batch = tok(list(df[\"sequence\"].iloc[start:end]), return_tensors=\"pt\")\n",
    "\n",
    "            out = model(**batch.to(device))\n",
    "            batch_embeddings = out.last_hidden_state[:, CLS_TOKEN_ID, :]\n",
    "            embeddings_list.append(batch_embeddings.cpu())\n",
    "\n",
    "    return torch.concat(embeddings_list)\n",
    "\n",
    "\n",
    "batch_size = 64\n",
    "train_embeddings = convert_to_embeddings(train_df, batch_size=batch_size)\n",
    "valid_embeddings = convert_to_embeddings(valid_df, batch_size=batch_size)\n",
    "test_embeddings = convert_to_embeddings(test_df, batch_size=batch_size)"
   ]
  },
  {
   "cell_type": "code",
   "execution_count": 21,
   "id": "d852092e",
   "metadata": {},
   "outputs": [
    {
     "name": "stdout",
     "output_type": "stream",
     "text": [
      "torch.Size([66226, 320])\n",
      "torch.Size([8249, 320])\n",
      "torch.Size([8242, 320])\n"
     ]
    }
   ],
   "source": [
    "print(train_embeddings.shape)\n",
    "print(valid_embeddings.shape)\n",
    "print(test_embeddings.shape)"
   ]
  },
  {
   "cell_type": "code",
   "execution_count": 21,
   "id": "fb03224b",
   "metadata": {},
   "outputs": [],
   "source": [
    "path = \"data/esm_embeddings\"\n",
    "\n",
    "torch.save(train_embeddings, f\"{path}/train_embeddings.pt\")\n",
    "torch.save(valid_embeddings, f\"{path}/valid_embeddings.pt\")\n",
    "torch.save(test_embeddings, f\"{path}/test_embeddings.pt\")"
   ]
  },
  {
   "cell_type": "code",
   "execution_count": 76,
   "id": "5159f9ea",
   "metadata": {},
   "outputs": [
    {
     "data": {
      "application/vnd.jupyter.widget-view+json": {
       "model_id": "379873ab179541ce97eea39b8eeae23c",
       "version_major": 2,
       "version_minor": 0
      },
      "text/plain": [
       "  0%|          | 0/518 [00:00<?, ?it/s]"
      ]
     },
     "metadata": {},
     "output_type": "display_data"
    },
    {
     "name": "stdout",
     "output_type": "stream",
     "text": [
      "Epoch 0, val_acc 0.872\n"
     ]
    },
    {
     "data": {
      "application/vnd.jupyter.widget-view+json": {
       "model_id": "383600fd12c047a4a39f9a8e483ef77b",
       "version_major": 2,
       "version_minor": 0
      },
      "text/plain": [
       "  0%|          | 0/518 [00:00<?, ?it/s]"
      ]
     },
     "metadata": {},
     "output_type": "display_data"
    },
    {
     "name": "stdout",
     "output_type": "stream",
     "text": [
      "Epoch 1, val_acc 0.957\n"
     ]
    },
    {
     "data": {
      "application/vnd.jupyter.widget-view+json": {
       "model_id": "c7723ffd82584c06a85056e477b1722c",
       "version_major": 2,
       "version_minor": 0
      },
      "text/plain": [
       "  0%|          | 0/518 [00:00<?, ?it/s]"
      ]
     },
     "metadata": {},
     "output_type": "display_data"
    },
    {
     "name": "stdout",
     "output_type": "stream",
     "text": [
      "Epoch 2, val_acc 0.975\n"
     ]
    },
    {
     "data": {
      "application/vnd.jupyter.widget-view+json": {
       "model_id": "6bc6a11663c247078411f2cf835f9f42",
       "version_major": 2,
       "version_minor": 0
      },
      "text/plain": [
       "  0%|          | 0/518 [00:00<?, ?it/s]"
      ]
     },
     "metadata": {},
     "output_type": "display_data"
    },
    {
     "name": "stdout",
     "output_type": "stream",
     "text": [
      "Epoch 3, val_acc 0.983\n"
     ]
    },
    {
     "data": {
      "application/vnd.jupyter.widget-view+json": {
       "model_id": "d48d3231b5d146afa817e5a6c0367a59",
       "version_major": 2,
       "version_minor": 0
      },
      "text/plain": [
       "  0%|          | 0/518 [00:00<?, ?it/s]"
      ]
     },
     "metadata": {},
     "output_type": "display_data"
    },
    {
     "name": "stdout",
     "output_type": "stream",
     "text": [
      "Epoch 4, val_acc 0.987\n"
     ]
    },
    {
     "data": {
      "application/vnd.jupyter.widget-view+json": {
       "model_id": "7de094ba8d834721b632469e3a1bc9b3",
       "version_major": 2,
       "version_minor": 0
      },
      "text/plain": [
       "  0%|          | 0/518 [00:00<?, ?it/s]"
      ]
     },
     "metadata": {},
     "output_type": "display_data"
    },
    {
     "name": "stdout",
     "output_type": "stream",
     "text": [
      "Epoch 5, val_acc 0.989\n"
     ]
    },
    {
     "data": {
      "application/vnd.jupyter.widget-view+json": {
       "model_id": "151266427c544d82863cb6e2d420cc76",
       "version_major": 2,
       "version_minor": 0
      },
      "text/plain": [
       "  0%|          | 0/518 [00:00<?, ?it/s]"
      ]
     },
     "metadata": {},
     "output_type": "display_data"
    },
    {
     "name": "stdout",
     "output_type": "stream",
     "text": [
      "Epoch 6, val_acc 0.990\n"
     ]
    },
    {
     "data": {
      "application/vnd.jupyter.widget-view+json": {
       "model_id": "b7190f44cfac43e7841e6f7ec483cd9d",
       "version_major": 2,
       "version_minor": 0
      },
      "text/plain": [
       "  0%|          | 0/518 [00:00<?, ?it/s]"
      ]
     },
     "metadata": {},
     "output_type": "display_data"
    },
    {
     "name": "stdout",
     "output_type": "stream",
     "text": [
      "Epoch 7, val_acc 0.990\n"
     ]
    },
    {
     "data": {
      "application/vnd.jupyter.widget-view+json": {
       "model_id": "b9c60303936346b491546737a615af12",
       "version_major": 2,
       "version_minor": 0
      },
      "text/plain": [
       "  0%|          | 0/518 [00:00<?, ?it/s]"
      ]
     },
     "metadata": {},
     "output_type": "display_data"
    },
    {
     "name": "stdout",
     "output_type": "stream",
     "text": [
      "Epoch 8, val_acc 0.990\n"
     ]
    },
    {
     "data": {
      "application/vnd.jupyter.widget-view+json": {
       "model_id": "ba855dd64ed743659aae4b95c62229f9",
       "version_major": 2,
       "version_minor": 0
      },
      "text/plain": [
       "  0%|          | 0/518 [00:00<?, ?it/s]"
      ]
     },
     "metadata": {},
     "output_type": "display_data"
    },
    {
     "name": "stdout",
     "output_type": "stream",
     "text": [
      "Epoch 9, val_acc 0.991\n"
     ]
    }
   ],
   "source": [
    "model = MLPClassifier(\n",
    "    input_size=train_embeddings.shape[1], hidden_size=128, out_size=N_CLASSES\n",
    ").to(device)\n",
    "optim = torch.optim.Adam(model.parameters(), lr=1e-4, weight_decay=1e-5)\n",
    "dataloader = DataLoader(TensorDataset(train_embeddings, y_train), batch_size=128)\n",
    "\n",
    "epochs = 10\n",
    "valid_embeddings = valid_embeddings.to(device)\n",
    "for epoch in range(epochs):\n",
    "    for step, batch in enumerate(tqdm(dataloader)):\n",
    "        xb, yb = batch\n",
    "        xb = xb.to(device)\n",
    "        yb = yb.to(device)\n",
    "        logits, loss, preds, probs = model(xb, yb)\n",
    "\n",
    "        optim.zero_grad()\n",
    "        loss.backward()\n",
    "        optim.step()\n",
    "\n",
    "    with torch.no_grad():\n",
    "        model.eval()\n",
    "        val_pred = model(valid_embeddings, y_valid)[2].view(-1)\n",
    "        val_acc = balanced_accuracy_score(y_valid.cpu(), val_pred.cpu())\n",
    "        print(f\"Epoch {epoch}, val_acc {val_acc:.3f}\")\n",
    "        model.train()\n",
    "\n",
    "        # print((y_valid.cpu()))\n",
    "        # print(torch.unique(val_pred.cpu()).intersection(set(y_valid.cpu())))"
   ]
  },
  {
   "cell_type": "code",
   "execution_count": null,
   "id": "2b6b4cd3",
   "metadata": {},
   "outputs": [],
   "source": []
  }
 ],
 "metadata": {
  "kernelspec": {
   "display_name": "PFam-Annotation",
   "language": "python",
   "name": "python3"
  },
  "language_info": {
   "codemirror_mode": {
    "name": "ipython",
    "version": 3
   },
   "file_extension": ".py",
   "mimetype": "text/x-python",
   "name": "python",
   "nbconvert_exporter": "python",
   "pygments_lexer": "ipython3",
   "version": "3.12.7"
  }
 },
 "nbformat": 4,
 "nbformat_minor": 5
}
